{
 "cells": [
  {
   "cell_type": "markdown",
   "metadata": {},
   "source": [
    "# Profiling results for original  code"
   ]
  },
  {
   "cell_type": "code",
   "execution_count": 2,
   "metadata": {},
   "outputs": [
    {
     "name": "stdout",
     "output_type": "stream",
     "text": [
      "Overwriting rna_translation.py\n"
     ]
    }
   ],
   "source": [
    "%%file rna_translation.py\n",
    "\n",
    "import sys\n",
    "\n",
    "try:\n",
    "    profile\n",
    "except:\n",
    "    profile = lambda f: f\n",
    "\n",
    "    \n",
    "triplets_txt = \"\"\"UUU CUU AUU GUU UUC CUC AUC GUC UUA CUA AUA GUA\n",
    "                  UUG CUG AUG GUG UCU CCU ACU GCU UCC CCC ACC GCC\n",
    "                  UCA CCA ACA GCA UCG CCG ACG GCG UAU CAU AAU GAU\n",
    "                  UAC CAC AAC GAC UAA CAA AAA GAA UAG CAG AAG GAG\n",
    "                  UGU CGU AGU GGU UGC CGC AGC GGC UGA CGA AGA GGA\n",
    "                  UGG CGG AGG GGG\"\"\"\n",
    "\n",
    "aas_txt = \"\"\"F L I V F L I V L L I V L L M V S P T A S P T A S P\n",
    "             T A S P T A Y H N D Y H N D . Q K E . Q K E C R S G\n",
    "             C R S G . R R G W R R G\"\"\"\n",
    "\n",
    "\n",
    "def remove_whitespace(txt):\n",
    "    # remove spaces and line breaks from string\n",
    "    return txt.replace(\" \", \"\").replace(\"\\n\", \"\")\n",
    "\n",
    "\n",
    "def translate(rna_sequence):\n",
    "    \"\"\"\n",
    "    uses codon table to translate rna sequence.\n",
    "    example:\n",
    "\n",
    "    UUU AUC GUU -> F I V\n",
    "\n",
    "    spaces can be omitted.\n",
    "    \"\"\"\n",
    "    \n",
    "    # cleanup\n",
    "    rna_sequence = remove_whitespace(rna_sequence)\n",
    "\n",
    "    aas = \"\"\n",
    "    for start_idx in range(0, len(rna_sequence), 3):\n",
    "        triplet = rna_sequence[start_idx : start_idx + 3]\n",
    "        aa = lookup_aa(triplet)\n",
    "        aas += aa\n",
    "    return aas\n",
    "\n",
    "\n",
    "@profile\n",
    "def lookup_aa(triplet):\n",
    "    \"\"\"finds aa symbol for given triplet.\n",
    "    returns 'X' for invalid triplet\"\"\"\n",
    "    \n",
    "    # cleanup the multiline strings\n",
    "    triplets = remove_whitespace(triplets_txt)\n",
    "    aas = remove_whitespace(aas_txt)\n",
    "\n",
    "    if triplet not in triplets:\n",
    "        return \"X\"\n",
    "    start_idx = triplets.index(triplet)\n",
    "    return aas[start_idx // 3]\n",
    "\n",
    "\n",
    "long_sequence = 20_000 * remove_whitespace(triplets_txt)\n",
    "translate(long_sequence)"
   ]
  },
  {
   "cell_type": "code",
   "execution_count": 3,
   "metadata": {},
   "outputs": [
    {
     "name": "stdout",
     "output_type": "stream",
     "text": [
      "\n",
      "real\t0m7.592s\n",
      "user\t0m7.537s\n",
      "sys\t0m0.033s\n"
     ]
    }
   ],
   "source": [
    "!time python rna_translation.py"
   ]
  },
  {
   "cell_type": "code",
   "execution_count": 4,
   "metadata": {},
   "outputs": [
    {
     "name": "stdout",
     "output_type": "stream",
     "text": [
      "\n",
      "  _     ._   __/__   _ _  _  _ _/_   Recorded: 20:50:56  Samples:  8459\n",
      " /_//_/// /_\\ / //_// / //_'/ //     Duration: 8.471     CPU time: 8.452\n",
      "/   _/                      v3.3.0\n",
      "\n",
      "Program: rna_translation.py\n",
      "\n",
      "\u001b[31m8.470\u001b[0m \u001b[48;5;24m\u001b[38;5;15m<module>\u001b[0m  \u001b[2mrna_translation.py:2\u001b[0m\n",
      "└─ \u001b[31m8.468\u001b[0m \u001b[48;5;24m\u001b[38;5;15mtranslate\u001b[0m  \u001b[2mrna_translation.py:27\u001b[0m\n",
      "   ├─ \u001b[31m7.913\u001b[0m \u001b[48;5;24m\u001b[38;5;15mlookup_aa\u001b[0m  \u001b[2mrna_translation.py:48\u001b[0m\n",
      "   │  ├─ \u001b[31m6.841\u001b[0m \u001b[48;5;24m\u001b[38;5;15mremove_whitespace\u001b[0m  \u001b[2mrna_translation.py:22\u001b[0m\n",
      "   │  │  ├─ \u001b[31m6.333\u001b[0m str.replace\u001b[0m  \u001b[2m<built-in>:0\u001b[0m\n",
      "   │  │  └─ \u001b[32m0.508\u001b[0m [self]\u001b[0m  \u001b[2m\u001b[0m\n",
      "   │  ├─ \u001b[32m0.720\u001b[0m [self]\u001b[0m  \u001b[2m\u001b[0m\n",
      "   │  └─ \u001b[92m\u001b[2m0.352\u001b[0m str.index\u001b[0m  \u001b[2m<built-in>:0\u001b[0m\n",
      "   └─ \u001b[32m0.551\u001b[0m [self]\u001b[0m  \u001b[2m\u001b[0m\n",
      "\n",
      "To view this report with different options, run:\n",
      "    pyinstrument --load-prev 2021-01-16T20-50-56 [options]\n",
      "\n"
     ]
    }
   ],
   "source": [
    "!pyinstrument rna_translation.py"
   ]
  },
  {
   "cell_type": "markdown",
   "metadata": {},
   "source": [
    "We can see that the majority of the time is spent in `str.replace` within `remove_whitespace`. Let's check it with line-profiler too:"
   ]
  },
  {
   "cell_type": "code",
   "execution_count": 5,
   "metadata": {},
   "outputs": [
    {
     "name": "stdout",
     "output_type": "stream",
     "text": [
      "Wrote profile results to rna_translation.py.lprof\n",
      "Timer unit: 1e-06 s\n",
      "\n",
      "Total time: 9.83939 s\n",
      "File: rna_translation.py\n",
      "Function: lookup_aa at line 48\n",
      "\n",
      "Line #      Hits         Time  Per Hit   % Time  Line Contents\n",
      "==============================================================\n",
      "    48                                           @profile\n",
      "    49                                           def lookup_aa(triplet):\n",
      "    50                                               \"\"\"finds aa symbol for given triplet.\n",
      "    51                                               returns 'X' for invalid triplet\"\"\"\n",
      "    52                                               \n",
      "    53                                               # cleanup the multiline strings\n",
      "    54   1280000    4721622.0      3.7     48.0      triplets = remove_whitespace(triplets_txt)\n",
      "    55   1280000    3246243.0      2.5     33.0      aas = remove_whitespace(aas_txt)\n",
      "    56                                           \n",
      "    57   1280000     595546.0      0.5      6.1      if triplet not in triplets:\n",
      "    58                                                   return \"X\"\n",
      "    59   1280000     799127.0      0.6      8.1      start_idx = triplets.index(triplet)\n",
      "    60   1280000     476850.0      0.4      4.8      return aas[start_idx // 3]\n",
      "\n"
     ]
    }
   ],
   "source": [
    "!kernprof -vl rna_translation.py"
   ]
  },
  {
   "cell_type": "markdown",
   "metadata": {},
   "source": [
    "# First improvement"
   ]
  },
  {
   "cell_type": "markdown",
   "metadata": {},
   "source": [
    "We can see that `remove_whitespace` is called 128000 for both arguments times! Since the inputs and outputs will not change for each call of `lookup_aa`, we can try to move this call outside of `lookup_aa`:"
   ]
  },
  {
   "cell_type": "code",
   "execution_count": 6,
   "metadata": {},
   "outputs": [
    {
     "name": "stdout",
     "output_type": "stream",
     "text": [
      "Overwriting rna_translation_2.py\n"
     ]
    }
   ],
   "source": [
    "%%file rna_translation_2.py\n",
    "\n",
    "import sys\n",
    "\n",
    "try:\n",
    "    profile\n",
    "except:\n",
    "    profile = lambda f: f\n",
    "\n",
    "    \n",
    "triplets_txt = \"\"\"UUU CUU AUU GUU UUC CUC AUC GUC UUA CUA AUA GUA\n",
    "                  UUG CUG AUG GUG UCU CCU ACU GCU UCC CCC ACC GCC\n",
    "                  UCA CCA ACA GCA UCG CCG ACG GCG UAU CAU AAU GAU\n",
    "                  UAC CAC AAC GAC UAA CAA AAA GAA UAG CAG AAG GAG\n",
    "                  UGU CGU AGU GGU UGC CGC AGC GGC UGA CGA AGA GGA\n",
    "                  UGG CGG AGG GGG\"\"\"\n",
    "\n",
    "aas_txt = \"\"\"F L I V F L I V L L I V L L M V S P T A S P T A S P\n",
    "             T A S P T A Y H N D Y H N D . Q K E . Q K E C R S G\n",
    "             C R S G . R R G W R R G\"\"\"\n",
    "\n",
    "\n",
    "def remove_whitespace(txt):\n",
    "    # remove spaces and line breaks from string\n",
    "    return txt.replace(\" \", \"\").replace(\"\\n\", \"\")\n",
    "\n",
    "\n",
    "def translate(rna_sequence):\n",
    "    \"\"\"\n",
    "    uses codon table to translate rna sequence.\n",
    "    example:\n",
    "\n",
    "    UUU AUC GUU -> F I V\n",
    "\n",
    "    spaces can be omitted.\n",
    "    \"\"\"\n",
    "    \n",
    "    # cleanup\n",
    "    rna_sequence = remove_whitespace(rna_sequence)\n",
    "\n",
    "    aas = \"\"\n",
    "    for start_idx in range(0, len(rna_sequence), 3):\n",
    "        triplet = rna_sequence[start_idx : start_idx + 3]\n",
    "        aa = lookup_aa(triplet)\n",
    "        aas += aa\n",
    "    return aas\n",
    "\n",
    "\n",
    "# cleanup the multiline strings\n",
    "triplets = remove_whitespace(triplets_txt)\n",
    "aas = remove_whitespace(aas_txt)\n",
    "\n",
    "\n",
    "@profile\n",
    "def lookup_aa(triplet):\n",
    "    \"\"\"finds aa symbol for given triplet.\n",
    "    returns 'X' for invalid triplet\"\"\"\n",
    "   \n",
    "    if triplet not in triplets:\n",
    "        return \"X\"\n",
    "    start_idx = triplets.index(triplet)\n",
    "    return aas[start_idx // 3]\n",
    "\n",
    "\n",
    "long_sequence = 20_000 * remove_whitespace(triplets_txt)\n",
    "translate(long_sequence)"
   ]
  },
  {
   "cell_type": "code",
   "execution_count": 7,
   "metadata": {},
   "outputs": [
    {
     "name": "stdout",
     "output_type": "stream",
     "text": [
      "\n",
      "real\t0m1.048s\n",
      "user\t0m1.023s\n",
      "sys\t0m0.016s\n"
     ]
    }
   ],
   "source": [
    "!time python rna_translation_2.py"
   ]
  },
  {
   "cell_type": "markdown",
   "metadata": {},
   "source": [
    "This is around 7-8 times faster!"
   ]
  },
  {
   "cell_type": "code",
   "execution_count": 9,
   "metadata": {},
   "outputs": [
    {
     "name": "stdout",
     "output_type": "stream",
     "text": [
      "\n",
      "  _     ._   __/__   _ _  _  _ _/_   Recorded: 20:52:35  Samples:  1242\n",
      " /_//_/// /_\\ / //_// / //_'/ //     Duration: 1.247     CPU time: 1.242\n",
      "/   _/                      v3.3.0\n",
      "\n",
      "Program: rna_translation_2.py\n",
      "\n",
      "\u001b[31m1.246\u001b[0m \u001b[48;5;24m\u001b[38;5;15m<module>\u001b[0m  \u001b[2mrna_translation_2.py:2\u001b[0m\n",
      "└─ \u001b[31m1.244\u001b[0m \u001b[48;5;24m\u001b[38;5;15mtranslate\u001b[0m  \u001b[2mrna_translation_2.py:27\u001b[0m\n",
      "   ├─ \u001b[31m0.770\u001b[0m \u001b[48;5;24m\u001b[38;5;15mlookup_aa\u001b[0m  \u001b[2mrna_translation_2.py:53\u001b[0m\n",
      "   │  ├─ \u001b[33m0.446\u001b[0m [self]\u001b[0m  \u001b[2m\u001b[0m\n",
      "   │  └─ \u001b[33m0.324\u001b[0m str.index\u001b[0m  \u001b[2m<built-in>:0\u001b[0m\n",
      "   └─ \u001b[33m0.469\u001b[0m [self]\u001b[0m  \u001b[2m\u001b[0m\n",
      "\n",
      "To view this report with different options, run:\n",
      "    pyinstrument --load-prev 2021-01-16T20-52-35 [options]\n",
      "\n"
     ]
    }
   ],
   "source": [
    "!pyinstrument rna_translation_2.py"
   ]
  },
  {
   "cell_type": "markdown",
   "metadata": {},
   "source": [
    "# Can we do better?"
   ]
  },
  {
   "cell_type": "markdown",
   "metadata": {},
   "source": [
    "The approriate data structure for lookup and associations are dictionaries! Let's try this."
   ]
  },
  {
   "cell_type": "code",
   "execution_count": 10,
   "metadata": {},
   "outputs": [
    {
     "name": "stdout",
     "output_type": "stream",
     "text": [
      "Overwriting rna_translation_3.py\n"
     ]
    }
   ],
   "source": [
    "%%file rna_translation_3.py\n",
    "\n",
    "import sys\n",
    "\n",
    "try:\n",
    "    profile\n",
    "except:\n",
    "    profile = lambda f: f\n",
    "\n",
    "    \n",
    "triplets_txt = \"\"\"UUU CUU AUU GUU UUC CUC AUC GUC UUA CUA AUA GUA\n",
    "                  UUG CUG AUG GUG UCU CCU ACU GCU UCC CCC ACC GCC\n",
    "                  UCA CCA ACA GCA UCG CCG ACG GCG UAU CAU AAU GAU\n",
    "                  UAC CAC AAC GAC UAA CAA AAA GAA UAG CAG AAG GAG\n",
    "                  UGU CGU AGU GGU UGC CGC AGC GGC UGA CGA AGA GGA\n",
    "                  UGG CGG AGG GGG\"\"\"\n",
    "\n",
    "aas_txt = \"\"\"F L I V F L I V L L I V L L M V S P T A S P T A S P\n",
    "             T A S P T A Y H N D Y H N D . Q K E . Q K E C R S G\n",
    "             C R S G . R R G W R R G\"\"\"\n",
    "\n",
    "\n",
    "def remove_whitespace(txt):\n",
    "    # remove spaces and line breaks from string\n",
    "    return txt.replace(\" \", \"\").replace(\"\\n\", \"\")\n",
    "\n",
    "\n",
    "def translate(rna_sequence):\n",
    "    \"\"\"\n",
    "    uses codon table to translate rna sequence.\n",
    "    example:\n",
    "\n",
    "    UUU AUC GUU -> F I V\n",
    "\n",
    "    spaces can be omitted.\n",
    "    \"\"\"\n",
    "    \n",
    "    # cleanup\n",
    "    rna_sequence = remove_whitespace(rna_sequence)\n",
    "\n",
    "    aas = \"\"\n",
    "    for start_idx in range(0, len(rna_sequence), 3):\n",
    "        triplet = rna_sequence[start_idx : start_idx + 3]\n",
    "        aa = lookup_aa(triplet)\n",
    "        aas += aa\n",
    "    return aas\n",
    "\n",
    "\n",
    "# cleanup the multiline strings\n",
    "triplets = remove_whitespace(triplets_txt)\n",
    "aas = remove_whitespace(aas_txt)\n",
    "\n",
    "mapping = {}\n",
    "for start_idx in range(0, len(triplets), 3):\n",
    "    mapping[triplets[start_idx: start_idx + 3]] = aas[start_idx // 3]\n",
    "\n",
    "\n",
    "@profile\n",
    "def lookup_aa(triplet):\n",
    "    \"\"\"finds aa symbol for given triplet.\n",
    "    returns 'X' for invalid triplet\"\"\"\n",
    "    return mapping.get(triplet, \"X\")    \n",
    "\n",
    "\n",
    "long_sequence = 20_000 * remove_whitespace(triplets_txt)\n",
    "translate(long_sequence)"
   ]
  },
  {
   "cell_type": "code",
   "execution_count": 11,
   "metadata": {},
   "outputs": [
    {
     "name": "stdout",
     "output_type": "stream",
     "text": [
      "\n",
      "real\t0m0.641s\n",
      "user\t0m0.621s\n",
      "sys\t0m0.014s\n"
     ]
    }
   ],
   "source": [
    "!time python rna_translation_3.py"
   ]
  },
  {
   "cell_type": "code",
   "execution_count": 12,
   "metadata": {},
   "outputs": [
    {
     "name": "stdout",
     "output_type": "stream",
     "text": [
      "\n",
      "  _     ._   __/__   _ _  _  _ _/_   Recorded: 20:52:47  Samples:  832\n",
      " /_//_/// /_\\ / //_// / //_'/ //     Duration: 0.837     CPU time: 0.836\n",
      "/   _/                      v3.3.0\n",
      "\n",
      "Program: rna_translation_3.py\n",
      "\n",
      "\u001b[31m0.836\u001b[0m \u001b[48;5;24m\u001b[38;5;15m<module>\u001b[0m  \u001b[2mrna_translation_3.py:2\u001b[0m\n",
      "└─ \u001b[31m0.834\u001b[0m \u001b[48;5;24m\u001b[38;5;15mtranslate\u001b[0m  \u001b[2mrna_translation_3.py:27\u001b[0m\n",
      "   ├─ \u001b[31m0.524\u001b[0m [self]\u001b[0m  \u001b[2m\u001b[0m\n",
      "   └─ \u001b[33m0.305\u001b[0m \u001b[48;5;24m\u001b[38;5;15mlookup_aa\u001b[0m  \u001b[2mrna_translation_3.py:57\u001b[0m\n",
      "      ├─ \u001b[33m0.175\u001b[0m [self]\u001b[0m  \u001b[2m\u001b[0m\n",
      "      └─ \u001b[32m0.130\u001b[0m dict.get\u001b[0m  \u001b[2m<built-in>:0\u001b[0m\n",
      "\n",
      "To view this report with different options, run:\n",
      "    pyinstrument --load-prev 2021-01-16T20-52-47 [options]\n",
      "\n"
     ]
    }
   ],
   "source": [
    "!pyinstrument rna_translation_3.py"
   ]
  },
  {
   "cell_type": "markdown",
   "metadata": {},
   "source": [
    "Observations:\n",
    "1. We saved another 40% of run time\n",
    "2. time for `lookup_aa` reduced from ~750ms to ~300ms, which is faster by a factor ~2.5. This speedup will be much more for larger data collections."
   ]
  }
 ],
 "metadata": {
  "kernelspec": {
   "display_name": "Python 3",
   "language": "python",
   "name": "python3"
  },
  "language_info": {
   "codemirror_mode": {
    "name": "ipython",
    "version": 3
   },
   "file_extension": ".py",
   "mimetype": "text/x-python",
   "name": "python",
   "nbconvert_exporter": "python",
   "pygments_lexer": "ipython3",
   "version": "3.7.7"
  }
 },
 "nbformat": 4,
 "nbformat_minor": 4
}
