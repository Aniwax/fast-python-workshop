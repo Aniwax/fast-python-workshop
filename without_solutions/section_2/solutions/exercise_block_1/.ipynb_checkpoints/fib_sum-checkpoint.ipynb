{
 "cells": [
  {
   "cell_type": "markdown",
   "metadata": {},
   "source": [
    "# Profiling"
   ]
  },
  {
   "cell_type": "code",
   "execution_count": 10,
   "metadata": {},
   "outputs": [],
   "source": [
    "def fibionacci_numbers(n):\n",
    "    \"\"\"computes first n fibionacci numbers.\n",
    "\n",
    "    the fibionacci sequence starts with 0, 1\n",
    "    and following numbers are the sum of its\n",
    "    two preceding numbers:\n",
    "\n",
    "    0, 1, 1, 2, 3, 5, 8, 13, ...\n",
    "    \"\"\"\n",
    "    result = [0, 1]\n",
    "    while len(result) < n:\n",
    "        result.append(result[-1] + result[-2])\n",
    "    return result[:n]\n",
    "\n",
    "\n",
    "def sumup_fibionacci_numbers(n):\n",
    "    sum_ = 0\n",
    "    for i in range(n):\n",
    "        numbers = fibionacci_numbers(i + 1)\n",
    "        sum_ += numbers[i]\n",
    "    return sum_\n",
    "\n",
    "\n",
    "def main(n):\n",
    "    for _ in range(n):\n",
    "        sumup_fibionacci_numbers(2_000)"
   ]
  },
  {
   "cell_type": "code",
   "execution_count": 13,
   "metadata": {},
   "outputs": [
    {
     "name": "stdout",
     "output_type": "stream",
     "text": [
      "The line_profiler extension is already loaded. To reload it, use:\n",
      "  %reload_ext line_profiler\n"
     ]
    }
   ],
   "source": [
    "%load_ext line_profiler"
   ]
  },
  {
   "cell_type": "code",
   "execution_count": 16,
   "metadata": {},
   "outputs": [
    {
     "data": {
      "text/plain": [
       "Timer unit: 1e-06 s\n",
       "\n",
       "Total time: 5.28556 s\n",
       "File: <ipython-input-10-5b85cce434bb>\n",
       "Function: sumup_fibionacci_numbers at line 18\n",
       "\n",
       "Line #      Hits         Time  Per Hit   % Time  Line Contents\n",
       "==============================================================\n",
       "    18                                           def sumup_fibionacci_numbers(n):\n",
       "    19         5          5.0      1.0      0.0      sum_ = 0\n",
       "    20     10005       3721.0      0.4      0.1      for i in range(n):\n",
       "    21     10000    5274692.0    527.5     99.8          numbers = fibionacci_numbers(i + 1)\n",
       "    22     10000       7137.0      0.7      0.1          sum_ += numbers[i]\n",
       "    23         5          3.0      0.6      0.0      return sum_"
      ]
     },
     "metadata": {},
     "output_type": "display_data"
    }
   ],
   "source": [
    "%lprun -f sumup_fibionacci_numbers main(5)"
   ]
  },
  {
   "cell_type": "markdown",
   "metadata": {},
   "source": [
    "As you can see we spend 99% of the time in calling `fibionacci_numbers` over and over again.\n",
    "\n",
    "If you compare the reported runtime and compare to the timing from the original exercise you will also see the extra time caused by the profiler!"
   ]
  },
  {
   "cell_type": "markdown",
   "metadata": {},
   "source": [
    "# Optimization"
   ]
  },
  {
   "cell_type": "markdown",
   "metadata": {},
   "source": [
    "We can compute the first $n$ fibionacci numbers once in the beginning and then add them up:"
   ]
  },
  {
   "cell_type": "code",
   "execution_count": 17,
   "metadata": {},
   "outputs": [],
   "source": [
    "def fibionacci_numbers(n):\n",
    "    \"\"\"computes first n fibionacci numbers.\n",
    "\n",
    "    the fibionacci sequence starts with 0, 1\n",
    "    and following numbers are the sum of its\n",
    "    two preceding numbers:\n",
    "\n",
    "    0, 1, 1, 2, 3, 5, 8, 13, ...\n",
    "    \"\"\"\n",
    "    result = [0, 1]\n",
    "    while len(result) < n:\n",
    "        result.append(result[-1] + result[-2])\n",
    "    return result[:n]\n",
    "\n",
    "\n",
    "def sumup_fibionacci_numbers(n):\n",
    "    sum_ = 0\n",
    "    numbers = fibionacci_numbers(n)\n",
    "    for i in range(n):\n",
    "        sum_ += numbers[i]\n",
    "    return sum_\n",
    "\n",
    "\n",
    "def main(n):\n",
    "    for _ in range(n):\n",
    "        sumup_fibionacci_numbers(2_000)"
   ]
  },
  {
   "cell_type": "code",
   "execution_count": 18,
   "metadata": {},
   "outputs": [
    {
     "data": {
      "text/plain": [
       "Timer unit: 1e-06 s\n",
       "\n",
       "Total time: 0.022651 s\n",
       "File: <ipython-input-17-ccd4314da316>\n",
       "Function: sumup_fibionacci_numbers at line 16\n",
       "\n",
       "Line #      Hits         Time  Per Hit   % Time  Line Contents\n",
       "==============================================================\n",
       "    16                                           def sumup_fibionacci_numbers(n):\n",
       "    17         5          6.0      1.2      0.0      sum_ = 0\n",
       "    18         5       9225.0   1845.0     40.7      numbers = fibionacci_numbers(n)\n",
       "    19     10005       6003.0      0.6     26.5      for i in range(n):\n",
       "    20     10000       7413.0      0.7     32.7          sum_ += numbers[i]\n",
       "    21         5          4.0      0.8      0.0      return sum_"
      ]
     },
     "metadata": {},
     "output_type": "display_data"
    }
   ],
   "source": [
    "%lprun -f sumup_fibionacci_numbers main(5)"
   ]
  },
  {
   "cell_type": "markdown",
   "metadata": {},
   "source": [
    "The reported time is now about **1/250 of the original time** by changing two lines of code!"
   ]
  }
 ],
 "metadata": {
  "kernelspec": {
   "display_name": "Python 3",
   "language": "python",
   "name": "python3"
  },
  "language_info": {
   "codemirror_mode": {
    "name": "ipython",
    "version": 3
   },
   "file_extension": ".py",
   "mimetype": "text/x-python",
   "name": "python",
   "nbconvert_exporter": "python",
   "pygments_lexer": "ipython3",
   "version": "3.7.7"
  }
 },
 "nbformat": 4,
 "nbformat_minor": 4
}
