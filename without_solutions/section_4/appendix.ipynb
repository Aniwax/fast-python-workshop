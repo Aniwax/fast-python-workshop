{
 "cells": [
  {
   "cell_type": "markdown",
   "metadata": {},
   "source": [
    "# Cython: pure C function"
   ]
  },
  {
   "cell_type": "code",
   "execution_count": null,
   "metadata": {},
   "outputs": [],
   "source": [
    "%load_ext Cython"
   ]
  },
  {
   "cell_type": "code",
   "execution_count": null,
   "metadata": {},
   "outputs": [],
   "source": [
    "%%cython --annotate\n",
    "cdef double approx_pi_cython_c(double delta):\n",
    "    cdef long n_hits = 0\n",
    "    cdef double x = -1.\n",
    "    cdef double y = -1.\n",
    "    while x <= 1.:\n",
    "        while y <= 1.:\n",
    "            if x ** 2 + y ** 2 <= 1.0:\n",
    "                n_hits += 1\n",
    "            x += delta\n",
    "            y += delta\n",
    "    return 4 * n_hits * delta**2"
   ]
  },
  {
   "cell_type": "markdown",
   "metadata": {},
   "source": [
    "You cannot call this from Python:"
   ]
  },
  {
   "cell_type": "code",
   "execution_count": null,
   "metadata": {},
   "outputs": [],
   "source": [
    "approx_pi_cython_c(1.E-6)"
   ]
  },
  {
   "cell_type": "markdown",
   "metadata": {},
   "source": [
    "If you want to call it, you have to write a wrapper:"
   ]
  },
  {
   "cell_type": "code",
   "execution_count": null,
   "metadata": {},
   "outputs": [],
   "source": [
    "%%cython --annotate\n",
    "\n",
    "cdef double approx_pi_cython_c(double delta):\n",
    "    cdef long n_hits = 0\n",
    "    cdef double x = -1.\n",
    "    cdef double y = -1.\n",
    "    while x <= 1.:\n",
    "        while y <= 1.:\n",
    "            if x ** 2 + y ** 2 <= 1.0:\n",
    "                n_hits += 1\n",
    "            x += delta\n",
    "            y += delta\n",
    "    return 4 * n_hits * delta**2\n",
    "\n",
    "def py_approx_pi_cython_c(double delta):\n",
    "    return approx_pi_cython_c(delta)"
   ]
  },
  {
   "cell_type": "code",
   "execution_count": null,
   "metadata": {},
   "outputs": [],
   "source": [
    "py_approx_pi_cython_c(1.E-6)"
   ]
  }
 ],
 "metadata": {
  "kernelspec": {
   "display_name": "Python 3 (ipykernel)",
   "language": "python",
   "name": "python3"
  },
  "language_info": {
   "codemirror_mode": {
    "name": "ipython",
    "version": 3
   },
   "file_extension": ".py",
   "mimetype": "text/x-python",
   "name": "python",
   "nbconvert_exporter": "python",
   "pygments_lexer": "ipython3",
   "version": "3.10.5"
  }
 },
 "nbformat": 4,
 "nbformat_minor": 4
}
