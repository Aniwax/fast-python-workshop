{
 "cells": [
  {
   "cell_type": "markdown",
   "metadata": {},
   "source": [
    "# Self-assessment [30 min]\n",
    "\n",
    "The self-assement will help you to check if your current Python knowledge is sufficient for the workshop.\n",
    "\n",
    "For each exercise you have a small code block. You have to either:\n",
    "\n",
    "- predict the output of the print statement or \n",
    "- identify expressions that will not be successfully executed.  \n",
    "\n",
    "This should be done without running the code snippets!\n",
    "\n",
    "When you are done use the computer to check your results.\n",
    "\n",
    "In case your answer is not correct please revisit the suggested documentation to prepare yourself for the workshop."
   ]
  },
  {
   "cell_type": "markdown",
   "metadata": {},
   "source": [
    "## Numbers\n",
    "https://docs.python.org/3.8/tutorial/introduction.html#numbers\n",
    "\n",
    "```python\n",
    "n = 1 + 3 ** 2 + 1_000 // 3 + 10 % 3\n",
    "print(isinstance(n, float), n)\n",
    "```"
   ]
  },
  {
   "cell_type": "code",
   "execution_count": null,
   "metadata": {},
   "outputs": [],
   "source": []
  },
  {
   "cell_type": "markdown",
   "metadata": {},
   "source": [
    "## Strings\n",
    "https://docs.python.org/3.8/tutorial/introduction.html#strings\n",
    "\n",
    "```python\n",
    "s = 3 * \"Hello\" + ' \"World\"'\n",
    "print(s[5:])\n",
    "```"
   ]
  },
  {
   "cell_type": "code",
   "execution_count": null,
   "metadata": {},
   "outputs": [],
   "source": []
  },
  {
   "cell_type": "markdown",
   "metadata": {},
   "source": [
    "## Lists\n",
    "\n",
    "https://docs.python.org/3.8/tutorial/introduction.html#lists\n",
    "\n",
    "```python\n",
    "squares = [1, 4, 9, 16, 25]\n",
    "squares_new = squares\n",
    "squares_new[1] = 0\n",
    "print(squares[::-1])\n",
    "```"
   ]
  },
  {
   "cell_type": "code",
   "execution_count": null,
   "metadata": {},
   "outputs": [],
   "source": []
  },
  {
   "cell_type": "markdown",
   "metadata": {},
   "source": [
    "## Tuples\n",
    "\n",
    "https://docs.python.org/3.8/tutorial/datastructures.html#tut-tuples\n",
    "\n",
    "https://treyhunner.com/2018/03/tuple-unpacking-improves-python-code-readability/\n",
    "\n",
    "```python\n",
    "t = (55, 66, 77)\n",
    "r1, r2, r3 = t\n",
    "print(r1, r2, r3)\n",
    "r1, *r2 = t\n",
    "print(r1, r2)\n",
    "```"
   ]
  },
  {
   "cell_type": "code",
   "execution_count": null,
   "metadata": {},
   "outputs": [],
   "source": []
  },
  {
   "cell_type": "markdown",
   "metadata": {},
   "source": [
    "```python\n",
    "squares = (1, 4, 9, 16, 25)\n",
    "squares_new = squares\n",
    "squares_new[1] = 0\n",
    "print(squares[::-1])\n",
    "```"
   ]
  },
  {
   "cell_type": "code",
   "execution_count": null,
   "metadata": {},
   "outputs": [],
   "source": []
  },
  {
   "cell_type": "markdown",
   "metadata": {},
   "source": [
    "## Sets\n",
    "https://docs.python.org/3.8/tutorial/datastructures.html#sets\n",
    "```python\n",
    "s = set((1, 2, 3, 4, 1)) & set((1, 5, 6, 7))\n",
    "print(s)\n",
    "```"
   ]
  },
  {
   "cell_type": "code",
   "execution_count": null,
   "metadata": {},
   "outputs": [],
   "source": []
  },
  {
   "cell_type": "markdown",
   "metadata": {},
   "source": [
    "## Dictionaries\n",
    "https://docs.python.org/3.8/tutorial/datastructures.html#dictionaries\n",
    "```python\n",
    "d = {\"a\":range(5), \"b\": \"hey\"}\n",
    "d[\"c\"] = (1, 2, 3)\n",
    "_ = d.pop(\"a\")\n",
    "print(d[\"b\"])\n",
    "print(d.values())\n",
    "```"
   ]
  },
  {
   "cell_type": "code",
   "execution_count": null,
   "metadata": {},
   "outputs": [],
   "source": []
  },
  {
   "cell_type": "markdown",
   "metadata": {},
   "source": [
    "## Range\n",
    "https://docs.python.org/3.8/tutorial/controlflow.html#the-range-function\n",
    "\n",
    "```python\n",
    "l = list(range(3, 10, 2))\n",
    "print(l)\n",
    "```"
   ]
  },
  {
   "cell_type": "code",
   "execution_count": null,
   "metadata": {},
   "outputs": [],
   "source": []
  },
  {
   "cell_type": "markdown",
   "metadata": {},
   "source": [
    "## If, for, pass, continue and break \n",
    "\n",
    "https://docs.python.org/3.8/tutorial/controlflow.html#if-statements  \n",
    "https://docs.python.org/3.8/tutorial/controlflow.html#for-statements  \n",
    "https://docs.python.org/3.8/tutorial/controlflow.html#break-and-continue-statements-and-else-clauses-on-loops  \n",
    "https://docs.python.org/3.8/tutorial/controlflow.html#pass-statements\n",
    "\n",
    "```python\n",
    "l = []\n",
    "for i in range(10):\n",
    "    if i % 3 == 0:\n",
    "        pass\n",
    "    elif i % 3 == 1:\n",
    "        continue\n",
    "    else:\n",
    "        i *= 10\n",
    "\n",
    "    if i == 6:\n",
    "        break\n",
    "    l.append(i)\n",
    "    \n",
    "print(l)\n",
    "```"
   ]
  },
  {
   "cell_type": "code",
   "execution_count": null,
   "metadata": {},
   "outputs": [],
   "source": []
  },
  {
   "cell_type": "markdown",
   "metadata": {},
   "source": [
    "## List Comprehensions\n",
    "https://docs.python.org/3.8/tutorial/datastructures.html#list-comprehensions\n",
    "```python\n",
    "l = [x ** 3 for x in range(10) if x % 2 == 1]\n",
    "print(l[1:-1])\n",
    "```"
   ]
  },
  {
   "cell_type": "code",
   "execution_count": null,
   "metadata": {},
   "outputs": [],
   "source": []
  },
  {
   "cell_type": "markdown",
   "metadata": {},
   "source": [
    "## Functions\n",
    "https://docs.python.org/3.8/tutorial/controlflow.html#defining-functions\n",
    "```python\n",
    "def add(a, b):\n",
    "    s = a + b\n",
    "    \n",
    "result = add(5, 7)\n",
    "print(result)\n",
    "```"
   ]
  },
  {
   "cell_type": "code",
   "execution_count": null,
   "metadata": {},
   "outputs": [],
   "source": []
  },
  {
   "cell_type": "markdown",
   "metadata": {},
   "source": [
    "## Build-in function `map()`\n",
    "https://docs.python.org/3.8/library/functions.html#map\n",
    "```python\n",
    "def is_float(x):\n",
    "    return isinstance(x, float)\n",
    "\n",
    "l = [1.4, 5, \"n\", 2.4]           \n",
    "print(list(map(is_float, l)))\n",
    "```"
   ]
  },
  {
   "cell_type": "code",
   "execution_count": null,
   "metadata": {},
   "outputs": [],
   "source": []
  }
 ],
 "metadata": {
  "kernelspec": {
   "display_name": "Python 3",
   "language": "python",
   "name": "python3"
  },
  "language_info": {
   "codemirror_mode": {
    "name": "ipython",
    "version": 3
   },
   "file_extension": ".py",
   "mimetype": "text/x-python",
   "name": "python",
   "nbconvert_exporter": "python",
   "pygments_lexer": "ipython3",
   "version": "3.7.7"
  },
  "toc-autonumbering": true
 },
 "nbformat": 4,
 "nbformat_minor": 4
}
