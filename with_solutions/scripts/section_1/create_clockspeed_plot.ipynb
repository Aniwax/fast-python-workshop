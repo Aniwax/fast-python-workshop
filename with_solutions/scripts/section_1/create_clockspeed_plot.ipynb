{
 "cells": [
  {
   "cell_type": "code",
   "execution_count": null,
   "metadata": {},
   "outputs": [],
   "source": [
    "import matplotlib.pyplot as plt\n",
    "\n",
    "# data from https://en.wikipedia.org/wiki/Microprocessor_chronology\n",
    "# we took average in case a range was specified:\n",
    "times = [\n",
    "    1971, 1974, 1978, 1982, 1985, 1989, 1993, 1995, 1997, 2000, 2005, 2008,\n",
    "    2014, 2018\n",
    "]\n",
    "clockspeed_ghz = [\n",
    "    0.00074, 0.002, 0.005,\n",
    "    0.006, (0.016 + 0.04) / 2, 0.025, 0.063, (0.15 + 0.22) / 2, (0.45 + 0.6) / 2,\n",
    "    (1.3 + 2.6) / 2, 3.0, 2.9, 2.9, 2.6\n",
    "]\n",
    "names = [\n",
    "    \"4004\", \"8080\", \"8086\", \"80286\", \"80386\", \"80486\", \"Pentium\", \"Pentium Pro\",\n",
    "    \"Pentium III\", \"Pentium IV\", \"Pentium D\", \"i7\", \"Broadwell\",\n",
    "    \"Cannon Lake\"\n",
    "]\n",
    "\n",
    "import numpy as np\n",
    "import matplotlib.pyplot as plt\n",
    "\n",
    "fig = plt.figure(figsize=(10, 6))\n",
    "ax = plt.gca()\n",
    "ax.set_yscale('log')\n",
    "ax.set_ylim([3e-4, 10])\n",
    "ax.set_xlim([1968, 2023])\n",
    "ax.set_ylabel(\"GHz\")\n",
    "ax.set_xlabel(\"Year\")\n",
    "ax.set_title(\"Clock-speed of selected Intel processors\")\n",
    "plt.scatter(times, clockspeed_ghz, marker=\"o\");\n",
    "for i, name in enumerate(names):\n",
    "    plt.annotate(name, (times[i] - len(name) // 4, (0.65 if i % 2 == 1 else 1.2) * clockspeed_ghz[i]))\n",
    "    \n",
    "plt.semilogy([1968, 2023], [3.0, 3.0], \":\", color=\"gray\")\n",
    "plt.annotate(\"3 GHz\", (1970, 3.5))\n",
    "plt.savefig(\"images/clockrates.png\")"
   ]
  },
  {
   "cell_type": "code",
   "execution_count": null,
   "metadata": {},
   "outputs": [],
   "source": []
  }
 ],
 "metadata": {
  "kernelspec": {
   "display_name": "Python 3",
   "language": "python",
   "name": "python3"
  },
  "language_info": {
   "codemirror_mode": {
    "name": "ipython",
    "version": 3
   },
   "file_extension": ".py",
   "mimetype": "text/x-python",
   "name": "python",
   "nbconvert_exporter": "python",
   "pygments_lexer": "ipython3",
   "version": "3.7.7"
  }
 },
 "nbformat": 4,
 "nbformat_minor": 4
}
