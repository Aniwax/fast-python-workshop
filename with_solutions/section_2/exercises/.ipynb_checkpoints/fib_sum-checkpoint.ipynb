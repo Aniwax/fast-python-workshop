{
 "cells": [
  {
   "cell_type": "code",
   "execution_count": 1,
   "metadata": {},
   "outputs": [
    {
     "name": "stdout",
     "output_type": "stream",
     "text": [
      "needed 2.2 seconds\n"
     ]
    }
   ],
   "source": [
    "import time\n",
    "\n",
    "def fibionacci_numbers(n):\n",
    "    \"\"\"computes first n fibionacci numbers.\n",
    "\n",
    "    the fibionacci sequence starts with 0, 1\n",
    "    and following numbers are the sum of its\n",
    "    two preceding numbers:\n",
    "\n",
    "    0, 1, 1, 2, 3, 5, 8, 13, ...\n",
    "    \"\"\"\n",
    "    result = [0, 1]\n",
    "    while len(result) < n:\n",
    "        result.append(result[-1] + result[-2])\n",
    "    return result[:n]\n",
    "\n",
    "\n",
    "def sumup_fibionacci_numbers(n):\n",
    "    sum_ = 0\n",
    "    for i in range(n):\n",
    "        numbers = fibionacci_numbers(i + 1)\n",
    "        sum_ += numbers[i]\n",
    "    return sum_\n",
    "\n",
    "\n",
    "def main(n):\n",
    "    for _ in range(n):\n",
    "        sumup_fibionacci_numbers(2_000)\n",
    "\n",
    "started = time.time()        \n",
    "main(5)\n",
    "needed = time.time() - started\n",
    "print(f\"needed {needed:.1f} seconds\")"
   ]
  }
 ],
 "metadata": {
  "kernelspec": {
   "display_name": "Python 3",
   "language": "python",
   "name": "python3"
  },
  "language_info": {
   "codemirror_mode": {
    "name": "ipython",
    "version": 3
   },
   "file_extension": ".py",
   "mimetype": "text/x-python",
   "name": "python",
   "nbconvert_exporter": "python",
   "pygments_lexer": "ipython3",
   "version": "3.7.7"
  }
 },
 "nbformat": 4,
 "nbformat_minor": 4
}
