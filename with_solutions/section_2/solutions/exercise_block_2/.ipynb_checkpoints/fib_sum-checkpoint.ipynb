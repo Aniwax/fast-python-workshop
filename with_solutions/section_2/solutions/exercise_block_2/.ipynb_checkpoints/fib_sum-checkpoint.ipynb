{
 "cells": [
  {
   "cell_type": "markdown",
   "metadata": {},
   "source": [
    "# Profiling results for original code"
   ]
  },
  {
   "cell_type": "code",
   "execution_count": 2,
   "metadata": {},
   "outputs": [
    {
     "name": "stdout",
     "output_type": "stream",
     "text": [
      "Writing fib_sum.py\n"
     ]
    }
   ],
   "source": [
    "%%file fib_sum.py\n",
    "\n",
    "import sys\n",
    "\n",
    "# this \"trick\" avoids errors when you run the code outside\n",
    "# of line-profiler:\n",
    "try:\n",
    "    profile\n",
    "except NameError:\n",
    "    profile = lambda f: f\n",
    "\n",
    "    \n",
    "def fibionacci_numbers(n):\n",
    "    \"\"\"computes first n fibionacci numbers.\n",
    "\n",
    "    the fibionacci sequence starts with 0, 1\n",
    "    and following numbers are the sum of its\n",
    "    two preceding numbers:\n",
    "\n",
    "    0, 1, 1, 2, 3, 5, 8, 13, ...\n",
    "    \"\"\"\n",
    "    result = [0, 1]\n",
    "    while len(result) < n:\n",
    "        result.append(result[-1] + result[-2])\n",
    "    return result[:n]\n",
    "\n",
    "\n",
    "@profile\n",
    "def sumup_fibionacci_numbers(n):\n",
    "    sum_ = 0\n",
    "    for i in range(n):\n",
    "        numbers = fibionacci_numbers(i + 1)\n",
    "        sum_ += numbers[i]\n",
    "    return sum_\n",
    "\n",
    "\n",
    "def main(n):\n",
    "    for _ in range(n):\n",
    "        sumup_fibionacci_numbers(2_000)\n",
    "        \n",
    "# get n from the command line:\n",
    "n = int(sys.argv[1])\n",
    "main(n)"
   ]
  },
  {
   "cell_type": "code",
   "execution_count": 3,
   "metadata": {},
   "outputs": [
    {
     "name": "stdout",
     "output_type": "stream",
     "text": [
      "\n",
      "real\t0m4.585s\n",
      "user\t0m4.544s\n",
      "sys\t0m0.025s\n"
     ]
    }
   ],
   "source": [
    "!time python fib_sum.py 10"
   ]
  },
  {
   "cell_type": "code",
   "execution_count": 4,
   "metadata": {},
   "outputs": [
    {
     "name": "stdout",
     "output_type": "stream",
     "text": [
      "Wrote profile results to fib_sum.py.lprof\n",
      "Timer unit: 1e-06 s\n",
      "\n",
      "Total time: 10.5633 s\n",
      "File: fib_sum.py\n",
      "Function: sumup_fibionacci_numbers at line 27\n",
      "\n",
      "Line #      Hits         Time  Per Hit   % Time  Line Contents\n",
      "==============================================================\n",
      "    27                                           @profile\n",
      "    28                                           def sumup_fibionacci_numbers(n):\n",
      "    29        10         10.0      1.0      0.0      sum_ = 0\n",
      "    30     20010       7208.0      0.4      0.1      for i in range(n):\n",
      "    31     20000   10542278.0    527.1     99.8          numbers = fibionacci_numbers(i + 1)\n",
      "    32     20000      13753.0      0.7      0.1          sum_ += numbers[i]\n",
      "    33        10          3.0      0.3      0.0      return sum_\n",
      "\n"
     ]
    }
   ],
   "source": [
    "!kernprof -vl fib_sum.py 10"
   ]
  },
  {
   "cell_type": "code",
   "execution_count": 5,
   "metadata": {},
   "outputs": [
    {
     "name": "stdout",
     "output_type": "stream",
     "text": [
      "\n",
      "  _     ._   __/__   _ _  _  _ _/_   Recorded: 20:47:04  Samples:  7398\n",
      " /_//_/// /_\\ / //_// / //_'/ //     Duration: 7.403     CPU time: 7.373\n",
      "/   _/                      v3.3.0\n",
      "\n",
      "Program: fib_sum.py 10\n",
      "\n",
      "\u001b[31m7.403\u001b[0m \u001b[48;5;24m\u001b[38;5;15m<module>\u001b[0m  \u001b[2mfib_sum.py:2\u001b[0m\n",
      "└─ \u001b[31m7.403\u001b[0m \u001b[48;5;24m\u001b[38;5;15mmain\u001b[0m  \u001b[2mfib_sum.py:36\u001b[0m\n",
      "   └─ \u001b[31m7.403\u001b[0m \u001b[48;5;24m\u001b[38;5;15msumup_fibionacci_numbers\u001b[0m  \u001b[2mfib_sum.py:27\u001b[0m\n",
      "      ├─ \u001b[31m7.191\u001b[0m \u001b[48;5;24m\u001b[38;5;15mfibionacci_numbers\u001b[0m  \u001b[2mfib_sum.py:12\u001b[0m\n",
      "      │  ├─ \u001b[31m5.015\u001b[0m [self]\u001b[0m  \u001b[2m\u001b[0m\n",
      "      │  ├─ \u001b[32m1.168\u001b[0m len\u001b[0m  \u001b[2m<built-in>:0\u001b[0m\n",
      "      │  └─ \u001b[32m1.008\u001b[0m list.append\u001b[0m  \u001b[2m<built-in>:0\u001b[0m\n",
      "      └─ \u001b[92m\u001b[2m0.212\u001b[0m [self]\u001b[0m  \u001b[2m\u001b[0m\n",
      "\n",
      "To view this report with different options, run:\n",
      "    pyinstrument --load-prev 2021-01-16T20-47-04 [options]\n",
      "\n"
     ]
    }
   ],
   "source": [
    "!pyinstrument fib_sum.py 10"
   ]
  },
  {
   "cell_type": "markdown",
   "metadata": {},
   "source": [
    "# Profiling results for improved code\n",
    "\n",
    "And now the modification to avoid unneccesary calls of `fibionacci_numbers`:"
   ]
  },
  {
   "cell_type": "code",
   "execution_count": 6,
   "metadata": {},
   "outputs": [
    {
     "name": "stdout",
     "output_type": "stream",
     "text": [
      "Writing fib_sum_faster.py\n"
     ]
    }
   ],
   "source": [
    "%%file fib_sum_faster.py\n",
    "\n",
    "import sys\n",
    "\n",
    "try:\n",
    "    profile\n",
    "except NameError:\n",
    "    profile = lambda f: f\n",
    "\n",
    "    \n",
    "def fibionacci_numbers(n):\n",
    "    \"\"\"computes first n fibionacci numbers.\n",
    "\n",
    "    the fibionacci sequence starts with 0, 1\n",
    "    and following numbers are the sum of its\n",
    "    two preceding numbers:\n",
    "\n",
    "    0, 1, 1, 2, 3, 5, 8, 13, ...\n",
    "    \"\"\"\n",
    "    result = [0, 1]\n",
    "    while len(result) < n:\n",
    "        result.append(result[-1] + result[-2])\n",
    "    return result[:n]\n",
    "\n",
    "\n",
    "@profile\n",
    "def sumup_fibionacci_numbers(n):\n",
    "    sum_ = 0\n",
    "    numbers = fibionacci_numbers(n)\n",
    "    for i in range(n):\n",
    "        sum_ += numbers[i]\n",
    "    return sum_\n",
    "\n",
    "\n",
    "def main(n):\n",
    "    for _ in range(n):\n",
    "        sumup_fibionacci_numbers(2_000)\n",
    "\n",
    "n = int(sys.argv[1])\n",
    "main(n)"
   ]
  },
  {
   "cell_type": "code",
   "execution_count": 7,
   "metadata": {},
   "outputs": [
    {
     "name": "stdout",
     "output_type": "stream",
     "text": [
      "\n",
      "real\t0m0.047s\n",
      "user\t0m0.032s\n",
      "sys\t0m0.010s\n"
     ]
    }
   ],
   "source": [
    "!time python fib_sum_faster.py 10"
   ]
  },
  {
   "cell_type": "code",
   "execution_count": 8,
   "metadata": {},
   "outputs": [
    {
     "name": "stdout",
     "output_type": "stream",
     "text": [
      "Wrote profile results to fib_sum_faster.py.lprof\n",
      "Timer unit: 1e-06 s\n",
      "\n",
      "Total time: 0.025702 s\n",
      "File: fib_sum_faster.py\n",
      "Function: sumup_fibionacci_numbers at line 25\n",
      "\n",
      "Line #      Hits         Time  Per Hit   % Time  Line Contents\n",
      "==============================================================\n",
      "    25                                           @profile\n",
      "    26                                           def sumup_fibionacci_numbers(n):\n",
      "    27        10         10.0      1.0      0.0      sum_ = 0\n",
      "    28        10      11120.0   1112.0     43.3      numbers = fibionacci_numbers(n)\n",
      "    29     20010       6450.0      0.3     25.1      for i in range(n):\n",
      "    30     20000       8119.0      0.4     31.6          sum_ += numbers[i]\n",
      "    31        10          3.0      0.3      0.0      return sum_\n",
      "\n"
     ]
    }
   ],
   "source": [
    "!kernprof -vl fib_sum_faster.py 10"
   ]
  },
  {
   "cell_type": "code",
   "execution_count": 9,
   "metadata": {},
   "outputs": [
    {
     "name": "stdout",
     "output_type": "stream",
     "text": [
      "\n",
      "  _     ._   __/__   _ _  _  _ _/_   Recorded: 20:47:46  Samples:  9\n",
      " /_//_/// /_\\ / //_// / //_'/ //     Duration: 0.010     CPU time: 0.010\n",
      "/   _/                      v3.3.0\n",
      "\n",
      "Program: fib_sum_faster.py 10\n",
      "\n",
      "\u001b[31m0.009\u001b[0m \u001b[48;5;24m\u001b[38;5;15m<module>\u001b[0m  \u001b[2mfib_sum_faster.py:2\u001b[0m\n",
      "└─ \u001b[31m0.009\u001b[0m \u001b[48;5;24m\u001b[38;5;15mmain\u001b[0m  \u001b[2mfib_sum_faster.py:34\u001b[0m\n",
      "   ├─ \u001b[31m0.008\u001b[0m \u001b[48;5;24m\u001b[38;5;15msumup_fibionacci_numbers\u001b[0m  \u001b[2mfib_sum_faster.py:25\u001b[0m\n",
      "   │  ├─ \u001b[31m0.007\u001b[0m \u001b[48;5;24m\u001b[38;5;15mfibionacci_numbers\u001b[0m  \u001b[2mfib_sum_faster.py:10\u001b[0m\n",
      "   │  └─ \u001b[32m0.001\u001b[0m [self]\u001b[0m  \u001b[2m\u001b[0m\n",
      "   └─ \u001b[32m0.001\u001b[0m [self]\u001b[0m  \u001b[2m\u001b[0m\n",
      "\n",
      "To view this report with different options, run:\n",
      "    pyinstrument --load-prev 2021-01-16T20-47-46 [options]\n",
      "\n"
     ]
    }
   ],
   "source": [
    "!pyinstrument fib_sum_faster.py 10"
   ]
  },
  {
   "cell_type": "markdown",
   "metadata": {},
   "source": [
    "# Can we improve further?\n",
    "\n",
    "Python has a builtin function for summing up numbers. Since the code was already quite fast we run `main` with a larger `n` first to get some baseline results:"
   ]
  },
  {
   "cell_type": "code",
   "execution_count": 14,
   "metadata": {},
   "outputs": [
    {
     "name": "stdout",
     "output_type": "stream",
     "text": [
      "\n",
      "real\t0m0.814s\n",
      "user\t0m0.738s\n",
      "sys\t0m0.066s\n"
     ]
    }
   ],
   "source": [
    "!time python fib_sum_faster.py 1000"
   ]
  },
  {
   "cell_type": "code",
   "execution_count": 15,
   "metadata": {},
   "outputs": [
    {
     "name": "stdout",
     "output_type": "stream",
     "text": [
      "Wrote profile results to fib_sum_faster.py.lprof\n",
      "Timer unit: 1e-06 s\n",
      "\n",
      "Total time: 2.6499 s\n",
      "File: fib_sum_faster.py\n",
      "Function: sumup_fibionacci_numbers at line 25\n",
      "\n",
      "Line #      Hits         Time  Per Hit   % Time  Line Contents\n",
      "==============================================================\n",
      "    25                                           @profile\n",
      "    26                                           def sumup_fibionacci_numbers(n):\n",
      "    27      1000        554.0      0.6      0.0      sum_ = 0\n",
      "    28      1000    1169718.0   1169.7     44.1      numbers = fibionacci_numbers(n)\n",
      "    29   2001000     651191.0      0.3     24.6      for i in range(n):\n",
      "    30   2000000     828082.0      0.4     31.2          sum_ += numbers[i]\n",
      "    31      1000        356.0      0.4      0.0      return sum_\n",
      "\n"
     ]
    }
   ],
   "source": [
    "!kernprof -vl fib_sum_faster.py 1000"
   ]
  },
  {
   "cell_type": "code",
   "execution_count": 16,
   "metadata": {},
   "outputs": [
    {
     "name": "stdout",
     "output_type": "stream",
     "text": [
      "\n",
      "  _     ._   __/__   _ _  _  _ _/_   Recorded: 20:49:25  Samples:  925\n",
      " /_//_/// /_\\ / //_// / //_'/ //     Duration: 0.942     CPU time: 0.940\n",
      "/   _/                      v3.3.0\n",
      "\n",
      "Program: fib_sum_faster.py 1000\n",
      "\n",
      "\u001b[31m0.942\u001b[0m \u001b[48;5;24m\u001b[38;5;15m<module>\u001b[0m  \u001b[2mfib_sum_faster.py:2\u001b[0m\n",
      "└─ \u001b[31m0.942\u001b[0m \u001b[48;5;24m\u001b[38;5;15mmain\u001b[0m  \u001b[2mfib_sum_faster.py:34\u001b[0m\n",
      "   └─ \u001b[31m0.938\u001b[0m \u001b[48;5;24m\u001b[38;5;15msumup_fibionacci_numbers\u001b[0m  \u001b[2mfib_sum_faster.py:25\u001b[0m\n",
      "      ├─ \u001b[31m0.773\u001b[0m \u001b[48;5;24m\u001b[38;5;15mfibionacci_numbers\u001b[0m  \u001b[2mfib_sum_faster.py:10\u001b[0m\n",
      "      │  ├─ \u001b[33m0.526\u001b[0m [self]\u001b[0m  \u001b[2m\u001b[0m\n",
      "      │  ├─ \u001b[32m0.129\u001b[0m len\u001b[0m  \u001b[2m<built-in>:0\u001b[0m\n",
      "      │  └─ \u001b[32m0.118\u001b[0m list.append\u001b[0m  \u001b[2m<built-in>:0\u001b[0m\n",
      "      └─ \u001b[32m0.164\u001b[0m [self]\u001b[0m  \u001b[2m\u001b[0m\n",
      "\n",
      "To view this report with different options, run:\n",
      "    pyinstrument --load-prev 2021-01-16T20-49-25 [options]\n",
      "\n"
     ]
    }
   ],
   "source": [
    "!pyinstrument fib_sum_faster.py 1000"
   ]
  },
  {
   "cell_type": "markdown",
   "metadata": {},
   "source": [
    "This is the code using the internal `sum` function:"
   ]
  },
  {
   "cell_type": "code",
   "execution_count": 17,
   "metadata": {},
   "outputs": [
    {
     "name": "stdout",
     "output_type": "stream",
     "text": [
      "Writing fib_sum_with_internal_sum.py\n"
     ]
    }
   ],
   "source": [
    "%%file fib_sum_with_internal_sum.py\n",
    "\n",
    "import sys\n",
    "\n",
    "try:\n",
    "    profile\n",
    "except NameError:\n",
    "    profile = lambda f: f\n",
    "\n",
    "    \n",
    "def fibionacci_numbers(n):\n",
    "    \"\"\"computes first n fibionacci numbers.\n",
    "\n",
    "    the fibionacci sequence starts with 0, 1\n",
    "    and following numbers are the sum of its\n",
    "    two preceding numbers:\n",
    "\n",
    "    0, 1, 1, 2, 3, 5, 8, 13, ...\n",
    "    \"\"\"\n",
    "    result = [0, 1]\n",
    "    while len(result) < n:\n",
    "        result.append(result[-1] + result[-2])\n",
    "    return result[:n]\n",
    "\n",
    "\n",
    "@profile\n",
    "def sumup_fibionacci_numbers(n):\n",
    "    numbers = fibionacci_numbers(n)\n",
    "    return sum(numbers)\n",
    "\n",
    "def main(n):\n",
    "    for _ in range(n):\n",
    "        sumup_fibionacci_numbers(2_000)\n",
    "\n",
    "n = int(sys.argv[1])\n",
    "main(n)"
   ]
  },
  {
   "cell_type": "code",
   "execution_count": 18,
   "metadata": {},
   "outputs": [
    {
     "name": "stdout",
     "output_type": "stream",
     "text": [
      "\n",
      "real\t0m0.684s\n",
      "user\t0m0.618s\n",
      "sys\t0m0.061s\n"
     ]
    }
   ],
   "source": [
    "!time python fib_sum_with_internal_sum.py 1000"
   ]
  },
  {
   "cell_type": "code",
   "execution_count": 19,
   "metadata": {},
   "outputs": [
    {
     "name": "stdout",
     "output_type": "stream",
     "text": [
      "Wrote profile results to fib_sum_with_internal_sum.py.lprof\n",
      "Timer unit: 1e-06 s\n",
      "\n",
      "Total time: 1.25467 s\n",
      "File: fib_sum_with_internal_sum.py\n",
      "Function: sumup_fibionacci_numbers at line 25\n",
      "\n",
      "Line #      Hits         Time  Per Hit   % Time  Line Contents\n",
      "==============================================================\n",
      "    25                                           @profile\n",
      "    26                                           def sumup_fibionacci_numbers(n):\n",
      "    27      1000    1160455.0   1160.5     92.5      numbers = fibionacci_numbers(n)\n",
      "    28      1000      94214.0     94.2      7.5      return sum(numbers)\n",
      "\n"
     ]
    }
   ],
   "source": [
    "!kernprof -vl fib_sum_with_internal_sum.py 1000"
   ]
  },
  {
   "cell_type": "code",
   "execution_count": 20,
   "metadata": {},
   "outputs": [
    {
     "name": "stdout",
     "output_type": "stream",
     "text": [
      "\n",
      "  _     ._   __/__   _ _  _  _ _/_   Recorded: 20:49:55  Samples:  855\n",
      " /_//_/// /_\\ / //_// / //_'/ //     Duration: 0.864     CPU time: 0.862\n",
      "/   _/                      v3.3.0\n",
      "\n",
      "Program: fib_sum_with_internal_sum.py 1000\n",
      "\n",
      "\u001b[31m0.863\u001b[0m \u001b[48;5;24m\u001b[38;5;15m<module>\u001b[0m  \u001b[2mfib_sum_with_internal_sum.py:2\u001b[0m\n",
      "└─ \u001b[31m0.863\u001b[0m \u001b[48;5;24m\u001b[38;5;15mmain\u001b[0m  \u001b[2mfib_sum_with_internal_sum.py:30\u001b[0m\n",
      "   ├─ \u001b[31m0.846\u001b[0m \u001b[48;5;24m\u001b[38;5;15msumup_fibionacci_numbers\u001b[0m  \u001b[2mfib_sum_with_internal_sum.py:25\u001b[0m\n",
      "   │  ├─ \u001b[31m0.729\u001b[0m \u001b[48;5;24m\u001b[38;5;15mfibionacci_numbers\u001b[0m  \u001b[2mfib_sum_with_internal_sum.py:10\u001b[0m\n",
      "   │  │  ├─ \u001b[31m0.518\u001b[0m [self]\u001b[0m  \u001b[2m\u001b[0m\n",
      "   │  │  ├─ \u001b[32m0.112\u001b[0m len\u001b[0m  \u001b[2m<built-in>:0\u001b[0m\n",
      "   │  │  └─ \u001b[32m0.099\u001b[0m list.append\u001b[0m  \u001b[2m<built-in>:0\u001b[0m\n",
      "   │  └─ \u001b[32m0.115\u001b[0m sum\u001b[0m  \u001b[2m<built-in>:0\u001b[0m\n",
      "   └─ \u001b[92m\u001b[2m0.017\u001b[0m [self]\u001b[0m  \u001b[2m\u001b[0m\n",
      "\n",
      "To view this report with different options, run:\n",
      "    pyinstrument --load-prev 2021-01-16T20-49-55 [options]\n",
      "\n"
     ]
    }
   ],
   "source": [
    "!pyinstrument  fib_sum_with_internal_sum.py 1000"
   ]
  },
  {
   "cell_type": "markdown",
   "metadata": {},
   "source": [
    "## Observations:\n",
    "\n",
    "1. We saved another 10-20% which is not such a  a significant improvement as we achieved before.\n",
    "2. The measurements of line-profiler show a much larger difference, so you can see that for small run-times the line profiler can be quite inaccurate.\n"
   ]
  },
  {
   "cell_type": "code",
   "execution_count": null,
   "metadata": {},
   "outputs": [],
   "source": []
  }
 ],
 "metadata": {
  "kernelspec": {
   "display_name": "Python 3",
   "language": "python",
   "name": "python3"
  },
  "language_info": {
   "codemirror_mode": {
    "name": "ipython",
    "version": 3
   },
   "file_extension": ".py",
   "mimetype": "text/x-python",
   "name": "python",
   "nbconvert_exporter": "python",
   "pygments_lexer": "ipython3",
   "version": "3.7.7"
  }
 },
 "nbformat": 4,
 "nbformat_minor": 4
}
