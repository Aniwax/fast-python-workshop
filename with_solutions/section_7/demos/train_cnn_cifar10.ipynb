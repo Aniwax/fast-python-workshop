{
 "cells": [
  {
   "cell_type": "markdown",
   "metadata": {},
   "source": [
    "# CNN model training using CIFAR10 dataset\n",
    "\n",
    "Reference: https://www.tensorflow.org/tutorials/images/cnn"
   ]
  },
  {
   "cell_type": "code",
   "execution_count": null,
   "metadata": {},
   "outputs": [],
   "source": [
    "import os\n",
    "import time\n",
    "import matplotlib.pyplot as plt\n",
    "\n",
    "import tensorflow as tf\n",
    "from tensorflow.keras import datasets, layers, models"
   ]
  },
  {
   "cell_type": "code",
   "execution_count": null,
   "metadata": {},
   "outputs": [],
   "source": [
    "tf.__version__"
   ]
  },
  {
   "cell_type": "code",
   "execution_count": null,
   "metadata": {},
   "outputs": [],
   "source": [
    "tf.test.is_gpu_available()"
   ]
  },
  {
   "cell_type": "code",
   "execution_count": null,
   "metadata": {},
   "outputs": [],
   "source": [
    "def train_cnn(batch_size, num_epochs):\n",
    "\n",
    "    # ---\n",
    "    # set parameters\n",
    "    num_classes = 10\n",
    "\n",
    "    # ---\n",
    "    # Download and prepare the CIFAR10 dataset\n",
    "    (train_images, train_labels), (\n",
    "        test_images,\n",
    "        test_labels,\n",
    "    ) = datasets.cifar10.load_data()\n",
    "\n",
    "    print((train_images.shape, train_labels.shape))\n",
    "    print((test_images.shape, test_labels.shape))\n",
    "\n",
    "    # ---\n",
    "    # Normalize pixel values to be between 0 and 1\n",
    "    train_images, test_images = train_images / 255.0, test_images / 255.0\n",
    "\n",
    "    # ---\n",
    "    # Verify the data\n",
    "    class_names = [\n",
    "        \"airplane\",\n",
    "        \"automobile\",\n",
    "        \"bird\",\n",
    "        \"cat\",\n",
    "        \"deer\",\n",
    "        \"dog\",\n",
    "        \"frog\",\n",
    "        \"horse\",\n",
    "        \"ship\",\n",
    "        \"truck\",\n",
    "    ]\n",
    "\n",
    "    plt.figure(figsize=(10, 10))\n",
    "    for i in range(25):\n",
    "        plt.subplot(5, 5, i + 1)\n",
    "        plt.xticks([])\n",
    "        plt.yticks([])\n",
    "        plt.grid(False)\n",
    "        plt.imshow(train_images[i], cmap=plt.cm.binary)\n",
    "        # The CIFAR labels happen to be arrays,\n",
    "        # which is why you need the extra index\n",
    "        plt.xlabel(class_names[int(train_labels[i][0])])\n",
    "    plt.savefig(\"cifar10.png\")\n",
    "    plt.clf()\n",
    "\n",
    "    # ---\n",
    "    # Create a CNN model\n",
    "    model = models.Sequential()\n",
    "    model.add(layers.Conv2D(32, (3, 3), activation=\"relu\", input_shape=(32, 32, 3)))\n",
    "    model.add(layers.MaxPooling2D((2, 2)))\n",
    "    model.add(layers.Conv2D(64, (3, 3), activation=\"relu\"))\n",
    "    model.add(layers.MaxPooling2D((2, 2)))\n",
    "    model.add(layers.Conv2D(64, (3, 3), activation=\"relu\"))\n",
    "    model.summary()\n",
    "    # Add dense layers on top\n",
    "    model.add(layers.Flatten())\n",
    "    model.add(layers.Dense(64, activation=\"relu\"))\n",
    "    model.add(layers.Dense(10))\n",
    "    model.summary()\n",
    "\n",
    "    # Compile and train the model\n",
    "    model.compile(\n",
    "        optimizer=\"adam\",\n",
    "        loss=tf.keras.losses.SparseCategoricalCrossentropy(from_logits=True),\n",
    "        metrics=[\"accuracy\"],\n",
    "    )\n",
    "\n",
    "    #\n",
    "    start_time = time.time()\n",
    "    # Training\n",
    "    history = model.fit(\n",
    "        train_images,\n",
    "        train_labels,\n",
    "        epochs=num_epochs,\n",
    "        batch_size=batch_size,\n",
    "        validation_data=(test_images, test_labels),\n",
    "    )\n",
    "    #\n",
    "    end_time = time.time()\n",
    "    elapsed_time = end_time - start_time\n",
    "    speed = train_images.shape[0] * num_epochs / elapsed_time\n",
    "    #\n",
    "    print(\"batch size       {:d}\".format(batch_size))\n",
    "    print(\"Training runtime {:.2f} seconds\".format(elapsed_time))\n",
    "    print(\"Training speed   {:d} images/sec\".format(int(speed)))\n",
    "\n",
    "    # Evaluate the model\n",
    "    plt.plot(history.history[\"accuracy\"], label=\"accuracy\")\n",
    "    plt.plot(history.history[\"val_accuracy\"], label=\"val_accuracy\")\n",
    "    plt.xlabel(\"Epoch\")\n",
    "    plt.ylabel(\"Accuracy\")\n",
    "    plt.ylim([0.5, 1])\n",
    "    plt.legend(loc=\"lower right\")\n",
    "    plt.savefig(\"train_cnn_cifar10_eval.png\")\n",
    "    plt.clf()\n",
    "\n",
    "    test_loss, test_acc = model.evaluate(test_images, test_labels, verbose=2)\n",
    "\n",
    "    return elapsed_time, speed, test_acc"
   ]
  },
  {
   "cell_type": "code",
   "execution_count": null,
   "metadata": {},
   "outputs": [],
   "source": [
    "# ---\n",
    "# set thread numbers (for CPU-only training)\n",
    "num_threads = 4\n",
    "os.environ[\"OMP_NUM_THREADS\"] = str(num_threads)\n",
    "tf.config.threading.set_intra_op_parallelism_threads(num_threads)"
   ]
  },
  {
   "cell_type": "code",
   "execution_count": null,
   "metadata": {},
   "outputs": [],
   "source": [
    "sum_time = 0.0\n",
    "sum_speed = 0.0\n",
    "sum_acc = 0\n",
    "num_runs = 10\n",
    "\n",
    "batch_size = 32\n",
    "num_epochs = 10\n",
    "for x in range(num_runs):\n",
    "    elapsed_time, speed, test_acc = train_cnn(batch_size, num_epochs)\n",
    "    sum_time += elapsed_time\n",
    "    sum_speed += speed\n",
    "    sum_acc += test_acc\n",
    "\n",
    "print(\"Avg training runtime {:.2f} seconds\".format(sum_time / float(num_runs)))\n",
    "print(\"Avg training speed   {:d} images/sec\".format(int(sum_speed / float(num_runs))))\n",
    "print(\"Avg test accuracy    {:.3f} \".format(sum_acc / float(num_runs)))"
   ]
  },
  {
   "cell_type": "markdown",
   "metadata": {},
   "source": [
    "This notebook was adapted from the code sample of [Tensorflow CNN tutorials](https://www.tensorflow.org/tutorials/images/cnn) which is provided under the [APACHE 2.0 License](https://www.apache.org/licenses/LICENSE-2.0)."
   ]
  },
  {
   "cell_type": "code",
   "execution_count": null,
   "metadata": {},
   "outputs": [],
   "source": []
  }
 ],
 "metadata": {
  "kernelspec": {
   "display_name": "Python 3",
   "language": "python",
   "name": "python3"
  },
  "language_info": {
   "codemirror_mode": {
    "name": "ipython",
    "version": 3
   },
   "file_extension": ".py",
   "mimetype": "text/x-python",
   "name": "python",
   "nbconvert_exporter": "python",
   "pygments_lexer": "ipython3",
   "version": "3.7.4"
  }
 },
 "nbformat": 4,
 "nbformat_minor": 4
}
