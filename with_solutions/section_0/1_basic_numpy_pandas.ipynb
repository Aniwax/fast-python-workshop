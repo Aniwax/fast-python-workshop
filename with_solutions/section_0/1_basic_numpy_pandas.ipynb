{
 "cells": [
  {
   "cell_type": "markdown",
   "metadata": {},
   "source": [
    "<br/>\n",
    "<span style=\"background:#f0f0e0;padding:1em\">Copyright (c) 2020-2021 ETH Zurich, Scientific IT Services. This work is licensed under <a href=\"https://creativecommons.org/licenses/by-nc/4.0/\">CC BY-NC 4.0</a></span><br/>\n",
    "<br/>"
   ]
  },
  {
   "cell_type": "markdown",
   "metadata": {},
   "source": [
    "# NumPy \n",
    "\n",
    "**NumPy (Numerical Python)** is a library for the Python programming language, adding support for large, multi-dimensional arrays such as vectors and matrices, along with a large collection of high-level mathematical functions to operate on these arrays (http://www.numpy.org/).\n",
    "\n",
    "NumPy is:\n",
    "\n",
    "* vectorized\n",
    "* fast (as C / Fortran programming language)\n",
    "* rich (not only linear algebra, but also random sampling, basic statistic, date and time support and many more).\n",
    "\n",
    "**Prerequisites**\n",
    "* Python 3\n",
    "* Project folder with virtual / conda environment set up\n",
    "* NumPy\n",
    "\n",
    "\n",
    "**How to import NumPy**"
   ]
  },
  {
   "cell_type": "code",
   "execution_count": null,
   "metadata": {
    "tags": []
   },
   "outputs": [],
   "source": [
    "import numpy as np  # NumPy import convention"
   ]
  },
  {
   "cell_type": "markdown",
   "metadata": {},
   "source": [
    "## NumPy Array"
   ]
  },
  {
   "cell_type": "markdown",
   "metadata": {},
   "source": [
    "While a Python list can contain different data types in a single list, all elements of Numpy arrays must have the **same data-types** and, therefore, have the same size in memory and more memory-efficient than Python lists. \n",
    "\n",
    "To create an array, we can initialize a Numpy array from a Python list."
   ]
  },
  {
   "cell_type": "code",
   "execution_count": null,
   "metadata": {
    "tags": []
   },
   "outputs": [],
   "source": [
    "# list of numbers 0 ... 999_999:\n",
    "l = list(range(1_000_000))\n",
    "print(type(l), l[:10])\n",
    "\n",
    "# convert list to 1d numpy array (vector):\n",
    "a = np.array(l)\n",
    "print(type(a), a[:10])"
   ]
  },
  {
   "cell_type": "markdown",
   "metadata": {},
   "source": [
    "NumPy arrays may look like lists but they are fast.\n",
    "\n",
    "You don't need to understand how we measure the time here, this will be part of the workshop:"
   ]
  },
  {
   "cell_type": "code",
   "execution_count": null,
   "metadata": {
    "tags": []
   },
   "outputs": [],
   "source": [
    "import time\n",
    "\n",
    "t_start = time.time()\n",
    "\n",
    "l_sum = sum([i * i for i in l])\n",
    "\n",
    "print(\"list comprehension mul + sum took {:.5f} seconds\".format(time.time() - t_start))\n",
    "print(\"sum result: {:d}\\n\".format(l_sum))\n",
    "\n",
    "\n",
    "t_start = time.time()\n",
    "\n",
    "a_sum = (a * a).sum()\n",
    "\n",
    "print(\"ndarray mul + ndarray.sum took {:.5f} seconds\".format(time.time() - t_start))\n",
    "print(\"sum result: {:d}\".format(a_sum))"
   ]
  },
  {
   "cell_type": "markdown",
   "metadata": {
    "execution": {
     "iopub.execute_input": "2020-10-20T07:48:59.762267Z",
     "iopub.status.busy": "2020-10-20T07:48:59.761703Z",
     "iopub.status.idle": "2020-10-20T07:48:59.800261Z",
     "shell.execute_reply": "2020-10-20T07:48:59.798732Z",
     "shell.execute_reply.started": "2020-10-20T07:48:59.762204Z"
    }
   },
   "source": [
    "**Note**: NumPy methods (functions) are implemented in C or Fortran. Python itself is interpreted, not compiled, hence slow. If you care for speed of your computations take care to use NumPy all along.\n",
    "\n",
    "**Note**: For most of the methods/properties/operators of NumPy arrays, there exists an underlying universal NumPy function (ufunc), such as for the `.sum()` method above there exists `np.sum()` ufunc.\n",
    "\n",
    "**Note**: NumPy is taking advantage of the fact that the elements of a NumPy array are of the same type by using a **contiguous memory** layout to store the element, i.e. a big enough block of memory. This enables the speed of NumPy arrays."
   ]
  },
  {
   "cell_type": "markdown",
   "metadata": {},
   "source": [
    "<div class=\"alert alert-block alert-info\">\n",
    "    <p style=\"font-weight: bold; font-size:120%;\"><i class=\"fa fa-question-circle\"></i>&nbsp; Exercise [5 min]</p>\n",
    "\n",
    "How fast do you think `sum(a*a)`and `np.sum(a*a)`? Test it.\n",
    "\n",
    "</div>"
   ]
  },
  {
   "cell_type": "markdown",
   "metadata": {},
   "source": [
    "## Dimension\n",
    "\n",
    "The `numpy.ndarray` type name stands for NumPy **N-dimensional array**. In Python terms these can be thought of as nested lists of numbers of equal lengths at each level of nesting.\n",
    "\n",
    "`numpy.ndarray` has following size-related properties:\n",
    "\n",
    "* `.ndim` - number of dimensions,\n",
    "* `.shape` - a tuple with the size in each dimension,\n",
    "* `.size` - total number of elements in the array.\n",
    "\n",
    "A 0D array is a scalar. A 1D array is a vector. A 2D array is a matrix. Three-dimensional arrays or more are also frequently used."
   ]
  },
  {
   "cell_type": "markdown",
   "metadata": {},
   "source": [
    "**How to check the shape and size of an array?**"
   ]
  },
  {
   "cell_type": "code",
   "execution_count": null,
   "metadata": {
    "tags": []
   },
   "outputs": [],
   "source": [
    "def print_dim_info(a):\n",
    "    print(a)\n",
    "    print(\"ndim =\", a.ndim)\n",
    "    print(\"shape =\", a.shape)\n",
    "    print(\"size =\", a.size)\n",
    "    print()"
   ]
  },
  {
   "cell_type": "code",
   "execution_count": null,
   "metadata": {
    "tags": []
   },
   "outputs": [],
   "source": [
    "num = np.array(0)\n",
    "print_dim_info(num)"
   ]
  },
  {
   "cell_type": "code",
   "execution_count": null,
   "metadata": {
    "tags": []
   },
   "outputs": [],
   "source": [
    "vector = np.array([0, 1, 2])\n",
    "print_dim_info(vector)"
   ]
  },
  {
   "cell_type": "code",
   "execution_count": null,
   "metadata": {
    "tags": []
   },
   "outputs": [],
   "source": [
    "matrix = np.array(\n",
    "    [\n",
    "        [0, 1, 2],\n",
    "        [3, 4, 5],\n",
    "    ]\n",
    ")\n",
    "print_dim_info(matrix)"
   ]
  },
  {
   "cell_type": "code",
   "execution_count": null,
   "metadata": {
    "tags": []
   },
   "outputs": [],
   "source": [
    "arr = np.array(\n",
    "    [\n",
    "        [\n",
    "            [0, 1, 2],\n",
    "            [3, 4, 5],\n",
    "        ],\n",
    "        [\n",
    "            [6, 7, 8],\n",
    "            [9, 10, 11],\n",
    "        ],\n",
    "    ]\n",
    ")\n",
    "print_dim_info(arr)"
   ]
  },
  {
   "cell_type": "markdown",
   "metadata": {},
   "source": [
    "<div class=\"alert alert-block alert-info\">\n",
    "    <p style=\"font-weight: bold; font-size:120%;\"><i class=\"fa fa-question-circle\"></i>&nbsp; Exercise</p>\n",
    "\n",
    "1. Without coding, can you guess output of the following commands: `vector[1]`, `matrix[:,1]`, `arr[:,:,1])`, including shape? Check your answer.\n",
    "\n",
    "2. What does `len()` return for NumPy arrays?\n",
    "\n",
    "</div>"
   ]
  },
  {
   "cell_type": "markdown",
   "metadata": {},
   "source": [
    "## Creating arrays\n",
    "\n",
    "You have already seen that `np.array()` creates a NumPy array from explicit nested lists. You will usually want to create NumPy arrays in more automated fashion.\n",
    "\n",
    "Evenly spaced vectors by step size (default: 1), like `range()`:"
   ]
  },
  {
   "cell_type": "code",
   "execution_count": null,
   "metadata": {
    "tags": []
   },
   "outputs": [],
   "source": [
    "np.arange(1, 11, 2)"
   ]
  },
  {
   "cell_type": "markdown",
   "metadata": {},
   "source": [
    "Evenly spaced vectors by number of points (default: 50):"
   ]
  },
  {
   "cell_type": "code",
   "execution_count": null,
   "metadata": {
    "tags": []
   },
   "outputs": [],
   "source": [
    "np.linspace(0, 1, 10)"
   ]
  },
  {
   "cell_type": "markdown",
   "metadata": {},
   "source": [
    "Single value N-dim arrays:"
   ]
  },
  {
   "cell_type": "code",
   "execution_count": null,
   "metadata": {
    "tags": []
   },
   "outputs": [],
   "source": [
    "print(np.zeros(3), \"\\n\")\n",
    "print(np.ones(3), \"\\n\")\n",
    "print(np.zeros((3, 3)), \"\\n\")\n",
    "print(np.ones((3, 3)) * 3, \"\\n\")\n",
    "print(np.zeros((2, 3, 4)), \"\\n\")"
   ]
  },
  {
   "cell_type": "markdown",
   "metadata": {},
   "source": [
    "Diagonal matrices:"
   ]
  },
  {
   "cell_type": "code",
   "execution_count": null,
   "metadata": {
    "tags": []
   },
   "outputs": [],
   "source": [
    "print(np.diag([1, 2, 3]), \"\\n\")\n",
    "print(np.eye(3), \"\\n\")  # same as: np.identity(3)"
   ]
  },
  {
   "cell_type": "markdown",
   "metadata": {},
   "source": [
    "Random samples:"
   ]
  },
  {
   "cell_type": "code",
   "execution_count": null,
   "metadata": {
    "tags": []
   },
   "outputs": [],
   "source": [
    "# fix the random seed if needed\n",
    "np.random.seed(123)\n",
    "\n",
    "size = (2, 3)\n",
    "print(np.random.randint(low=0, high=3, size=size), \"\\n\")\n",
    "print(np.random.uniform(size=size), \"\\n\")  # same as: np.random.rand(*size)\n",
    "print(np.random.normal(size=size), \"\\n\")  # same as: np.random.randn(*size)"
   ]
  },
  {
   "cell_type": "markdown",
   "metadata": {},
   "source": [
    "<div class=\"alert alert-block alert-info\">\n",
    "    <p style=\"font-weight: bold; font-size:120%;\"><i class=\"fa fa-question-circle\"></i>&nbsp; Exercise</p>\n",
    "\n",
    "1. Experiment with examples above.\n",
    "2. Create a lower triangular 9x9 matrix:\n",
    "    \n",
    "$$ \n",
    "\\begin{pmatrix}\n",
    "1 & 0 & \\cdots & 0\\\\\n",
    "2 & 1 & \\cdots & 0\\\\\n",
    "\\vdots & \\vdots & \\ddots & \\vdots\\\\\n",
    "9 & 8 & \\cdots & 1\n",
    "\\end{pmatrix}\n",
    "$$\n",
    "\n",
    "Hint: check `?np.eye`\n",
    "</div>"
   ]
  },
  {
   "cell_type": "markdown",
   "metadata": {},
   "source": [
    "## Basic data types\n",
    "\n",
    "NumPy arrays elements have their data type objects `numpy.dtype`, corresponding to (machine-specific) C data types. The five basic numerical types represent:\n",
    "* 32 bit integers, e.g., `np.int32`\n",
    "* 64 bit unsigned integers, e.g., `np.uint64`\n",
    "* single-precision floating points, e.g. `np.float32`\n",
    "* double-precision floating points, e.g. `np.float64`\n",
    "* boolean, e.g., `np.bool_`\n",
    "* complex with double-precision floating points for each component, e.g., `np.complex128`\n",
    "* (others non-C), `object_`\n",
    "\n",
    "Data type of an element is accessible by `.dtype` property. By default, for numeric arrays, it is a float:"
   ]
  },
  {
   "cell_type": "code",
   "execution_count": null,
   "metadata": {
    "tags": []
   },
   "outputs": [],
   "source": [
    "v1 = np.zeros(3)\n",
    "print(v1)\n",
    "print(v1.dtype)\n",
    "print(type(v1.dtype))"
   ]
  },
  {
   "cell_type": "markdown",
   "metadata": {
    "execution": {
     "iopub.execute_input": "2020-10-20T08:06:03.035545Z",
     "iopub.status.busy": "2020-10-20T08:06:03.035063Z",
     "iopub.status.idle": "2020-10-20T08:06:03.042366Z",
     "shell.execute_reply": "2020-10-20T08:06:03.040925Z",
     "shell.execute_reply.started": "2020-10-20T08:06:03.035476Z"
    }
   },
   "source": [
    "but it can be implicitly inherited from Python objects:"
   ]
  },
  {
   "cell_type": "code",
   "execution_count": null,
   "metadata": {
    "tags": []
   },
   "outputs": [],
   "source": [
    "v2 = np.array([0, 0, 0])\n",
    "print(v2)\n",
    "print(v2.dtype)"
   ]
  },
  {
   "cell_type": "markdown",
   "metadata": {},
   "source": [
    "or specified explicitly via dtype keyword argument:"
   ]
  },
  {
   "cell_type": "code",
   "execution_count": null,
   "metadata": {
    "tags": []
   },
   "outputs": [],
   "source": [
    "v3 = np.zeros(3, dtype=np.int64)\n",
    "print(v3)\n",
    "print(v3.dtype)"
   ]
  },
  {
   "cell_type": "markdown",
   "metadata": {},
   "source": [
    "Data types determine a size of an array in the memory:"
   ]
  },
  {
   "cell_type": "code",
   "execution_count": null,
   "metadata": {
    "tags": []
   },
   "outputs": [],
   "source": [
    "a10int = np.arange(10)\n",
    "print(\"each element takes\", a10int.itemsize, \"bytes\")  # same as `a1.dtype.itemsize`\n",
    "print(\"the full array takes\", a10int.nbytes, \"bytes\")  # .nbytes = .itemsize * .size"
   ]
  },
  {
   "cell_type": "markdown",
   "metadata": {},
   "source": [
    "## Indexing and slicing\n",
    "\n",
    "NumPy arrays use the squared brackets `[]` for indexing and slicing compatible with Python (nested) lists:"
   ]
  },
  {
   "cell_type": "code",
   "execution_count": null,
   "metadata": {
    "tags": []
   },
   "outputs": [],
   "source": [
    "matrix = np.array(\n",
    "    [\n",
    "        [0, 1, 2],\n",
    "        [3, 4, 5],\n",
    "    ]\n",
    ")\n",
    "\n",
    "print(matrix)\n",
    "print()\n",
    "\n",
    "# first row:\n",
    "vector = matrix[0]\n",
    "print(vector)\n",
    "print()\n",
    "\n",
    "number = vector[0]\n",
    "print(number)"
   ]
  },
  {
   "cell_type": "code",
   "execution_count": null,
   "metadata": {
    "tags": []
   },
   "outputs": [],
   "source": [
    "print(vector[-1])  # negative indices for indexing from the end of the array\n",
    "print(vector[:2])  # start:end (note: not including last index)\n",
    "print(vector[0:1])  # pay attention that this is an array while vector[0] is an element\n",
    "print(vector[::2])  # start:end:step\n",
    "print(vector[::-1])  # reverse order\n",
    "print(\n",
    "    vector[:0:-1]\n",
    ")  # start is deduced as len(vector)-1; end=0 is not included (can be confusing)\n",
    "print(vector[1:][::-1])  # easier to follow"
   ]
  },
  {
   "cell_type": "markdown",
   "metadata": {},
   "source": [
    "NumPy throws in multi-dimensional indexing, either using index tuples, or directly:"
   ]
  },
  {
   "cell_type": "code",
   "execution_count": null,
   "metadata": {
    "tags": []
   },
   "outputs": [],
   "source": [
    "print(matrix)\n",
    "print(matrix[0, 1])  # first row, second column\n",
    "print(matrix[::-1, 2])  # all rows reversed (start:end deduced), third column"
   ]
  },
  {
   "cell_type": "markdown",
   "metadata": {},
   "source": [
    "## Iterating\n",
    "\n",
    "`for` loop iterates over a first dimension of a `np.ndarray` array:"
   ]
  },
  {
   "cell_type": "code",
   "execution_count": null,
   "metadata": {
    "tags": []
   },
   "outputs": [],
   "source": [
    "for number in vector:\n",
    "    print(number)\n",
    "print()\n",
    "\n",
    "for row in matrix:\n",
    "    print(row)\n",
    "print()"
   ]
  },
  {
   "cell_type": "markdown",
   "metadata": {},
   "source": [
    "`len()` value and single dim indexing correspond to the for loop behaviour, much like you would expect from nested lists:"
   ]
  },
  {
   "cell_type": "code",
   "execution_count": null,
   "metadata": {
    "tags": []
   },
   "outputs": [],
   "source": [
    "for i in range(len(matrix)):\n",
    "    print(matrix[i])\n",
    "print()"
   ]
  },
  {
   "cell_type": "markdown",
   "metadata": {},
   "source": [
    "To iterate over all elements use `np.nditer` / `np.ndenumerate`\n",
    "\n",
    "**Note**: \n",
    "\n",
    "Memory locations (addresses) on a computer are single numbers, so if you want to store a matrix you have to think about how the row and column index of a matrix element is translated to / from such an address. There are two common schemes for this: `C-order` and `F-order`.\n",
    "\n",
    "By default NumPy arrays are stored in `C-order` , i.e. numbers are stored sequentially row by row, unlike in Fortran or MATLAB where arrays are stored column-wise, called `F-order` in NumPy."
   ]
  },
  {
   "cell_type": "code",
   "execution_count": null,
   "metadata": {
    "tags": []
   },
   "outputs": [],
   "source": [
    "print(matrix)\n",
    "print()\n",
    "\n",
    "for number in np.nditer(matrix):\n",
    "    print(number, end=\", \")\n",
    "print()\n",
    "print()\n",
    "\n",
    "for index, number in np.ndenumerate(matrix):\n",
    "    print(\"a[{}, {}] = {}\".format(*index, number))"
   ]
  },
  {
   "cell_type": "code",
   "execution_count": null,
   "metadata": {
    "tags": []
   },
   "outputs": [],
   "source": [
    "matrix_F_order = np.array(matrix, order=\"F\")\n",
    "\n",
    "print(matrix_F_order)\n",
    "print()\n",
    "\n",
    "for number in np.nditer(matrix_F_order):\n",
    "    print(number, end=\", \")\n",
    "\n",
    "print()\n",
    "print()\n",
    "\n",
    "for index, number in np.ndenumerate(matrix_F_order):\n",
    "    print(\"a[{}, {}] = {}\".format(*index, number))"
   ]
  },
  {
   "cell_type": "markdown",
   "metadata": {},
   "source": [
    "## Views vs. copies\n",
    "\n",
    "Assigning an Python object to another variable does not copy the data, but assigns another name to the same object."
   ]
  },
  {
   "cell_type": "code",
   "execution_count": null,
   "metadata": {
    "tags": []
   },
   "outputs": [],
   "source": [
    "a = [1, 2, 3]\n",
    "b = a\n",
    "\n",
    "print(\"memory address of a\", id(a))\n",
    "print(\"memory address of b\", id(b))\n",
    "\n",
    "print(\"a is b:\", a is b)"
   ]
  },
  {
   "cell_type": "markdown",
   "metadata": {},
   "source": [
    "The consequence is that modifying `a` also modifies `b`:"
   ]
  },
  {
   "cell_type": "code",
   "execution_count": null,
   "metadata": {
    "tags": []
   },
   "outputs": [],
   "source": [
    "a[1] = 42\n",
    "print(\"a = \", a)\n",
    "print(\"b = \", b)"
   ]
  },
  {
   "cell_type": "markdown",
   "metadata": {},
   "source": [
    "To create a full copy Python offers multiple options. E.g."
   ]
  },
  {
   "cell_type": "code",
   "execution_count": null,
   "metadata": {
    "tags": []
   },
   "outputs": [],
   "source": [
    "from copy import deepcopy\n",
    "\n",
    "a = [1, 2, 3]\n",
    "b = deepcopy(a)\n",
    "print(\"memory address of a\", id(a))\n",
    "print(\"memory address of b\", id(b))\n",
    "\n",
    "print(\"a is b:\", a is b)\n",
    "\n",
    "a[1] = 42\n",
    "print(\"a =\", a)\n",
    "print(\"b =\", b)"
   ]
  },
  {
   "cell_type": "markdown",
   "metadata": {},
   "source": [
    "In order to copy an array there is the `np.copy` function. \n",
    "\n",
    "**Warning**: There is also a `copy` method for the numpy array but the behaviour is slightly different: a `C-order` copy of the array is done even if the original array was in `F-order`.\n",
    "\n",
    "**Note**: In case the data type is `object_` you have to use `copy.deepcopy` to ensure all elements are copied."
   ]
  },
  {
   "cell_type": "code",
   "execution_count": null,
   "metadata": {
    "tags": []
   },
   "outputs": [],
   "source": [
    "matrix_F_order_copy1 = np.copy(matrix_F_order)\n",
    "print(np.isfortran(matrix_F_order_copy1))\n",
    "\n",
    "print()\n",
    "\n",
    "matrix_F_order_copy2 = matrix_F_order.copy()\n",
    "print(np.isfortran(matrix_F_order_copy2))\n",
    "\n",
    "print()\n",
    "\n",
    "import copy\n",
    "\n",
    "matrix_F_order_copy3 = copy.deepcopy(matrix_F_order)\n",
    "print(np.isfortran(matrix_F_order_copy3))"
   ]
  },
  {
   "cell_type": "markdown",
   "metadata": {},
   "source": [
    "**Beware**: slicing doesn't copy the original array in memory, but only creates a \"view\" on an existing memory block. There is no implicit copy-on-write behaviour here (like in MATLAB)."
   ]
  },
  {
   "cell_type": "code",
   "execution_count": null,
   "metadata": {
    "tags": []
   },
   "outputs": [],
   "source": [
    "vec1 = np.arange(10)\n",
    "print(\"vec1\", vec1)\n",
    "vec2 = vec1[:3]\n",
    "print(\"vec2\", vec2)\n",
    "\n",
    "vec2[:] = vec2[::-1]\n",
    "print(\"vec2 after change\", vec2)\n",
    "print(\"vec1\", vec1)  # the original array has also changed!"
   ]
  },
  {
   "cell_type": "markdown",
   "metadata": {},
   "source": [
    "Use `np.shares_memory()` to check if two arrays share memory"
   ]
  },
  {
   "cell_type": "code",
   "execution_count": null,
   "metadata": {
    "tags": []
   },
   "outputs": [],
   "source": [
    "np.shares_memory(vec1, vec2)"
   ]
  },
  {
   "cell_type": "markdown",
   "metadata": {},
   "source": [
    "You can make explicitly copies using `np.copy()` function:"
   ]
  },
  {
   "cell_type": "code",
   "execution_count": null,
   "metadata": {
    "tags": []
   },
   "outputs": [],
   "source": [
    "vec1 = np.arange(10)\n",
    "vec2 = np.copy(vec1[:3])  # create a copy from the view\n",
    "print(np.shares_memory(vec1, vec2))\n",
    "vec2[:] = vec2[::-1]\n",
    "print(vec2)\n",
    "print(vec1)  # the original array is intact"
   ]
  },
  {
   "cell_type": "markdown",
   "metadata": {},
   "source": [
    "## Shape manipulation\n",
    "\n",
    "In most cases the changes in dimensions of an array create a view of the original array, not its copy.\n",
    "\n",
    "Shape of an array can be changed using `.reshape()` method:\n"
   ]
  },
  {
   "cell_type": "code",
   "execution_count": null,
   "metadata": {
    "tags": []
   },
   "outputs": [],
   "source": [
    "vector = np.arange(8)\n",
    "print(vector, \"\\n\")\n",
    "\n",
    "matrix = vector.reshape(2, 4)  # product of `.shape` entries must stay the same\n",
    "print(matrix, \"\\n\")\n",
    "\n",
    "arr = matrix.reshape(2, 2, 2)\n",
    "print(arr, \"\\n\")\n",
    "\n",
    "# .reshape() returns a view\n",
    "arr[1, 1, 1] = 0\n",
    "print(vector)"
   ]
  },
  {
   "cell_type": "markdown",
   "metadata": {},
   "source": [
    "One can specify `-1` for one of the reshape arguments, since its value is fixed due to the constraint that the arguments product must not change:"
   ]
  },
  {
   "cell_type": "code",
   "execution_count": null,
   "metadata": {
    "tags": []
   },
   "outputs": [],
   "source": [
    "print(vector.reshape(-1, 2))\n",
    "print(vector.reshape(2, -1, 2))"
   ]
  },
  {
   "cell_type": "markdown",
   "metadata": {},
   "source": [
    "You can conveniently get a vector view (or copy) of an array of any shape using `.ravel()` (or `.flatten()`):"
   ]
  },
  {
   "cell_type": "code",
   "execution_count": null,
   "metadata": {
    "tags": []
   },
   "outputs": [],
   "source": [
    "print(arr.ravel())  # same as: arr.reshape(np.prod(arr.shape))\n",
    "print(arr.flatten())  # same as: arr.ravel().copy()"
   ]
  },
  {
   "cell_type": "markdown",
   "metadata": {},
   "source": [
    "To conveniently add dimension (of size 1) to an existing array you can use `numpy.newaxis` in combination with slicing:"
   ]
  },
  {
   "cell_type": "code",
   "execution_count": null,
   "metadata": {
    "tags": []
   },
   "outputs": [],
   "source": [
    "vector = np.arange(10)\n",
    "print(vector)\n",
    "print(vector.shape)\n",
    "print()\n",
    "\n",
    "# single row matrix; same as: vector.reshape(1, vector.shape[0])\n",
    "mat_row = vector[np.newaxis, :]\n",
    "print(mat_row.shape)\n",
    "print(mat_row)\n",
    "print()\n",
    "\n",
    "# single column matrix (column vector)\n",
    "mat_col = vector[:, np.newaxis]\n",
    "print(mat_col.shape)\n",
    "print(mat_col)\n",
    "print()"
   ]
  },
  {
   "cell_type": "markdown",
   "metadata": {},
   "source": [
    "`None` instead of `np.newaxis` also works:"
   ]
  },
  {
   "cell_type": "code",
   "execution_count": null,
   "metadata": {
    "tags": []
   },
   "outputs": [],
   "source": [
    "print(vector[None, :])\n",
    "print(vector[:, None])"
   ]
  },
  {
   "cell_type": "markdown",
   "metadata": {},
   "source": [
    "In addition to `.reshape()` method there is also `.resize()` method which changes an array **\"in-place\"** and allows for size changes:"
   ]
  },
  {
   "cell_type": "code",
   "execution_count": null,
   "metadata": {
    "tags": []
   },
   "outputs": [],
   "source": [
    "arr = np.arange(8)\n",
    "print(arr, \"\\n\")\n",
    "\n",
    "arr.resize(2, 5)  # fill w/ zeros\n",
    "print(arr, \"\\n\")\n",
    "\n",
    "arr.resize(2, 2)  # trim\n",
    "print(arr, \"\\n\")"
   ]
  },
  {
   "cell_type": "markdown",
   "metadata": {},
   "source": [
    "Side note: `np.resize()` function works differently - it creates a copy and fills-up added size with repeats of the original array (not zeros):"
   ]
  },
  {
   "cell_type": "code",
   "execution_count": null,
   "metadata": {
    "tags": []
   },
   "outputs": [],
   "source": [
    "arr2 = np.resize(arr, (3, 3))\n",
    "print(arr2, \"\\n\")\n",
    "print(np.shares_memory(arr, arr2))"
   ]
  },
  {
   "cell_type": "markdown",
   "metadata": {
    "execution": {
     "iopub.execute_input": "2020-10-20T08:23:47.050132Z",
     "iopub.status.busy": "2020-10-20T08:23:47.048472Z",
     "iopub.status.idle": "2020-10-20T08:23:47.069542Z",
     "shell.execute_reply": "2020-10-20T08:23:47.064509Z",
     "shell.execute_reply.started": "2020-10-20T08:23:47.049963Z"
    }
   },
   "source": [
    "Transposition allows for easy re-shuffling of dimensions of an array:"
   ]
  },
  {
   "cell_type": "code",
   "execution_count": null,
   "metadata": {
    "tags": []
   },
   "outputs": [],
   "source": [
    "matrix = np.arange(6).reshape(3, 2)\n",
    "print(matrix)\n",
    "print(matrix.T)  # same as: matrix.transpose()"
   ]
  },
  {
   "cell_type": "markdown",
   "metadata": {},
   "source": [
    "where `.T` always reverses order of dimensions and `.transpose()` allows for any permutation:"
   ]
  },
  {
   "cell_type": "code",
   "execution_count": null,
   "metadata": {
    "tags": []
   },
   "outputs": [],
   "source": [
    "arr = matrix.reshape(1, 2, 3)\n",
    "print(arr.shape)\n",
    "print(arr.T.shape)\n",
    "print(arr.transpose(1, 2, 0).shape)"
   ]
  },
  {
   "cell_type": "markdown",
   "metadata": {},
   "source": [
    "## \"Fancy\" indexing\n",
    "\n",
    "\n",
    "\"Fancy\" indexing means indexing with boolean or integer masks, which is very convenient for filtering array elements:"
   ]
  },
  {
   "cell_type": "code",
   "execution_count": null,
   "metadata": {
    "execution": {
     "iopub.execute_input": "2021-08-17T14:05:59.301353Z",
     "iopub.status.busy": "2021-08-17T14:05:59.300267Z",
     "iopub.status.idle": "2021-08-17T14:05:59.322271Z",
     "shell.execute_reply": "2021-08-17T14:05:59.317329Z",
     "shell.execute_reply.started": "2021-08-17T14:05:59.301228Z"
    }
   },
   "outputs": [],
   "source": [
    "np.random.seed(42)\n",
    "vector = np.random.uniform(-1, 1, size=5)\n",
    "print(vector)"
   ]
  },
  {
   "cell_type": "code",
   "execution_count": null,
   "metadata": {
    "execution": {
     "iopub.execute_input": "2021-08-17T14:05:59.327147Z",
     "iopub.status.busy": "2021-08-17T14:05:59.326066Z",
     "iopub.status.idle": "2021-08-17T14:05:59.349580Z",
     "shell.execute_reply": "2021-08-17T14:05:59.345036Z",
     "shell.execute_reply.started": "2021-08-17T14:05:59.327115Z"
    }
   },
   "outputs": [],
   "source": [
    "mask = vector < 0\n",
    "print(mask)"
   ]
  },
  {
   "cell_type": "code",
   "execution_count": null,
   "metadata": {
    "execution": {
     "iopub.execute_input": "2021-08-17T14:05:59.355418Z",
     "iopub.status.busy": "2021-08-17T14:05:59.354038Z",
     "iopub.status.idle": "2021-08-17T14:05:59.385078Z",
     "shell.execute_reply": "2021-08-17T14:05:59.381124Z",
     "shell.execute_reply.started": "2021-08-17T14:05:59.355356Z"
    }
   },
   "outputs": [],
   "source": [
    "vector[vector < 0]"
   ]
  },
  {
   "cell_type": "markdown",
   "metadata": {},
   "source": [
    "This is again a view, so we can change the elements of the original vector:"
   ]
  },
  {
   "cell_type": "code",
   "execution_count": null,
   "metadata": {
    "execution": {
     "iopub.execute_input": "2021-08-17T14:05:59.389384Z",
     "iopub.status.busy": "2021-08-17T14:05:59.388339Z",
     "iopub.status.idle": "2021-08-17T14:05:59.406296Z",
     "shell.execute_reply": "2021-08-17T14:05:59.403507Z",
     "shell.execute_reply.started": "2021-08-17T14:05:59.389298Z"
    }
   },
   "outputs": [],
   "source": [
    "vector[vector < 0] = 0\n",
    "print(vector)"
   ]
  },
  {
   "cell_type": "code",
   "execution_count": null,
   "metadata": {
    "execution": {
     "iopub.execute_input": "2021-08-17T14:05:59.412530Z",
     "iopub.status.busy": "2021-08-17T14:05:59.410701Z",
     "iopub.status.idle": "2021-08-17T14:05:59.431209Z",
     "shell.execute_reply": "2021-08-17T14:05:59.426833Z",
     "shell.execute_reply.started": "2021-08-17T14:05:59.412318Z"
    }
   },
   "outputs": [],
   "source": [
    "vector = vector[vector != 0]\n",
    "print(vector)"
   ]
  },
  {
   "cell_type": "markdown",
   "metadata": {},
   "source": [
    "Using integer masks is like slicing, but with custom lists of indices for each dimension:"
   ]
  },
  {
   "cell_type": "code",
   "execution_count": null,
   "metadata": {
    "execution": {
     "iopub.execute_input": "2021-08-17T14:05:59.436683Z",
     "iopub.status.busy": "2021-08-17T14:05:59.435862Z",
     "iopub.status.idle": "2021-08-17T14:05:59.463326Z",
     "shell.execute_reply": "2021-08-17T14:05:59.460049Z",
     "shell.execute_reply.started": "2021-08-17T14:05:59.436520Z"
    }
   },
   "outputs": [],
   "source": [
    "arr = np.diag(np.arange(1, 6))\n",
    "\n",
    "print(arr)\n",
    "print()\n",
    "print(arr[:2, [0, 1]])"
   ]
  },
  {
   "cell_type": "markdown",
   "metadata": {
    "execution": {
     "iopub.execute_input": "2020-10-20T08:20:19.449415Z",
     "iopub.status.busy": "2020-10-20T08:20:19.449125Z",
     "iopub.status.idle": "2020-10-20T08:20:19.455974Z",
     "shell.execute_reply": "2020-10-20T08:20:19.454454Z",
     "shell.execute_reply.started": "2020-10-20T08:20:19.449383Z"
    }
   },
   "source": [
    "When using NumPy arrays for indexing, shape of the index is used in the result:"
   ]
  },
  {
   "cell_type": "code",
   "execution_count": null,
   "metadata": {
    "execution": {
     "iopub.execute_input": "2021-08-17T14:05:59.469638Z",
     "iopub.status.busy": "2021-08-17T14:05:59.468390Z",
     "iopub.status.idle": "2021-08-17T14:05:59.500837Z",
     "shell.execute_reply": "2021-08-17T14:05:59.496411Z",
     "shell.execute_reply.started": "2021-08-17T14:05:59.469518Z"
    }
   },
   "outputs": [],
   "source": [
    "vector = 1 + np.arange(10)\n",
    "print(vector)\n",
    "print()\n",
    "idx = np.array(\n",
    "    [\n",
    "        [1, 3],\n",
    "        [4, 6],\n",
    "    ]\n",
    ")\n",
    "print(vector[idx])"
   ]
  },
  {
   "cell_type": "markdown",
   "metadata": {},
   "source": [
    "<div class=\"alert alert-block alert-info\">\n",
    "    <p style=\"font-weight: bold; font-size:120%;\"><i class=\"fa fa-question-circle\"></i>&nbsp; Exercise</p>\n",
    "\n",
    "1. Experiment with examples above. (What if mask has a different size? Can you combine slicing/lists and NumPy arrays in multi-dim indexing?)\n",
    "2. Write a `matrix_elements_at` function that takes a matrix and list of tuples of (i,j) positons in a matrix and returns a vector of elements at these positions. Test it: `matrix_elements_at(np.diag(range(4)), [(3,3),(2,2),(0,1)])` should return a 3, 2, 0 vector.\n",
    "\n",
    "</div>"
   ]
  },
  {
   "cell_type": "markdown",
   "metadata": {},
   "source": [
    "## Numerical Operations and universal functions (ufuncs)\n",
    "\n",
    "All algebraic operations such as `+` or `*` are element-wise. "
   ]
  },
  {
   "cell_type": "code",
   "execution_count": null,
   "metadata": {
    "execution": {
     "iopub.execute_input": "2021-08-17T14:05:59.507402Z",
     "iopub.status.busy": "2021-08-17T14:05:59.506393Z",
     "iopub.status.idle": "2021-08-17T14:05:59.535998Z",
     "shell.execute_reply": "2021-08-17T14:05:59.530810Z",
     "shell.execute_reply.started": "2021-08-17T14:05:59.507233Z"
    }
   },
   "outputs": [],
   "source": [
    "vector = np.arange(8).reshape(2, 4)\n",
    "print(vector + vector)\n",
    "print(vector ** 2)\n",
    "print(vector * vector)  # element-wise multiplication!"
   ]
  },
  {
   "cell_type": "markdown",
   "metadata": {},
   "source": [
    "For dot-product and matrix multiplication use `@` or `.dot`:"
   ]
  },
  {
   "cell_type": "code",
   "execution_count": null,
   "metadata": {
    "execution": {
     "iopub.execute_input": "2021-08-17T14:05:59.544801Z",
     "iopub.status.busy": "2021-08-17T14:05:59.543407Z",
     "iopub.status.idle": "2021-08-17T14:05:59.588800Z",
     "shell.execute_reply": "2021-08-17T14:05:59.583355Z",
     "shell.execute_reply.started": "2021-08-17T14:05:59.544549Z"
    }
   },
   "outputs": [],
   "source": [
    "vector = np.arange(3)\n",
    "print(vector @ vector)  # same as: vector.dot(vector)\n",
    "print()\n",
    "\n",
    "matrix = np.ones((3, 3))\n",
    "mat_id = np.eye(3)\n",
    "print(matrix * mat_id)  # element-wise multiplication\n",
    "print(matrix @ mat_id)  # same as: matrix.dot(mat_id)"
   ]
  },
  {
   "cell_type": "markdown",
   "metadata": {},
   "source": [
    "The benefit of `@` is that more complicated matrix products are more readable. E.g.  $A^T B A$:"
   ]
  },
  {
   "cell_type": "code",
   "execution_count": null,
   "metadata": {
    "tags": []
   },
   "outputs": [],
   "source": [
    "A = np.random.random(size=(3, 3))\n",
    "B = np.random.random(size=(3, 3))\n",
    "\n",
    "# which one is more readable:???\n",
    "print(A.T @ B @ A == np.dot(np.dot(A.T, B), A))"
   ]
  },
  {
   "cell_type": "markdown",
   "metadata": {},
   "source": [
    "The so called `ufuncs` in `numpy` implement functions such as `sin`, `log`, ... and operate element wise on the elements:"
   ]
  },
  {
   "cell_type": "code",
   "execution_count": null,
   "metadata": {
    "tags": []
   },
   "outputs": [],
   "source": [
    "a = np.arange(6).reshape(3, -1)\n",
    "print(a)\n",
    "print(np.sin(a))"
   ]
  },
  {
   "cell_type": "markdown",
   "metadata": {},
   "source": [
    "## Broadcasting\n",
    "\n",
    "Broadcating performs numerical operations between arrays with different dimensions, e.g., adding a scalar (zero-dimension array) to an array."
   ]
  },
  {
   "cell_type": "code",
   "execution_count": null,
   "metadata": {
    "tags": []
   },
   "outputs": [],
   "source": [
    "a = np.arange(12).reshape(3, -1)\n",
    "print(a)\n",
    "a + 17"
   ]
  },
  {
   "cell_type": "markdown",
   "metadata": {},
   "source": [
    "Broadcasting also allows operations of arrays with mixed dimensions > 0:"
   ]
  },
  {
   "cell_type": "code",
   "execution_count": null,
   "metadata": {
    "tags": []
   },
   "outputs": [],
   "source": [
    "a = np.arange(12).reshape(3, -1)\n",
    "b = np.array([1, 10, 100, 1000]).reshape(-1, 4)\n",
    "print(a)\n",
    "print(b)\n",
    "print(a.shape)\n",
    "print(b.shape)"
   ]
  },
  {
   "cell_type": "code",
   "execution_count": null,
   "metadata": {
    "tags": []
   },
   "outputs": [],
   "source": [
    "print(a + b)"
   ]
  },
  {
   "cell_type": "markdown",
   "metadata": {},
   "source": [
    "Here the array `b` was \n",
    "1. first externally \"extended\" to match the shape of `a` by row-wise copying\n",
    "2. and then added element-wise.\n",
    "\n",
    "Another example for broadcasting where we operate row wise:"
   ]
  },
  {
   "cell_type": "code",
   "execution_count": null,
   "metadata": {
    "tags": []
   },
   "outputs": [],
   "source": [
    "c = np.array([1, 10, 100]).reshape(3, -1)\n",
    "print(c)\n",
    "print(c.shape)"
   ]
  },
  {
   "cell_type": "code",
   "execution_count": null,
   "metadata": {
    "tags": []
   },
   "outputs": [],
   "source": [
    "print(a * c)"
   ]
  },
  {
   "cell_type": "markdown",
   "metadata": {},
   "source": [
    "In order to understand broadcasting please read the introduction and the rules of broadcasting from: https://jakevdp.github.io/PythonDataScienceHandbook/02.05-computation-on-arrays-broadcasting.html"
   ]
  },
  {
   "cell_type": "markdown",
   "metadata": {},
   "source": [
    "However, broadcasting cannot be applied to any two different dimensions."
   ]
  },
  {
   "cell_type": "code",
   "execution_count": null,
   "metadata": {
    "tags": [
     "raises-exception"
    ]
   },
   "outputs": [],
   "source": [
    "c = np.array([1, 10]).reshape(1, -1)\n",
    "print(c)\n",
    "a + c"
   ]
  },
  {
   "cell_type": "markdown",
   "metadata": {},
   "source": [
    "## Further reading\n",
    "\n",
    "* https://numpy.org/devdocs/user/absolute_beginners.html\n",
    "* https://numpy.org/devdocs/user/basics.html\n",
    "* https://jakevdp.github.io/PythonDataScienceHandbook/02.00-introduction-to-numpy.html\n",
    "* https://numpy.org/\n",
    "* Harris, C.R., Millman, K.J., van der Walt, S.J. et al. Array programming with NumPy. Nature 585, 357–362 (2020). https://doi.org/10.1038/s41586-020-2649-2"
   ]
  },
  {
   "cell_type": "markdown",
   "metadata": {},
   "source": [
    "# Pandas\n",
    "\n",
    "`pandas` is a flexible and powerful data analysis / manipulation library for Python, providing labeled data structures similar to R `data.frame` objects, statistical functions, and much more https://pandas.pydata.org\n",
    "\n",
    "Pandas data frames are:\n",
    "\n",
    "* a non-homogeneous tabular data structure (called data frames), contrary to 2D `numpy` arrays each column in a `data.frame` can have a different type.\n",
    "* built using NumPy arrays internaly, so also vectorized and (C) fast, but also lazy,\n",
    "* convenient to transform, summarize, and plot.\n"
   ]
  },
  {
   "cell_type": "code",
   "execution_count": null,
   "metadata": {
    "tags": []
   },
   "outputs": [],
   "source": [
    "import pandas as pd  # Pandas import convention\n",
    "\n",
    "# Inline, sharp plots\n",
    "%matplotlib inline\n",
    "%config InlineBackend.figure_format = 'retina'"
   ]
  },
  {
   "cell_type": "markdown",
   "metadata": {},
   "source": [
    "## Read file"
   ]
  },
  {
   "cell_type": "code",
   "execution_count": null,
   "metadata": {
    "tags": []
   },
   "outputs": [],
   "source": [
    "# Brain size and weight and IQ data (Willerman et al. 1991)\n",
    "# Downloaded from Scipy Lecture Notes on 30. Jun 2019:\n",
    "# http://scipy-lectures.org/_downloads/brain_size.csv\n",
    "#\n",
    "\n",
    "# no need to undestand the following line, it will show the first 6 lines\n",
    "# of the file data/brain_size.csv\n",
    "!head -n 6 data/brain_size.csv"
   ]
  },
  {
   "cell_type": "markdown",
   "metadata": {},
   "source": [
    "Pandas provides the `read_csv()` function to read data from a CSV file into a pandas DataFrame. In addition to CSV, Pandas also support several file formats, e.g., Excel, SQL, JSON, Parquet, etc. Each reading functions has the prefix `read_*`."
   ]
  },
  {
   "cell_type": "code",
   "execution_count": null,
   "metadata": {
    "tags": []
   },
   "outputs": [],
   "source": [
    "df = pd.read_csv(\"data/brain_size.csv\", sep=\";\", na_values=\".\", index_col=0)"
   ]
  },
  {
   "cell_type": "markdown",
   "metadata": {
    "execution": {
     "iopub.execute_input": "2020-10-26T13:53:53.826620Z",
     "iopub.status.busy": "2020-10-26T13:53:53.826331Z",
     "iopub.status.idle": "2020-10-26T13:53:53.831487Z",
     "shell.execute_reply": "2020-10-26T13:53:53.830153Z",
     "shell.execute_reply.started": "2020-10-26T13:53:53.826582Z"
    }
   },
   "source": [
    "To see the first 5 rows of a pandas DataFrame:"
   ]
  },
  {
   "cell_type": "code",
   "execution_count": null,
   "metadata": {
    "tags": []
   },
   "outputs": [],
   "source": [
    "df.head(5)"
   ]
  },
  {
   "cell_type": "markdown",
   "metadata": {},
   "source": [
    "and for the last 5 rows:"
   ]
  },
  {
   "cell_type": "code",
   "execution_count": null,
   "metadata": {
    "tags": []
   },
   "outputs": [],
   "source": [
    "df.tail(5)"
   ]
  },
  {
   "cell_type": "markdown",
   "metadata": {},
   "source": [
    "A data frame allows fast indexing along both the columns and rows denoted by the `columns` and `index` attributes, respectively. The columns and rows are labeled such that one can use the names. Each column in a data frame is a `pd.Series` and is very similar to a NumPy 1D array, with the difference that the positional index is also labeled."
   ]
  },
  {
   "cell_type": "code",
   "execution_count": null,
   "metadata": {
    "tags": []
   },
   "outputs": [],
   "source": [
    "print(\"shape:\", df.shape)\n",
    "print()\n",
    "print(\"column labels:\")\n",
    "print(df.columns)\n",
    "print()\n",
    "print(\"column types:\")\n",
    "print(df.dtypes)\n",
    "print()\n",
    "print(\"row labels:\")\n",
    "print(df.index)"
   ]
  },
  {
   "cell_type": "markdown",
   "metadata": {},
   "source": [
    "**Side note**: Pandas has a great date-time support, including indexing using date-time ranges or groups. See, e.g., https://jakevdp.github.io/PythonDataScienceHandbook/03.11-working-with-time-series.html#Pandas-Time-Series:-Indexing-by-Time"
   ]
  },
  {
   "cell_type": "markdown",
   "metadata": {},
   "source": [
    "## Indexing and Slicing"
   ]
  },
  {
   "cell_type": "markdown",
   "metadata": {},
   "source": [
    "Pandas DataFrames support 3 types of multi-axis indexing:\n",
    "1. `.loc[]` for label based\n",
    "2. `.iloc[]` for integer position based (similar to Python)\n",
    "3. `[]` \n",
    "\n",
    "\n",
    "**Warning**: `[]` can introduce confusion so we will skip it."
   ]
  },
  {
   "cell_type": "code",
   "execution_count": null,
   "metadata": {
    "tags": []
   },
   "outputs": [],
   "source": [
    "print(\"first three rows, column with index 0:\")\n",
    "print()\n",
    "print(df.iloc[:3, 0].head())\n",
    "print()\n",
    "\n",
    "print(\"rows 1..3, column with name 'Gender':\")\n",
    "print()\n",
    "# end index/name IS INCLUSIVE!!!!!\n",
    "\n",
    "print(df.loc[1:3, \"Gender\"].head())\n",
    "print()\n",
    "\n",
    "print(type(df.loc[:, \"Gender\"]))  # a single column is a series\n",
    "print(type(df.loc[:, [\"Gender\"]]))  # a list of columns is a data frame"
   ]
  },
  {
   "cell_type": "code",
   "execution_count": null,
   "metadata": {
    "tags": []
   },
   "outputs": [],
   "source": [
    "# access col as attribute as long has a valid name\n",
    "print(df.Gender.iloc[:3])\n",
    "print()\n",
    "# access multilple cols\n",
    "print(df.loc[:, [\"Gender\", \"Weight\"]].iloc[:3, :])\n",
    "print()"
   ]
  },
  {
   "cell_type": "markdown",
   "metadata": {},
   "source": [
    "To avoid confusion, for slicing and indexing using row (and columns) names or indices best use, respectively, loc or iloc properties:"
   ]
  },
  {
   "cell_type": "code",
   "execution_count": null,
   "metadata": {
    "tags": []
   },
   "outputs": [],
   "source": [
    "print(df.loc[:3, \"Gender\":\"Weight\"])  # use \"labels\", so :3 == [1, 2, 3]\n",
    "print()\n",
    "print(df.iloc[:3, :-2])  # use Python indexing, so :3 == [0, 1, 2]\n",
    "print()\n",
    "print(all(df.loc[1, :] == df.iloc[0, :]))"
   ]
  },
  {
   "cell_type": "markdown",
   "metadata": {},
   "source": [
    "## Fancy indexing\n",
    "\n",
    "Works as in NumPy:"
   ]
  },
  {
   "cell_type": "code",
   "execution_count": null,
   "metadata": {
    "tags": []
   },
   "outputs": [],
   "source": [
    "print(df.loc[df.Weight > 150, \"Gender\"])"
   ]
  },
  {
   "cell_type": "markdown",
   "metadata": {},
   "source": [
    "Bool masks index by rows, same as in slicing:"
   ]
  },
  {
   "cell_type": "code",
   "execution_count": null,
   "metadata": {
    "tags": []
   },
   "outputs": [],
   "source": [
    "len(df.loc[(df.Weight > 150) & (df.Gender == \"Male\"), :])"
   ]
  },
  {
   "cell_type": "markdown",
   "metadata": {},
   "source": [
    "## More about Pandas \n",
    "\n",
    "Pandas offers data structures and operations for manipulating numerical tables and time series:\n",
    "\n",
    "* A fast and efficient DataFrame object for data manipulation with integrated indexing;\n",
    "* Tools for reading and writing data between in-memory data structures and different formats: CSV and text files, Microsoft Excel, SQL databases, and the fast HDF5 format;\n",
    "* Intelligent data alignment and integrated handling of missing data: gain automatic label-based alignment in computations and easily manipulate messy data into an orderly form;\n",
    "* Flexible reshaping and pivoting of data sets;\n",
    "* Intelligent label-based slicing, fancy indexing, and subsetting of large data sets;\n",
    "* Columns can be inserted and deleted from data structures for size mutability;\n",
    "* Aggregating or transforming data with a powerful group by engine allowing split-apply-combine operations on data sets;\n",
    "* High performance merging and joining of data sets;\n",
    "* Hierarchical axis indexing provides an intuitive way of working with high-dimensional data in a lower-dimensional data structure;\n",
    "* Time series-functionality: date range generation and frequency conversion, moving window statistics, date shifting and lagging. Even create domain-specific time offsets and join time series without losing data;\n",
    "* Highly optimized for performance, with critical code paths written in Cython or C.\n",
    "* Python with pandas is in use in a wide variety of academic and commercial domains, including Finance, Neuroscience, Economics, Statistics, Advertising, Web Analytics, and more."
   ]
  },
  {
   "cell_type": "markdown",
   "metadata": {},
   "source": [
    "## Further reading\n",
    "\n",
    "* https://pandas.pydata.org/pandas-docs/stable/user_guide/10min.html\n",
    "* https://pandas.pydata.org/pandas-docs/stable/user_guide/index.html\n",
    "* https://jakevdp.github.io/PythonDataScienceHandbook/03.00-introduction-to-pandas.html\n",
    "* https://pandas.pydata.org/\n",
    "* Wes McKinney, Python for Data Analysis: Data Wrangling with Pandas, NumPy, and IPython 2nd Edition (2018); ISBN13: 9781491957660, ISBN10: 1491957662"
   ]
  }
 ],
 "metadata": {
  "kernelspec": {
   "display_name": "Python 3 (ipykernel)",
   "language": "python",
   "name": "python3"
  },
  "language_info": {
   "codemirror_mode": {
    "name": "ipython",
    "version": 3
   },
   "file_extension": ".py",
   "mimetype": "text/x-python",
   "name": "python",
   "nbconvert_exporter": "python",
   "pygments_lexer": "ipython3",
   "version": "3.8.12"
  },
  "toc-autonumbering": true
 },
 "nbformat": 4,
 "nbformat_minor": 4
}
