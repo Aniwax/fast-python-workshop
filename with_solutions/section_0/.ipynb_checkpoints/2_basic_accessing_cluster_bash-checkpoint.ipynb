{
 "cells": [
  {
   "cell_type": "markdown",
   "metadata": {},
   "source": [
    "<span style=\"font-size:250%;\">Basic bash</span>"
   ]
  },
  {
   "cell_type": "markdown",
   "metadata": {},
   "source": [
    "The Euler clusters use a **Linux** operating system.  \n",
    "To interact with the cluster, you can use the Linux **command line** which is a text interface referred to as a Linux terminal, shell, console, prompts or other names.\n",
    "\n",
    "Here are useful basic command lines which, in the examples, are preceded with the dollar sign `$` and the line below the commands without the dollar sign are the screen output.\n",
    "\n",
    "Check your current directory:\n",
    "```bash\n",
    "$ pwd\n",
    "/home/jarunanp\n",
    "```\n",
    "\n",
    "Create a directory:\n",
    "```bash\n",
    "$ mkdir fast-python-tutorial\n",
    "```\n",
    "\n",
    "Change directory:\n",
    "```bash\n",
    "$ cd fast-python-tutorial\n",
    "$ pwd\n",
    "/home/jarunanp/fast-python-tutorial\n",
    "```\n",
    "\n",
    "|`cd` commands| |\n",
    "|---|---|\n",
    "|`cd`  | Change to the home directory   |\n",
    "|`cd ~` |  Change to the home directory |\n",
    "|`cd ..`| Change to the parent directory   |\n",
    "|`cd -`| Change to the previous directory   |   \n",
    "|`cd dir1`| Change to `dir1` directory |\n"
   ]
  },
  {
   "cell_type": "markdown",
   "metadata": {},
   "source": [
    "List files and folders in the current directory:\n",
    "```bash\n",
    "$ ls\n",
    "section_0\n",
    "\n",
    "$ ls -l\n",
    "drwxrwxr-x 3 jarunanp jarunanp 4096 Okt 26 08:26 section_0\n",
    "```\n",
    "\n",
    "\n",
    "|`ls` commands|    |\n",
    "|------------|-------|\n",
    "|`ls`| display list of files and folders   |\n",
    "|`ls -l`  | display Unix files types, permissions number, number of hard links, owner, group, size, last modified date and filename|\n",
    "|`ls -a` | display all files, also the one starting with \".\" |\n",
    "|`ls -la`| combine options   |   "
   ]
  },
  {
   "cell_type": "markdown",
   "metadata": {
    "execution": {
     "iopub.execute_input": "2020-10-28T11:26:47.763266Z",
     "iopub.status.busy": "2020-10-28T11:26:47.762209Z",
     "iopub.status.idle": "2020-10-28T11:26:47.779396Z",
     "shell.execute_reply": "2020-10-28T11:26:47.776888Z",
     "shell.execute_reply.started": "2020-10-28T11:26:47.762999Z"
    }
   },
   "source": [
    "Display a string to the standard output or redirect it to a file:\n",
    "```bash\n",
    "$ echo hello\n",
    "hello\n",
    "\n",
    "$ echo hello > output.log\n",
    "```\n",
    "\n",
    "Display the content of a file:\n",
    "```bash\n",
    "$ cat output.log\n",
    "hello\n",
    "```\n",
    "\n",
    "More command to display content of a file:\n",
    "```bash\n",
    "$ less file\n",
    "$ more file\n",
    "$ head file\n",
    "$ tail file\n",
    "```\n",
    "\n",
    "Copy a file:\n",
    "```bash\n",
    "$ cp file1 file2\n",
    "```\n",
    "\n",
    "Copy a directory:\n",
    "```bash\n",
    "$ cp -r dir1 dir2\n",
    "```\n",
    "\n",
    "Rename or move a file or a directory:\n",
    "```bash\n",
    "$ mv file1 file2\n",
    "```\n",
    "\n",
    "Delete a file:\n",
    "```bash\n",
    "$ rm file1\n",
    "```\n",
    "\n",
    "Delete a directory (it has to be empty):\n",
    "```bash\n",
    "$ rmdir dir1\n",
    "```"
   ]
  },
  {
   "cell_type": "markdown",
   "metadata": {},
   "source": [
    "# Shortcuts which help reduce typing\n",
    "\n",
    "**TAB**: Type the first letter or first few letters of a filename or a directory name then press TAB to auto complete the filename or directory name.\n",
    "\n",
    "Reuse a recently used command line by using a `!`\n",
    "```bash\n",
    "$ !python\n",
    "```\n",
    "\n",
    "Find commands in history\n",
    "```bash\n",
    "$ history\n",
    "```"
   ]
  },
  {
   "cell_type": "markdown",
   "metadata": {},
   "source": [
    "# Globing\n",
    "\n",
    "`*` stands for **zero to more** characters. For example, there are 4 images in a folder called `Image0.png`, `Image1.png`, `Image10.png` and `Image11.png`. To display all files with the extension `.png`, the command reads:\n",
    "```bash\n",
    "$ ls *.png\n",
    "Image0.png    Image1.png \n",
    "Image10.png   Image11.png\n",
    "```\n",
    "\n",
    "`?` stands for **any single** character. For example, to display all files which start with `Image`, followed with only one number and ended with the extension `.png`.\n",
    "```bash\n",
    "$ ls Image*.png\n",
    "Image0.png    Image1.png\n",
    "```"
   ]
  },
  {
   "cell_type": "markdown",
   "metadata": {},
   "source": [
    "# Text editor\n",
    "\n",
    "Several command line text editors are available on the cluster: vim, emacs, nano, etc.\n",
    "If you did not use a command line text editor we strongly recommend to start with nano:\n",
    "\n",
    "```bash\n",
    "$ module load nano\n",
    "$ nano\n",
    "```\n",
    "\n",
    "For more instructions please use https://www.redhat.com/sysadmin/getting-started-nano ."
   ]
  },
  {
   "cell_type": "markdown",
   "metadata": {},
   "source": [
    "# Accessing ETH Clusters"
   ]
  },
  {
   "cell_type": "markdown",
   "metadata": {},
   "source": [
    "# Prerequisites\n",
    "* A valid ETH account\n",
    "* Local computer with an SSH client \n",
    "    * Linux and macOS have already SSH client installed by default\n",
    "    * Windows needs a third-part SSH client. We recommend you to install MobaXterm (https://mobaxterm.mobatek.net/)\n",
    "* X11 server for graphical user interface (optional)\n",
    "    * Linux has Xorg by default\n",
    "    * macOS: you can install XQuartz (https://www.xquartz.org/)\n",
    "    * Windows: an X11 server is already included in MobaXterm (https://mobaxterm.mobatek.net/)"
   ]
  },
  {
   "cell_type": "markdown",
   "metadata": {},
   "source": [
    "# How to access to the clusters\n",
    "1. Start your SSH client\n",
    "2. Use `ssh` command to connect to the login node of Euler\n",
    "```bash\n",
    "$ ssh username@euler.ethz.ch\n",
    "```\n",
    "3. Use your ETH credentials to login\n",
    "4. Upon the first login <br>\n",
    "   4.1 You will receive a verification code sent to your ETHZ email address (username@ethz.ch) <br>\n",
    "   4.2 Enter the code to the prompt <br>\n",
    "   4.3 Accept the cluster's usage rules."
   ]
  },
  {
   "cell_type": "markdown",
   "metadata": {},
   "source": [
    "# SSH Keys\n",
    "\n",
    "SSH keys allow you to login without password and when properly used, SSH keys are much safer than passwords. With passwordless login, it is convenient to transfer files and perform automated tasks, as well as, to use the script to start Jupyter notebook from your local computer and connect to the clusters.\n",
    "\n",
    "SSH keys come in pair. \n",
    "* A **private** key is stored in your local computer, **NOT** be shared or copied somewhere else.\n",
    "* A **public** key is stored on the computer you want to connect to.\n",
    "\n",
    "We recommend to generate different SSH keys with the ed25519 algorithm for each cluster. Here is how it works\n",
    "\n",
    "1. Create SSH keys\n",
    "\n",
    "```bash\n",
    "$ ssh-keygen-t ed25519 -f $HOME/.ssh/id_ed25519_euler\n",
    "\n",
    "```\n",
    "\n",
    "2. Enter a strong passphrase to protect your SSH keys. \n",
    "\n",
    "3. Copy the public key to Euler:\n",
    "\n",
    "```bash\n",
    "$ ssh-copy-id -i $HOME/.ssh/id_ed25519_euler.pub    username@euler.ethz.ch\n",
    "```\n",
    "\n",
    "\n",
    "4. To use this non-default name SSH keys, you have to pass the private key as an argument in the `ssh` command:\n",
    "\n",
    "```bash\n",
    "$ ssh -i $HOME/.ssh/id_ed25519_euler    username@euler.ethz.ch\n",
    "```\n",
    "\n",
    "\n",
    "5. SSH clients can use this option automatically by adding the following lines in your `$HOME/.ssh/config` file\n",
    "\n",
    "```bash\n",
    "Host euler\n",
    "HostName euler.ethz.ch\n",
    "User username\n",
    "IdentityFile ~/.ssh/id_ed25519_euler\n",
    "```\n",
    "Next time you login, you can type \n",
    "```bash\n",
    "$ ssh euler\n",
    "```"
   ]
  },
  {
   "cell_type": "markdown",
   "metadata": {},
   "source": [
    "# SSH Agent\n",
    "\n",
    "As we have to enter the passphrase to unlock the keys, it takes away the convenience of passwordless login. We can use an SSH agent (`ssh-agent`) to unlock the SSH keys per terminal. \n",
    "```bash\n",
    "$ eval `ssh-agent`\n",
    "Agent pid 17906\n",
    "\n",
    "$ ssh-add -l\n",
    "The agent has no identities.\n",
    "\n",
    "$ ssh-add $HOME/.ssh/id_ed25519_euler\n",
    "Enter passphrase for id_ed25519_euler:\n",
    "Identity added: id_ed25519_euler (username@localcomputer)\n",
    "```"
   ]
  },
  {
   "cell_type": "markdown",
   "metadata": {},
   "source": [
    "# Keychain\n",
    "\n",
    "As mentioned, `ssh-agent` unlocks SSH keys only per terminal. Therefore, you have to redo the steps above when you open a new terminal. To keep SSH keys unlocked on your computer for the whole session until the next reboot of your computer, you can use keychain. On Linux, you can use your package manager to install `keychain`. \n",
    "\n",
    "Here is an example on Ubuntu:\n",
    "\n",
    "```bash\n",
    "$ sudo apt-get install keychain\n",
    "\n",
    "$ which keychain\n",
    "/usr/bin/keychain\n",
    "```\n",
    "\n",
    "Open `$HOME/.bashrc` with a text editor and add these lines:\n",
    "\n",
    "```\n",
    "/usr/bin/keychain $HOME/.ssh/id_ed25519_euler\n",
    "source $HOME/.keychain/$HOSTNAME-sh\n",
    "```\n",
    "\n",
    "Then, source the file to activate the changes.\n",
    "\n",
    "```bash\n",
    "$ source ~/.bashrc\n",
    "```"
   ]
  },
  {
   "cell_type": "markdown",
   "metadata": {
    "execution": {
     "iopub.execute_input": "2020-10-28T13:48:54.495688Z",
     "iopub.status.busy": "2020-10-28T13:48:54.495304Z",
     "iopub.status.idle": "2020-10-28T13:48:54.503869Z",
     "shell.execute_reply": "2020-10-28T13:48:54.502193Z",
     "shell.execute_reply.started": "2020-10-28T13:48:54.495643Z"
    }
   },
   "source": [
    "# Jupyter notebook on the cluster\n",
    "\n",
    "source: https://scicomp.ethz.ch/wiki/Jupyter_on_Euler_and_Leonhard_Open\n",
    "\n",
    "The cluster support provides a script to start a Jupyter Notebook in a batch job and connect to your local computer. This script can be used with Linux and macOS. At the moment there is no support for native Windows, but you can try [Windows Subsystem for Linux](https://docs.microsoft.com/en-us/windows/wsl/install-win10).\n",
    "\n",
    "Prerequisites:\n",
    "* Access to the clusters\n",
    "* `xdg-open` which can be installed by your package manager, e.g., for Ubuntu\n",
    "```bash\n",
    "$ sudo apt-get install xdg-utils\n",
    "```\n",
    "\n",
    "Installation on your local computer:\n",
    "\n",
    "```bash\n",
    "$ git clone https://gitlab.ethz.ch/sfux/Jupyter-on-Euler-or-Leonhard-Open\n",
    "$ cd Jupyter-on-Euler-or-Leonhard-Open\n",
    "$ chmod 755 start_jupyter_nb.sh\n",
    "```\n",
    "\n",
    "Running the script\n",
    "```bash\n",
    "./start_jupyter_nb.sh CLUSTER ETH_USERNAME NUM_CORES RUN_TIME MEM_PER_CORE\n",
    "```\n",
    "|Parameter| Description|\n",
    "|---|---|\n",
    "|CLUSTER|Name of the cluster (Euler)\n",
    "|ETH_USERNAME |ETH username for which the notebook should be started|\n",
    "|NUM_CORES |Number of cores to be used on the cluster (maximum: 36)|\n",
    "|RUN_TIME |Run time limit for the jupyter notebook on the cluster (HH:MM)|\n",
    "|MEM_PER_CORE |Memory limit in MB per core |"
   ]
  },
  {
   "cell_type": "markdown",
   "metadata": {},
   "source": [
    "# Further reading\n",
    "https://scicomp.ethz.ch/wiki/Getting_started_with_clusters"
   ]
  }
 ],
 "metadata": {
  "kernelspec": {
   "display_name": "Python 3 (ipykernel)",
   "language": "python",
   "name": "python3"
  },
  "language_info": {
   "codemirror_mode": {
    "name": "ipython",
    "version": 3
   },
   "file_extension": ".py",
   "mimetype": "text/x-python",
   "name": "python",
   "nbconvert_exporter": "python",
   "pygments_lexer": "ipython3",
   "version": "3.9.5"
  }
 },
 "nbformat": 4,
 "nbformat_minor": 4
}
