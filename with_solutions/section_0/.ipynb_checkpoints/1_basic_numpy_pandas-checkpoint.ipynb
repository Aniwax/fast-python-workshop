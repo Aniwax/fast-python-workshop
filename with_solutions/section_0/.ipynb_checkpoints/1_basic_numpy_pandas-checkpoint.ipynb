{
 "cells": [
  {
   "cell_type": "markdown",
   "metadata": {},
   "source": [
    "# NumPy \n",
    "\n",
    "**NumPy (Numerical Python)** is a library for the Python programming language, adding support for large, multi-dimensional arrays such as vectors and matrices, along with a large collection of high-level mathematical functions to operate on these arrays (http://www.numpy.org/).\n",
    "\n",
    "NumPy is:\n",
    "\n",
    "* vectorized\n",
    "* fast (as C / Fortran programming language)\n",
    "* rich (not only linear algebra, but also random sampling, basic statistic, date and time support and many more).\n",
    "\n",
    "**Prerequisites**\n",
    "* Python 3\n",
    "* Project folder with virtual / conda environment set up\n",
    "* NumPy\n",
    "\n",
    "\n",
    "**How to import NumPy**"
   ]
  },
  {
   "cell_type": "code",
   "execution_count": 2,
   "metadata": {
    "tags": []
   },
   "outputs": [],
   "source": [
    "import numpy as np  # NumPy import convention"
   ]
  },
  {
   "cell_type": "markdown",
   "metadata": {},
   "source": [
    "## NumPy Array"
   ]
  },
  {
   "cell_type": "markdown",
   "metadata": {},
   "source": [
    "While a Python list can contain different data types in a single list, all elements of Numpy arrays must have the **same data-types** and, therefore, have the same size in memory and more memory-efficient than Python lists. \n",
    "\n",
    "To create an array, we can initialize a Numpy array from a Python list."
   ]
  },
  {
   "cell_type": "code",
   "execution_count": 42,
   "metadata": {
    "tags": []
   },
   "outputs": [
    {
     "name": "stdout",
     "output_type": "stream",
     "text": [
      "<class 'list'> [0, 1, 2, 3, 4, 5, 6, 7, 8, 9]\n",
      "<class 'numpy.ndarray'> [0 1 2 3 4 5 6 7 8 9]\n"
     ]
    }
   ],
   "source": [
    "# list of numbers 0 ... 999_999:\n",
    "l = list(range(1_000_000))\n",
    "print(type(l), l[:10])\n",
    "\n",
    "# convert list to 1d numpy array (vector):\n",
    "a = np.array(l)\n",
    "print(type(a), a[:10])"
   ]
  },
  {
   "cell_type": "markdown",
   "metadata": {},
   "source": [
    "NumPy arrays may look like lists but they are fast.\n",
    "\n",
    "You don't need to understand how we measure the time here, this will be part of the workshop:"
   ]
  },
  {
   "cell_type": "code",
   "execution_count": 44,
   "metadata": {
    "tags": []
   },
   "outputs": [
    {
     "name": "stdout",
     "output_type": "stream",
     "text": [
      "list comprehension mul + sum took 0.11422 seconds\n",
      "sum result: 333332833333500000\n",
      "\n",
      "ndarray mul + ndarray.sum took 0.00357 seconds\n",
      "sum result: 333332833333500000\n"
     ]
    }
   ],
   "source": [
    "import time\n",
    "\n",
    "t_start = time.time()\n",
    "\n",
    "l_sum = sum([i * i for i in l])\n",
    "\n",
    "print(\"list comprehension mul + sum took {:.5f} seconds\".format(time.time() - t_start))\n",
    "print(\"sum result: {:d}\\n\".format(l_sum))\n",
    "\n",
    "\n",
    "t_start = time.time()\n",
    "\n",
    "a_sum = (a * a).sum()\n",
    "\n",
    "print(\"ndarray mul + ndarray.sum took {:.5f} seconds\".format(time.time() - t_start))\n",
    "print(\"sum result: {:d}\".format(a_sum))"
   ]
  },
  {
   "cell_type": "markdown",
   "metadata": {
    "execution": {
     "iopub.execute_input": "2020-10-20T07:48:59.762267Z",
     "iopub.status.busy": "2020-10-20T07:48:59.761703Z",
     "iopub.status.idle": "2020-10-20T07:48:59.800261Z",
     "shell.execute_reply": "2020-10-20T07:48:59.798732Z",
     "shell.execute_reply.started": "2020-10-20T07:48:59.762204Z"
    }
   },
   "source": [
    "**Note**: NumPy methods (functions) are implemented in C or Fortran. Python itself is interpreted, not compiled, hence slow. If you care for speed of your computations take care to use NumPy all along.\n",
    "\n",
    "**Note**: For most of the methods/properties/operators of NumPy arrays, there exists an underlying universal NumPy function (ufunc), such as for the `.sum()` method above there exists `np.sum()` ufunc.\n",
    "\n",
    "**Note**: NumPy is taking advantage of the fact that the elements of a NumPy array are of the same type by using a **contiguous memory** layout to store the element, i.e. a big enough block of memory. This enables the speed of NumPy arrays."
   ]
  },
  {
   "cell_type": "markdown",
   "metadata": {},
   "source": [
    "<div class=\"alert alert-block alert-info\">\n",
    "    <p style=\"font-weight: bold; font-size:120%;\"><i class=\"fa fa-question-circle\"></i>&nbsp; Exercise [5 min]</p>\n",
    "\n",
    "How fast do you think `sum(a*a)`and `np.sum(a*a)`? Test it.\n",
    "\n",
    "</div>"
   ]
  },
  {
   "cell_type": "markdown",
   "metadata": {},
   "source": [
    "## Dimension\n",
    "\n",
    "The `numpy.ndarray` type name stands for NumPy **N-dimensional array**. In Python terms these can be thought of as nested lists of numbers of equal lengths at each level of nesting.\n",
    "\n",
    "`numpy.ndarray` has following size-related properties:\n",
    "\n",
    "* `.ndim` - number of dimensions,\n",
    "* `.shape` - a tuple with the size in each dimension,\n",
    "* `.size` - total number of elements in the array.\n",
    "\n",
    "A 0D array is a scalar. A 1D array is a vector. A 2D array is a matrix. Three-dimensional arrays or more are also frequently used."
   ]
  },
  {
   "cell_type": "markdown",
   "metadata": {},
   "source": [
    "**How to check the shape and size of an array?**"
   ]
  },
  {
   "cell_type": "code",
   "execution_count": 45,
   "metadata": {
    "tags": []
   },
   "outputs": [],
   "source": [
    "def print_dim_info(a):\n",
    "    print(a)\n",
    "    print(\"ndim =\", a.ndim)\n",
    "    print(\"shape =\", a.shape)\n",
    "    print(\"size =\", a.size)\n",
    "    print()"
   ]
  },
  {
   "cell_type": "code",
   "execution_count": 46,
   "metadata": {
    "tags": []
   },
   "outputs": [
    {
     "name": "stdout",
     "output_type": "stream",
     "text": [
      "0\n",
      "ndim = 0\n",
      "shape = ()\n",
      "size = 1\n",
      "\n"
     ]
    }
   ],
   "source": [
    "num = np.array(0)\n",
    "print_dim_info(num)"
   ]
  },
  {
   "cell_type": "code",
   "execution_count": 47,
   "metadata": {
    "tags": []
   },
   "outputs": [
    {
     "name": "stdout",
     "output_type": "stream",
     "text": [
      "[0 1 2]\n",
      "ndim = 1\n",
      "shape = (3,)\n",
      "size = 3\n",
      "\n"
     ]
    }
   ],
   "source": [
    "vector = np.array([0, 1, 2])\n",
    "print_dim_info(vector)"
   ]
  },
  {
   "cell_type": "code",
   "execution_count": 8,
   "metadata": {
    "tags": []
   },
   "outputs": [
    {
     "name": "stdout",
     "output_type": "stream",
     "text": [
      "[[0 1 2]\n",
      " [3 4 5]]\n",
      "ndim = 2\n",
      "shape = (2, 3)\n",
      "size = 6\n",
      "\n"
     ]
    }
   ],
   "source": [
    "matrix = np.array(\n",
    "    [\n",
    "        [0, 1, 2],\n",
    "        [3, 4, 5],\n",
    "    ]\n",
    ")\n",
    "print_dim_info(matrix)"
   ]
  },
  {
   "cell_type": "code",
   "execution_count": 9,
   "metadata": {
    "tags": []
   },
   "outputs": [
    {
     "name": "stdout",
     "output_type": "stream",
     "text": [
      "[[[ 0  1  2]\n",
      "  [ 3  4  5]]\n",
      "\n",
      " [[ 6  7  8]\n",
      "  [ 9 10 11]]]\n",
      "ndim = 3\n",
      "shape = (2, 2, 3)\n",
      "size = 12\n",
      "\n"
     ]
    }
   ],
   "source": [
    "arr = np.array(\n",
    "    [\n",
    "        [\n",
    "            [0, 1, 2],\n",
    "            [3, 4, 5],\n",
    "        ],\n",
    "        [\n",
    "            [6, 7, 8],\n",
    "            [9, 10, 11],\n",
    "        ],\n",
    "    ]\n",
    ")\n",
    "print_dim_info(arr)"
   ]
  },
  {
   "cell_type": "markdown",
   "metadata": {},
   "source": [
    "<div class=\"alert alert-block alert-info\">\n",
    "    <p style=\"font-weight: bold; font-size:120%;\"><i class=\"fa fa-question-circle\"></i>&nbsp; Exercise</p>\n",
    "\n",
    "1. Without coding, can you guess output of the following commands: `vector[1]`, `matrix[:,1]`, `arr[:,:,1])`, including shape? Check your answer.\n",
    "\n",
    "2. What does `len()` return for NumPy arrays?\n",
    "\n",
    "</div>"
   ]
  },
  {
   "cell_type": "markdown",
   "metadata": {},
   "source": [
    "## Creating arrays\n",
    "\n",
    "You have already seen that `np.array()` creates a NumPy array from explicit nested lists. You will usually want to create NumPy arrays in more automated fashion.\n",
    "\n",
    "Evenly spaced vectors by step size (default: 1), like `range()`:"
   ]
  },
  {
   "cell_type": "code",
   "execution_count": 10,
   "metadata": {
    "tags": []
   },
   "outputs": [
    {
     "data": {
      "text/plain": [
       "array([1, 3, 5, 7, 9])"
      ]
     },
     "execution_count": 10,
     "metadata": {},
     "output_type": "execute_result"
    }
   ],
   "source": [
    "np.arange(1, 11, 2)"
   ]
  },
  {
   "cell_type": "markdown",
   "metadata": {},
   "source": [
    "Evenly spaced vectors by number of points (default: 50):"
   ]
  },
  {
   "cell_type": "code",
   "execution_count": 11,
   "metadata": {
    "tags": []
   },
   "outputs": [
    {
     "data": {
      "text/plain": [
       "array([0.        , 0.11111111, 0.22222222, 0.33333333, 0.44444444,\n",
       "       0.55555556, 0.66666667, 0.77777778, 0.88888889, 1.        ])"
      ]
     },
     "execution_count": 11,
     "metadata": {},
     "output_type": "execute_result"
    }
   ],
   "source": [
    "np.linspace(0, 1, 10)"
   ]
  },
  {
   "cell_type": "markdown",
   "metadata": {},
   "source": [
    "Single value N-dim arrays:"
   ]
  },
  {
   "cell_type": "code",
   "execution_count": 12,
   "metadata": {
    "tags": []
   },
   "outputs": [
    {
     "name": "stdout",
     "output_type": "stream",
     "text": [
      "[0. 0. 0.] \n",
      "\n",
      "[1. 1. 1.] \n",
      "\n",
      "[[0. 0. 0.]\n",
      " [0. 0. 0.]\n",
      " [0. 0. 0.]] \n",
      "\n",
      "[[3. 3. 3.]\n",
      " [3. 3. 3.]\n",
      " [3. 3. 3.]] \n",
      "\n",
      "[[[0. 0. 0. 0.]\n",
      "  [0. 0. 0. 0.]\n",
      "  [0. 0. 0. 0.]]\n",
      "\n",
      " [[0. 0. 0. 0.]\n",
      "  [0. 0. 0. 0.]\n",
      "  [0. 0. 0. 0.]]] \n",
      "\n"
     ]
    }
   ],
   "source": [
    "print(np.zeros(3), \"\\n\")\n",
    "print(np.ones(3), \"\\n\")\n",
    "print(np.zeros((3, 3)), \"\\n\")\n",
    "print(np.ones((3, 3)) * 3, \"\\n\")\n",
    "print(np.zeros((2, 3, 4)), \"\\n\")"
   ]
  },
  {
   "cell_type": "markdown",
   "metadata": {},
   "source": [
    "Diagonal matrices:"
   ]
  },
  {
   "cell_type": "code",
   "execution_count": 13,
   "metadata": {
    "tags": []
   },
   "outputs": [
    {
     "name": "stdout",
     "output_type": "stream",
     "text": [
      "[[1 0 0]\n",
      " [0 2 0]\n",
      " [0 0 3]] \n",
      "\n",
      "[[1. 0. 0.]\n",
      " [0. 1. 0.]\n",
      " [0. 0. 1.]] \n",
      "\n"
     ]
    }
   ],
   "source": [
    "print(np.diag([1, 2, 3]), \"\\n\")\n",
    "print(np.eye(3), \"\\n\")  # same as: np.identity(3)"
   ]
  },
  {
   "cell_type": "markdown",
   "metadata": {},
   "source": [
    "Random samples:"
   ]
  },
  {
   "cell_type": "code",
   "execution_count": 14,
   "metadata": {
    "tags": []
   },
   "outputs": [
    {
     "name": "stdout",
     "output_type": "stream",
     "text": [
      "[[2 1 2]\n",
      " [2 0 2]] \n",
      "\n",
      "[[0.55131477 0.71946897 0.42310646]\n",
      " [0.9807642  0.68482974 0.4809319 ]] \n",
      "\n",
      "[[-1.61930007 -1.11396442 -0.44744072]\n",
      " [ 1.66840161 -0.14337247 -0.6191909 ]] \n",
      "\n"
     ]
    }
   ],
   "source": [
    "# fix the random seed if needed\n",
    "np.random.seed(123)\n",
    "\n",
    "size = (2, 3)\n",
    "print(np.random.randint(low=0, high=3, size=size), \"\\n\")\n",
    "print(np.random.uniform(size=size), \"\\n\")  # same as: np.random.rand(*size)\n",
    "print(np.random.normal(size=size), \"\\n\")  # same as: np.random.randn(*size)"
   ]
  },
  {
   "cell_type": "markdown",
   "metadata": {},
   "source": [
    "<div class=\"alert alert-block alert-info\">\n",
    "    <p style=\"font-weight: bold; font-size:120%;\"><i class=\"fa fa-question-circle\"></i>&nbsp; Exercise</p>\n",
    "\n",
    "1. Experiment with examples above.\n",
    "2. Create a lower triangular 9x9 matrix:\n",
    "    \n",
    "$$ \n",
    "\\begin{pmatrix}\n",
    "1 & 0 & \\cdots & 0\\\\\n",
    "2 & 1 & \\cdots & 0\\\\\n",
    "\\vdots & \\vdots & \\ddots & \\vdots\\\\\n",
    "9 & 8 & \\cdots & 1\n",
    "\\end{pmatrix}\n",
    "$$\n",
    "\n",
    "Hint: check `?np.eye`\n",
    "</div>"
   ]
  },
  {
   "cell_type": "markdown",
   "metadata": {},
   "source": [
    "## Basic data types\n",
    "\n",
    "NumPy arrays elements have their data type objects `numpy.dtype`, corresponding to (machine-specific) C data types. The five basic numerical types represent:\n",
    "* 32 bit integers, e.g., `np.int32`\n",
    "* 64 bit unsigned integers, e.g., `np.uint64`\n",
    "* single-precision floating points, e.g. `np.float32`\n",
    "* double-precision floating points, e.g. `np.float64`\n",
    "* boolean, e.g., `np.bool_`\n",
    "* complex with double-precision floating points for each component, e.g., `np.complex128`\n",
    "* (others non-C), `object_`\n",
    "\n",
    "Data type of an element is accessible by `.dtype` property. By default, for numeric arrays, it is a float:"
   ]
  },
  {
   "cell_type": "code",
   "execution_count": 16,
   "metadata": {
    "tags": []
   },
   "outputs": [
    {
     "name": "stdout",
     "output_type": "stream",
     "text": [
      "[0. 0. 0.]\n",
      "float64\n",
      "<class 'numpy.dtype[float64]'>\n"
     ]
    }
   ],
   "source": [
    "v1 = np.zeros(3)\n",
    "print(v1)\n",
    "print(v1.dtype)\n",
    "print(type(v1.dtype))"
   ]
  },
  {
   "cell_type": "markdown",
   "metadata": {
    "execution": {
     "iopub.execute_input": "2020-10-20T08:06:03.035545Z",
     "iopub.status.busy": "2020-10-20T08:06:03.035063Z",
     "iopub.status.idle": "2020-10-20T08:06:03.042366Z",
     "shell.execute_reply": "2020-10-20T08:06:03.040925Z",
     "shell.execute_reply.started": "2020-10-20T08:06:03.035476Z"
    }
   },
   "source": [
    "but it can be implicitly inherited from Python objects:"
   ]
  },
  {
   "cell_type": "code",
   "execution_count": 17,
   "metadata": {
    "tags": []
   },
   "outputs": [
    {
     "name": "stdout",
     "output_type": "stream",
     "text": [
      "[0 0 0]\n",
      "int64\n"
     ]
    }
   ],
   "source": [
    "v2 = np.array([0, 0, 0])\n",
    "print(v2)\n",
    "print(v2.dtype)"
   ]
  },
  {
   "cell_type": "markdown",
   "metadata": {},
   "source": [
    "or specified explicitly via dtype keyword argument:"
   ]
  },
  {
   "cell_type": "code",
   "execution_count": 18,
   "metadata": {
    "tags": []
   },
   "outputs": [
    {
     "name": "stdout",
     "output_type": "stream",
     "text": [
      "[0 0 0]\n",
      "int64\n"
     ]
    }
   ],
   "source": [
    "v3 = np.zeros(3, dtype=np.int64)\n",
    "print(v3)\n",
    "print(v3.dtype)"
   ]
  },
  {
   "cell_type": "markdown",
   "metadata": {},
   "source": [
    "Data types determine a size of an array in the memory:"
   ]
  },
  {
   "cell_type": "code",
   "execution_count": 19,
   "metadata": {
    "tags": []
   },
   "outputs": [
    {
     "name": "stdout",
     "output_type": "stream",
     "text": [
      "each element takes 8 bytes\n",
      "the full array takes 80 bytes\n"
     ]
    }
   ],
   "source": [
    "a10int = np.arange(10)\n",
    "print(\"each element takes\", a10int.itemsize, \"bytes\")  # same as `a1.dtype.itemsize`\n",
    "print(\"the full array takes\", a10int.nbytes, \"bytes\")  # .nbytes = .itemsize * .size"
   ]
  },
  {
   "cell_type": "markdown",
   "metadata": {},
   "source": [
    "## Indexing and slicing\n",
    "\n",
    "NumPy arrays use the squared brackets `[]` for indexing and slicing compatible with Python (nested) lists:"
   ]
  },
  {
   "cell_type": "code",
   "execution_count": 48,
   "metadata": {
    "tags": []
   },
   "outputs": [
    {
     "name": "stdout",
     "output_type": "stream",
     "text": [
      "[[0 1 2]\n",
      " [3 4 5]]\n",
      "\n",
      "[0 1 2]\n",
      "\n",
      "0\n"
     ]
    }
   ],
   "source": [
    "matrix = np.array(\n",
    "    [\n",
    "        [0, 1, 2],\n",
    "        [3, 4, 5],\n",
    "    ]\n",
    ")\n",
    "\n",
    "print(matrix)\n",
    "print()\n",
    "\n",
    "# first row:\n",
    "vector = matrix[0]\n",
    "print(vector)\n",
    "print()\n",
    "\n",
    "number = vector[0]\n",
    "print(number)"
   ]
  },
  {
   "cell_type": "code",
   "execution_count": 49,
   "metadata": {
    "tags": []
   },
   "outputs": [
    {
     "name": "stdout",
     "output_type": "stream",
     "text": [
      "2\n",
      "[0 1]\n",
      "[0]\n",
      "[0 2]\n",
      "[2 1 0]\n",
      "[2 1]\n",
      "[2 1]\n"
     ]
    }
   ],
   "source": [
    "print(vector[-1])  # negative indices for indexing from the end of the array\n",
    "print(vector[:2])  # start:end (note: not including last index)\n",
    "print(vector[0:1])  # pay attention that this is an array while vector[0] is an element\n",
    "print(vector[::2])  # start:end:step\n",
    "print(vector[::-1])  # reverse order\n",
    "print(\n",
    "    vector[:0:-1]\n",
    ")  # start is deduced as len(vector)-1; end=0 is not included (can be confusing)\n",
    "print(vector[1:][::-1])  # easier to follow"
   ]
  },
  {
   "cell_type": "markdown",
   "metadata": {},
   "source": [
    "NumPy throws in multi-dimensional indexing, either using index tuples, or directly:"
   ]
  },
  {
   "cell_type": "code",
   "execution_count": 50,
   "metadata": {
    "tags": []
   },
   "outputs": [
    {
     "name": "stdout",
     "output_type": "stream",
     "text": [
      "[[0 1 2]\n",
      " [3 4 5]]\n",
      "1\n",
      "[5 2]\n"
     ]
    }
   ],
   "source": [
    "print(matrix)\n",
    "print(matrix[0, 1])  # first row, second column\n",
    "print(matrix[::-1, 2])  # all rows reversed (start:end deduced), third column"
   ]
  },
  {
   "cell_type": "markdown",
   "metadata": {},
   "source": [
    "## Iterating\n",
    "\n",
    "`for` loop iterates over a first dimension of a `np.ndarray` array:"
   ]
  },
  {
   "cell_type": "code",
   "execution_count": 51,
   "metadata": {
    "tags": []
   },
   "outputs": [
    {
     "name": "stdout",
     "output_type": "stream",
     "text": [
      "0\n",
      "1\n",
      "2\n",
      "\n",
      "[0 1 2]\n",
      "[3 4 5]\n",
      "\n"
     ]
    }
   ],
   "source": [
    "for number in vector:\n",
    "    print(number)\n",
    "print()\n",
    "\n",
    "for row in matrix:\n",
    "    print(row)\n",
    "print()"
   ]
  },
  {
   "cell_type": "markdown",
   "metadata": {},
   "source": [
    "`len()` value and single dim indexing correspond to the for loop behaviour, much like you would expect from nested lists:"
   ]
  },
  {
   "cell_type": "code",
   "execution_count": 52,
   "metadata": {
    "tags": []
   },
   "outputs": [
    {
     "name": "stdout",
     "output_type": "stream",
     "text": [
      "[0 1 2]\n",
      "[3 4 5]\n",
      "\n"
     ]
    }
   ],
   "source": [
    "for i in range(len(matrix)):\n",
    "    print(matrix[i])\n",
    "print()"
   ]
  },
  {
   "cell_type": "markdown",
   "metadata": {},
   "source": [
    "To iterate over all elements use `np.nditer` / `np.ndenumerate`\n",
    "\n",
    "**Note**: \n",
    "\n",
    "Memory locations (addresses) on a computer are single numbers, so if you want to store a matrix you have to think about how the row and column index of a matrix element is translated to / from such an address. There are two common schemes for this: `C-order` and `F-order`.\n",
    "\n",
    "By default NumPy arrays are stored in `C-order` , i.e. numbers are stored sequentially row by row, unlike in Fortran or MATLAB where arrays are stored column-wise, called `F-order` in NumPy."
   ]
  },
  {
   "cell_type": "code",
   "execution_count": 53,
   "metadata": {
    "tags": []
   },
   "outputs": [
    {
     "name": "stdout",
     "output_type": "stream",
     "text": [
      "[[0 1 2]\n",
      " [3 4 5]]\n",
      "\n",
      "0, 1, 2, 3, 4, 5, \n",
      "\n",
      "a[0, 0] = 0\n",
      "a[0, 1] = 1\n",
      "a[0, 2] = 2\n",
      "a[1, 0] = 3\n",
      "a[1, 1] = 4\n",
      "a[1, 2] = 5\n"
     ]
    }
   ],
   "source": [
    "print(matrix)\n",
    "print()\n",
    "\n",
    "for number in np.nditer(matrix):\n",
    "    print(number, end=\", \")\n",
    "print()\n",
    "print()\n",
    "\n",
    "for index, number in np.ndenumerate(matrix):\n",
    "    print(\"a[{}, {}] = {}\".format(*index, number))"
   ]
  },
  {
   "cell_type": "code",
   "execution_count": 54,
   "metadata": {
    "tags": []
   },
   "outputs": [
    {
     "name": "stdout",
     "output_type": "stream",
     "text": [
      "[[0 1 2]\n",
      " [3 4 5]]\n",
      "\n",
      "0, 3, 1, 4, 2, 5, \n",
      "\n",
      "a[0, 0] = 0\n",
      "a[0, 1] = 1\n",
      "a[0, 2] = 2\n",
      "a[1, 0] = 3\n",
      "a[1, 1] = 4\n",
      "a[1, 2] = 5\n"
     ]
    }
   ],
   "source": [
    "matrix_F_order = np.array(matrix, order=\"F\")\n",
    "\n",
    "print(matrix_F_order)\n",
    "print()\n",
    "\n",
    "for number in np.nditer(matrix_F_order):\n",
    "    print(number, end=\", \")\n",
    "\n",
    "print()\n",
    "print()\n",
    "\n",
    "for index, number in np.ndenumerate(matrix_F_order):\n",
    "    print(\"a[{}, {}] = {}\".format(*index, number))"
   ]
  },
  {
   "cell_type": "markdown",
   "metadata": {},
   "source": [
    "## Views vs. copies\n",
    "\n",
    "Assigning an Python object to another variable does not copy the data, but assigns another name to the same object."
   ]
  },
  {
   "cell_type": "code",
   "execution_count": 55,
   "metadata": {
    "tags": []
   },
   "outputs": [
    {
     "name": "stdout",
     "output_type": "stream",
     "text": [
      "memory address of a 4670180032\n",
      "memory address of b 4670180032\n",
      "a is b: True\n"
     ]
    }
   ],
   "source": [
    "a = [1, 2, 3]\n",
    "b = a\n",
    "\n",
    "print(\"memory address of a\", id(a))\n",
    "print(\"memory address of b\", id(b))\n",
    "\n",
    "print(\"a is b:\", a is b)"
   ]
  },
  {
   "cell_type": "markdown",
   "metadata": {},
   "source": [
    "The consequence is that modifying `a` also modifies `b`:"
   ]
  },
  {
   "cell_type": "code",
   "execution_count": 56,
   "metadata": {
    "tags": []
   },
   "outputs": [
    {
     "name": "stdout",
     "output_type": "stream",
     "text": [
      "a =  [1, 42, 3]\n",
      "b =  [1, 42, 3]\n"
     ]
    }
   ],
   "source": [
    "a[1] = 42\n",
    "print(\"a = \", a)\n",
    "print(\"b = \", b)"
   ]
  },
  {
   "cell_type": "markdown",
   "metadata": {},
   "source": [
    "To create a full copy Python offers multiple options. E.g."
   ]
  },
  {
   "cell_type": "code",
   "execution_count": 57,
   "metadata": {
    "tags": []
   },
   "outputs": [
    {
     "name": "stdout",
     "output_type": "stream",
     "text": [
      "memory address of a 4620391680\n",
      "memory address of b 4620445504\n",
      "a is b: False\n",
      "a = [1, 42, 3]\n",
      "b = [1, 2, 3]\n"
     ]
    }
   ],
   "source": [
    "from copy import deepcopy\n",
    "\n",
    "a = [1, 2, 3]\n",
    "b = deepcopy(a)\n",
    "print(\"memory address of a\", id(a))\n",
    "print(\"memory address of b\", id(b))\n",
    "\n",
    "print(\"a is b:\", a is b)\n",
    "\n",
    "a[1] = 42\n",
    "print(\"a =\", a)\n",
    "print(\"b =\", b)"
   ]
  },
  {
   "cell_type": "markdown",
   "metadata": {},
   "source": [
    "In order to copy an array there is the `np.copy` function. \n",
    "\n",
    "**Warning**: There is also a `copy` method for the numpy array but the behaviour is slightly different: a `C-order` copy of the array is done even if the original array was in `F-order`.\n",
    "\n",
    "**Note**: In case the data type is `object_` you have to use `copy.deepcopy` to ensure all elements are copied."
   ]
  },
  {
   "cell_type": "code",
   "execution_count": 58,
   "metadata": {
    "tags": []
   },
   "outputs": [
    {
     "name": "stdout",
     "output_type": "stream",
     "text": [
      "True\n",
      "\n",
      "False\n",
      "\n",
      "True\n"
     ]
    }
   ],
   "source": [
    "matrix_F_order_copy1 = np.copy(matrix_F_order)\n",
    "print(np.isfortran(matrix_F_order_copy1))\n",
    "\n",
    "print()\n",
    "\n",
    "matrix_F_order_copy2 = matrix_F_order.copy()\n",
    "print(np.isfortran(matrix_F_order_copy2))\n",
    "\n",
    "print()\n",
    "\n",
    "import copy\n",
    "\n",
    "matrix_F_order_copy3 = copy.deepcopy(matrix_F_order)\n",
    "print(np.isfortran(matrix_F_order_copy3))"
   ]
  },
  {
   "cell_type": "markdown",
   "metadata": {},
   "source": [
    "**Beware**: slicing doesn't copy the original array in memory, but only creates a \"view\" on an existing memory block. There is no implicit copy-on-write behaviour here (like in MATLAB)."
   ]
  },
  {
   "cell_type": "code",
   "execution_count": 59,
   "metadata": {
    "tags": []
   },
   "outputs": [
    {
     "name": "stdout",
     "output_type": "stream",
     "text": [
      "vec1 [0 1 2 3 4 5 6 7 8 9]\n",
      "vec2 [0 1 2]\n",
      "vec2 after change [2 1 0]\n",
      "vec1 [2 1 0 3 4 5 6 7 8 9]\n"
     ]
    }
   ],
   "source": [
    "vec1 = np.arange(10)\n",
    "print(\"vec1\", vec1)\n",
    "vec2 = vec1[:3]\n",
    "print(\"vec2\", vec2)\n",
    "\n",
    "vec2[:] = vec2[::-1]\n",
    "print(\"vec2 after change\", vec2)\n",
    "print(\"vec1\", vec1)  # the original array has also changed!"
   ]
  },
  {
   "cell_type": "markdown",
   "metadata": {},
   "source": [
    "Use `np.shares_memory()` to check if two arrays share memory"
   ]
  },
  {
   "cell_type": "code",
   "execution_count": 60,
   "metadata": {
    "tags": []
   },
   "outputs": [
    {
     "data": {
      "text/plain": [
       "True"
      ]
     },
     "execution_count": 60,
     "metadata": {},
     "output_type": "execute_result"
    }
   ],
   "source": [
    "np.shares_memory(vec1, vec2)"
   ]
  },
  {
   "cell_type": "markdown",
   "metadata": {},
   "source": [
    "You can make explicitly copies using `np.copy()` function:"
   ]
  },
  {
   "cell_type": "code",
   "execution_count": 61,
   "metadata": {
    "tags": []
   },
   "outputs": [
    {
     "name": "stdout",
     "output_type": "stream",
     "text": [
      "False\n",
      "[2 1 0]\n",
      "[0 1 2 3 4 5 6 7 8 9]\n"
     ]
    }
   ],
   "source": [
    "vec1 = np.arange(10)\n",
    "vec2 = np.copy(vec1[:3])  # create a copy from the view\n",
    "print(np.shares_memory(vec1, vec2))\n",
    "vec2[:] = vec2[::-1]\n",
    "print(vec2)\n",
    "print(vec1)  # the original array is intact"
   ]
  },
  {
   "cell_type": "markdown",
   "metadata": {},
   "source": [
    "## Shape manipulation\n",
    "\n",
    "In most cases the changes in dimensions of an array create a view of the original array, not its copy.\n",
    "\n",
    "Shape of an array can be changed using `.reshape()` method:\n"
   ]
  },
  {
   "cell_type": "code",
   "execution_count": 62,
   "metadata": {
    "tags": []
   },
   "outputs": [
    {
     "name": "stdout",
     "output_type": "stream",
     "text": [
      "[0 1 2 3 4 5 6 7] \n",
      "\n",
      "[[0 1 2 3]\n",
      " [4 5 6 7]] \n",
      "\n",
      "[[[0 1]\n",
      "  [2 3]]\n",
      "\n",
      " [[4 5]\n",
      "  [6 7]]] \n",
      "\n",
      "[0 1 2 3 4 5 6 0]\n"
     ]
    }
   ],
   "source": [
    "vector = np.arange(8)\n",
    "print(vector, \"\\n\")\n",
    "\n",
    "matrix = vector.reshape(2, 4)  # product of `.shape` entries must stay the same\n",
    "print(matrix, \"\\n\")\n",
    "\n",
    "arr = matrix.reshape(2, 2, 2)\n",
    "print(arr, \"\\n\")\n",
    "\n",
    "# .reshape() returns a view\n",
    "arr[1, 1, 1] = 0\n",
    "print(vector)"
   ]
  },
  {
   "cell_type": "markdown",
   "metadata": {},
   "source": [
    "One can specify `-1` for one of the reshape arguments, since its value is fixed due to the constraint that the arguments product must not change:"
   ]
  },
  {
   "cell_type": "code",
   "execution_count": 63,
   "metadata": {
    "tags": []
   },
   "outputs": [
    {
     "name": "stdout",
     "output_type": "stream",
     "text": [
      "[[0 1]\n",
      " [2 3]\n",
      " [4 5]\n",
      " [6 0]]\n",
      "[[[0 1]\n",
      "  [2 3]]\n",
      "\n",
      " [[4 5]\n",
      "  [6 0]]]\n"
     ]
    }
   ],
   "source": [
    "print(vector.reshape(-1, 2))\n",
    "print(vector.reshape(2, -1, 2))"
   ]
  },
  {
   "cell_type": "markdown",
   "metadata": {},
   "source": [
    "You can conveniently get a vector view (or copy) of an array of any shape using `.ravel()` (or `.flatten()`):"
   ]
  },
  {
   "cell_type": "code",
   "execution_count": 64,
   "metadata": {
    "tags": []
   },
   "outputs": [
    {
     "name": "stdout",
     "output_type": "stream",
     "text": [
      "[0 1 2 3 4 5 6 0]\n",
      "[0 1 2 3 4 5 6 0]\n"
     ]
    }
   ],
   "source": [
    "print(arr.ravel())  # same as: arr.reshape(np.prod(arr.shape))\n",
    "print(arr.flatten())  # same as: arr.ravel().copy()"
   ]
  },
  {
   "cell_type": "markdown",
   "metadata": {},
   "source": [
    "To conveniently add dimension (of size 1) to an existing array you can use `numpy.newaxis` in combination with slicing:"
   ]
  },
  {
   "cell_type": "code",
   "execution_count": 65,
   "metadata": {
    "tags": []
   },
   "outputs": [
    {
     "name": "stdout",
     "output_type": "stream",
     "text": [
      "[0 1 2 3 4 5 6 7 8 9]\n",
      "(10,)\n",
      "\n",
      "(1, 10)\n",
      "[[0 1 2 3 4 5 6 7 8 9]]\n",
      "\n",
      "(10, 1)\n",
      "[[0]\n",
      " [1]\n",
      " [2]\n",
      " [3]\n",
      " [4]\n",
      " [5]\n",
      " [6]\n",
      " [7]\n",
      " [8]\n",
      " [9]]\n",
      "\n"
     ]
    }
   ],
   "source": [
    "vector = np.arange(10)\n",
    "print(vector)\n",
    "print(vector.shape)\n",
    "print()\n",
    "\n",
    "# single row matrix; same as: vector.reshape(1, vector.shape[0])\n",
    "mat_row = vector[np.newaxis, :]\n",
    "print(mat_row.shape)\n",
    "print(mat_row)\n",
    "print()\n",
    "\n",
    "# single column matrix (column vector)\n",
    "mat_col = vector[:, np.newaxis]\n",
    "print(mat_col.shape)\n",
    "print(mat_col)\n",
    "print()"
   ]
  },
  {
   "cell_type": "markdown",
   "metadata": {},
   "source": [
    "`None` instead of `np.newaxis` also works:"
   ]
  },
  {
   "cell_type": "code",
   "execution_count": 68,
   "metadata": {
    "tags": []
   },
   "outputs": [
    {
     "name": "stdout",
     "output_type": "stream",
     "text": [
      "[[0 1 2 3 4 5 6 7 8 9]]\n",
      "[[0]\n",
      " [1]\n",
      " [2]\n",
      " [3]\n",
      " [4]\n",
      " [5]\n",
      " [6]\n",
      " [7]\n",
      " [8]\n",
      " [9]]\n"
     ]
    }
   ],
   "source": [
    "print(vector[None, :])\n",
    "print(vector[:, None])"
   ]
  },
  {
   "cell_type": "markdown",
   "metadata": {},
   "source": [
    "In addition to `.reshape()` method there is also `.resize()` method which changes an array **\"in-place\"** and allows for size changes:"
   ]
  },
  {
   "cell_type": "code",
   "execution_count": 69,
   "metadata": {
    "tags": []
   },
   "outputs": [
    {
     "name": "stdout",
     "output_type": "stream",
     "text": [
      "[0 1 2 3 4 5 6 7] \n",
      "\n",
      "[[0 1 2 3 4]\n",
      " [5 6 7 0 0]] \n",
      "\n",
      "[[0 1]\n",
      " [2 3]] \n",
      "\n"
     ]
    }
   ],
   "source": [
    "arr = np.arange(8)\n",
    "print(arr, \"\\n\")\n",
    "\n",
    "arr.resize(2, 5)  # fill w/ zeros\n",
    "print(arr, \"\\n\")\n",
    "\n",
    "arr.resize(2, 2)  # trim\n",
    "print(arr, \"\\n\")"
   ]
  },
  {
   "cell_type": "markdown",
   "metadata": {},
   "source": [
    "Side note: `np.resize()` function works differently - it creates a copy and fills-up added size with repeats of the original array (not zeros):"
   ]
  },
  {
   "cell_type": "code",
   "execution_count": 70,
   "metadata": {
    "tags": []
   },
   "outputs": [
    {
     "name": "stdout",
     "output_type": "stream",
     "text": [
      "[[0 1 2]\n",
      " [3 0 1]\n",
      " [2 3 0]] \n",
      "\n",
      "False\n"
     ]
    }
   ],
   "source": [
    "arr2 = np.resize(arr, (3, 3))\n",
    "print(arr2, \"\\n\")\n",
    "print(np.shares_memory(arr, arr2))"
   ]
  },
  {
   "cell_type": "markdown",
   "metadata": {
    "execution": {
     "iopub.execute_input": "2020-10-20T08:23:47.050132Z",
     "iopub.status.busy": "2020-10-20T08:23:47.048472Z",
     "iopub.status.idle": "2020-10-20T08:23:47.069542Z",
     "shell.execute_reply": "2020-10-20T08:23:47.064509Z",
     "shell.execute_reply.started": "2020-10-20T08:23:47.049963Z"
    }
   },
   "source": [
    "Transposition allows for easy re-shuffling of dimensions of an array:"
   ]
  },
  {
   "cell_type": "code",
   "execution_count": 71,
   "metadata": {
    "tags": []
   },
   "outputs": [
    {
     "name": "stdout",
     "output_type": "stream",
     "text": [
      "[[0 1]\n",
      " [2 3]\n",
      " [4 5]]\n",
      "[[0 2 4]\n",
      " [1 3 5]]\n"
     ]
    }
   ],
   "source": [
    "matrix = np.arange(6).reshape(3, 2)\n",
    "print(matrix)\n",
    "print(matrix.T)  # same as: matrix.transpose()"
   ]
  },
  {
   "cell_type": "markdown",
   "metadata": {},
   "source": [
    "where `.T` always reverses order of dimensions and `.transpose()` allows for any permutation:"
   ]
  },
  {
   "cell_type": "code",
   "execution_count": 72,
   "metadata": {
    "tags": []
   },
   "outputs": [
    {
     "name": "stdout",
     "output_type": "stream",
     "text": [
      "(1, 2, 3)\n",
      "(3, 2, 1)\n",
      "(2, 3, 1)\n"
     ]
    }
   ],
   "source": [
    "arr = matrix.reshape(1, 2, 3)\n",
    "print(arr.shape)\n",
    "print(arr.T.shape)\n",
    "print(arr.transpose(1, 2, 0).shape)"
   ]
  },
  {
   "cell_type": "markdown",
   "metadata": {},
   "source": [
    "## \"Fancy\" indexing\n",
    "\n",
    "\n",
    "\"Fancy\" indexing means indexing with boolean or integer masks, which is very convenient for filtering array elements:"
   ]
  },
  {
   "cell_type": "code",
   "execution_count": 42,
   "metadata": {
    "execution": {
     "iopub.execute_input": "2021-08-17T14:05:59.301353Z",
     "iopub.status.busy": "2021-08-17T14:05:59.300267Z",
     "iopub.status.idle": "2021-08-17T14:05:59.322271Z",
     "shell.execute_reply": "2021-08-17T14:05:59.317329Z",
     "shell.execute_reply.started": "2021-08-17T14:05:59.301228Z"
    }
   },
   "outputs": [
    {
     "name": "stdout",
     "output_type": "stream",
     "text": [
      "[-0.25091976  0.90142861  0.46398788  0.19731697 -0.68796272]\n"
     ]
    }
   ],
   "source": [
    "np.random.seed(42)\n",
    "vector = np.random.uniform(-1, 1, size=5)\n",
    "print(vector)"
   ]
  },
  {
   "cell_type": "code",
   "execution_count": 43,
   "metadata": {
    "execution": {
     "iopub.execute_input": "2021-08-17T14:05:59.327147Z",
     "iopub.status.busy": "2021-08-17T14:05:59.326066Z",
     "iopub.status.idle": "2021-08-17T14:05:59.349580Z",
     "shell.execute_reply": "2021-08-17T14:05:59.345036Z",
     "shell.execute_reply.started": "2021-08-17T14:05:59.327115Z"
    }
   },
   "outputs": [
    {
     "name": "stdout",
     "output_type": "stream",
     "text": [
      "[ True False False False  True]\n"
     ]
    }
   ],
   "source": [
    "mask = vector < 0\n",
    "print(mask)"
   ]
  },
  {
   "cell_type": "code",
   "execution_count": 44,
   "metadata": {
    "execution": {
     "iopub.execute_input": "2021-08-17T14:05:59.355418Z",
     "iopub.status.busy": "2021-08-17T14:05:59.354038Z",
     "iopub.status.idle": "2021-08-17T14:05:59.385078Z",
     "shell.execute_reply": "2021-08-17T14:05:59.381124Z",
     "shell.execute_reply.started": "2021-08-17T14:05:59.355356Z"
    }
   },
   "outputs": [
    {
     "data": {
      "text/plain": [
       "array([-0.25091976, -0.68796272])"
      ]
     },
     "execution_count": 44,
     "metadata": {},
     "output_type": "execute_result"
    }
   ],
   "source": [
    "vector[vector < 0]"
   ]
  },
  {
   "cell_type": "markdown",
   "metadata": {},
   "source": [
    "This is again a view, so we can change the elements of the original vector:"
   ]
  },
  {
   "cell_type": "code",
   "execution_count": 45,
   "metadata": {
    "execution": {
     "iopub.execute_input": "2021-08-17T14:05:59.389384Z",
     "iopub.status.busy": "2021-08-17T14:05:59.388339Z",
     "iopub.status.idle": "2021-08-17T14:05:59.406296Z",
     "shell.execute_reply": "2021-08-17T14:05:59.403507Z",
     "shell.execute_reply.started": "2021-08-17T14:05:59.389298Z"
    }
   },
   "outputs": [
    {
     "name": "stdout",
     "output_type": "stream",
     "text": [
      "[0.         0.90142861 0.46398788 0.19731697 0.        ]\n"
     ]
    }
   ],
   "source": [
    "vector[vector < 0] = 0\n",
    "print(vector)"
   ]
  },
  {
   "cell_type": "code",
   "execution_count": 46,
   "metadata": {
    "execution": {
     "iopub.execute_input": "2021-08-17T14:05:59.412530Z",
     "iopub.status.busy": "2021-08-17T14:05:59.410701Z",
     "iopub.status.idle": "2021-08-17T14:05:59.431209Z",
     "shell.execute_reply": "2021-08-17T14:05:59.426833Z",
     "shell.execute_reply.started": "2021-08-17T14:05:59.412318Z"
    }
   },
   "outputs": [
    {
     "name": "stdout",
     "output_type": "stream",
     "text": [
      "[0.90142861 0.46398788 0.19731697]\n"
     ]
    }
   ],
   "source": [
    "vector = vector[vector != 0]\n",
    "print(vector)"
   ]
  },
  {
   "cell_type": "markdown",
   "metadata": {},
   "source": [
    "Using integer masks is like slicing, but with custom lists of indices for each dimension:"
   ]
  },
  {
   "cell_type": "code",
   "execution_count": 47,
   "metadata": {
    "execution": {
     "iopub.execute_input": "2021-08-17T14:05:59.436683Z",
     "iopub.status.busy": "2021-08-17T14:05:59.435862Z",
     "iopub.status.idle": "2021-08-17T14:05:59.463326Z",
     "shell.execute_reply": "2021-08-17T14:05:59.460049Z",
     "shell.execute_reply.started": "2021-08-17T14:05:59.436520Z"
    }
   },
   "outputs": [
    {
     "name": "stdout",
     "output_type": "stream",
     "text": [
      "[[1 0 0 0 0]\n",
      " [0 2 0 0 0]\n",
      " [0 0 3 0 0]\n",
      " [0 0 0 4 0]\n",
      " [0 0 0 0 5]]\n",
      "\n",
      "[[1 0]\n",
      " [0 2]]\n"
     ]
    }
   ],
   "source": [
    "arr = np.diag(np.arange(1, 6))\n",
    "\n",
    "print(arr)\n",
    "print()\n",
    "print(arr[:2, [0, 1]])"
   ]
  },
  {
   "cell_type": "markdown",
   "metadata": {
    "execution": {
     "iopub.execute_input": "2020-10-20T08:20:19.449415Z",
     "iopub.status.busy": "2020-10-20T08:20:19.449125Z",
     "iopub.status.idle": "2020-10-20T08:20:19.455974Z",
     "shell.execute_reply": "2020-10-20T08:20:19.454454Z",
     "shell.execute_reply.started": "2020-10-20T08:20:19.449383Z"
    }
   },
   "source": [
    "When using NumPy arrays for indexing, shape of the index is used in the result:"
   ]
  },
  {
   "cell_type": "code",
   "execution_count": 48,
   "metadata": {
    "execution": {
     "iopub.execute_input": "2021-08-17T14:05:59.469638Z",
     "iopub.status.busy": "2021-08-17T14:05:59.468390Z",
     "iopub.status.idle": "2021-08-17T14:05:59.500837Z",
     "shell.execute_reply": "2021-08-17T14:05:59.496411Z",
     "shell.execute_reply.started": "2021-08-17T14:05:59.469518Z"
    }
   },
   "outputs": [
    {
     "name": "stdout",
     "output_type": "stream",
     "text": [
      "[ 1  2  3  4  5  6  7  8  9 10]\n",
      "\n",
      "[[2 4]\n",
      " [5 7]]\n"
     ]
    }
   ],
   "source": [
    "vector = 1 + np.arange(10)\n",
    "print(vector)\n",
    "print()\n",
    "idx = np.array(\n",
    "    [\n",
    "        [1, 3],\n",
    "        [4, 6],\n",
    "    ]\n",
    ")\n",
    "print(vector[idx])"
   ]
  },
  {
   "cell_type": "markdown",
   "metadata": {},
   "source": [
    "<div class=\"alert alert-block alert-info\">\n",
    "    <p style=\"font-weight: bold; font-size:120%;\"><i class=\"fa fa-question-circle\"></i>&nbsp; Exercise</p>\n",
    "\n",
    "1. Experiment with examples above. (What if mask has a different size? Can you combine slicing/lists and NumPy arrays in multi-dim indexing?)\n",
    "2. Write a `matrix_elements_at` function that takes a matrix and list of tuples of (i,j) positons in a matrix and returns a vector of elements at these positions. Test it: `matrix_elements_at(np.diag(range(4)), [(3,3),(2,2),(0,1)])` should return a 3, 2, 0 vector.\n",
    "\n",
    "</div>"
   ]
  },
  {
   "cell_type": "markdown",
   "metadata": {},
   "source": [
    "## Numerical Operations and universal functions (ufuncs)\n",
    "\n",
    "All algebraic operations such as `+` or `*` are element-wise. "
   ]
  },
  {
   "cell_type": "code",
   "execution_count": 49,
   "metadata": {
    "execution": {
     "iopub.execute_input": "2021-08-17T14:05:59.507402Z",
     "iopub.status.busy": "2021-08-17T14:05:59.506393Z",
     "iopub.status.idle": "2021-08-17T14:05:59.535998Z",
     "shell.execute_reply": "2021-08-17T14:05:59.530810Z",
     "shell.execute_reply.started": "2021-08-17T14:05:59.507233Z"
    }
   },
   "outputs": [
    {
     "name": "stdout",
     "output_type": "stream",
     "text": [
      "[[ 0  2  4  6]\n",
      " [ 8 10 12 14]]\n",
      "[[ 0  1  4  9]\n",
      " [16 25 36 49]]\n",
      "[[ 0  1  4  9]\n",
      " [16 25 36 49]]\n"
     ]
    }
   ],
   "source": [
    "vector = np.arange(8).reshape(2, 4)\n",
    "print(vector + vector)\n",
    "print(vector ** 2)\n",
    "print(vector * vector)  # element-wise multiplication!"
   ]
  },
  {
   "cell_type": "markdown",
   "metadata": {},
   "source": [
    "For dot-product and matrix multiplication use `@` or `.dot`:"
   ]
  },
  {
   "cell_type": "code",
   "execution_count": 50,
   "metadata": {
    "execution": {
     "iopub.execute_input": "2021-08-17T14:05:59.544801Z",
     "iopub.status.busy": "2021-08-17T14:05:59.543407Z",
     "iopub.status.idle": "2021-08-17T14:05:59.588800Z",
     "shell.execute_reply": "2021-08-17T14:05:59.583355Z",
     "shell.execute_reply.started": "2021-08-17T14:05:59.544549Z"
    }
   },
   "outputs": [
    {
     "name": "stdout",
     "output_type": "stream",
     "text": [
      "5\n",
      "\n",
      "[[1. 0. 0.]\n",
      " [0. 1. 0.]\n",
      " [0. 0. 1.]]\n",
      "[[1. 1. 1.]\n",
      " [1. 1. 1.]\n",
      " [1. 1. 1.]]\n"
     ]
    }
   ],
   "source": [
    "vector = np.arange(3)\n",
    "print(vector @ vector)  # same as: vector.dot(vector)\n",
    "print()\n",
    "\n",
    "matrix = np.ones((3, 3))\n",
    "mat_id = np.eye(3)\n",
    "print(matrix * mat_id)  # element-wise multiplication\n",
    "print(matrix @ mat_id)  # same as: matrix.dot(mat_id)"
   ]
  },
  {
   "cell_type": "markdown",
   "metadata": {},
   "source": [
    "The benefit of `@` is that more complicated matrix products are more readable. E.g.  $A^T B A$:"
   ]
  },
  {
   "cell_type": "code",
   "execution_count": 78,
   "metadata": {
    "tags": []
   },
   "outputs": [
    {
     "name": "stdout",
     "output_type": "stream",
     "text": [
      "[[ True  True  True]\n",
      " [ True  True  True]\n",
      " [ True  True  True]]\n"
     ]
    }
   ],
   "source": [
    "A = np.random.random(size=(3, 3))\n",
    "B = np.random.random(size=(3, 3))\n",
    "\n",
    "# which one is more readable:???\n",
    "print(A.T @ B @ A == np.dot(np.dot(A.T, B), A))"
   ]
  },
  {
   "cell_type": "markdown",
   "metadata": {},
   "source": [
    "The so called `ufuncs` in `numpy` implement functions such as `sin`, `log`, ... and operate element wise on the elements:"
   ]
  },
  {
   "cell_type": "code",
   "execution_count": 79,
   "metadata": {
    "tags": []
   },
   "outputs": [
    {
     "name": "stdout",
     "output_type": "stream",
     "text": [
      "[[0 1]\n",
      " [2 3]\n",
      " [4 5]]\n",
      "[[ 0.          0.84147098]\n",
      " [ 0.90929743  0.14112001]\n",
      " [-0.7568025  -0.95892427]]\n"
     ]
    }
   ],
   "source": [
    "a = np.arange(6).reshape(3, -1)\n",
    "print(a)\n",
    "print(np.sin(a))"
   ]
  },
  {
   "cell_type": "markdown",
   "metadata": {},
   "source": [
    "## Broadcasting\n",
    "\n",
    "Broadcating performs numerical operations between arrays with different dimensions, e.g., adding a scalar (zero-dimension array) to an array."
   ]
  },
  {
   "cell_type": "code",
   "execution_count": 81,
   "metadata": {
    "tags": []
   },
   "outputs": [
    {
     "name": "stdout",
     "output_type": "stream",
     "text": [
      "[[ 0  1  2  3]\n",
      " [ 4  5  6  7]\n",
      " [ 8  9 10 11]]\n"
     ]
    },
    {
     "data": {
      "text/plain": [
       "array([[17, 18, 19, 20],\n",
       "       [21, 22, 23, 24],\n",
       "       [25, 26, 27, 28]])"
      ]
     },
     "execution_count": 81,
     "metadata": {},
     "output_type": "execute_result"
    }
   ],
   "source": [
    "a = np.arange(12).reshape(3, -1)\n",
    "print(a)\n",
    "a + 17"
   ]
  },
  {
   "cell_type": "markdown",
   "metadata": {},
   "source": [
    "Broadcasting also allows operations of arrays with mixed dimensions > 0:"
   ]
  },
  {
   "cell_type": "code",
   "execution_count": 82,
   "metadata": {
    "tags": []
   },
   "outputs": [
    {
     "name": "stdout",
     "output_type": "stream",
     "text": [
      "[[ 0  1  2  3]\n",
      " [ 4  5  6  7]\n",
      " [ 8  9 10 11]]\n",
      "[[   1   10  100 1000]]\n",
      "(3, 4)\n",
      "(1, 4)\n"
     ]
    }
   ],
   "source": [
    "a = np.arange(12).reshape(3, -1)\n",
    "b = np.array([1, 10, 100, 1000]).reshape(-1, 4)\n",
    "print(a)\n",
    "print(b)\n",
    "print(a.shape)\n",
    "print(b.shape)"
   ]
  },
  {
   "cell_type": "code",
   "execution_count": 83,
   "metadata": {
    "tags": []
   },
   "outputs": [
    {
     "name": "stdout",
     "output_type": "stream",
     "text": [
      "[[   1   11  102 1003]\n",
      " [   5   15  106 1007]\n",
      " [   9   19  110 1011]]\n"
     ]
    }
   ],
   "source": [
    "print(a + b)"
   ]
  },
  {
   "cell_type": "markdown",
   "metadata": {},
   "source": [
    "Here the array `b` was \n",
    "1. first externally \"extended\" to match the shape of `a` by row-wise copying\n",
    "2. and then added element-wise.\n",
    "\n",
    "Another example for broadcasting where we operate row wise:"
   ]
  },
  {
   "cell_type": "code",
   "execution_count": 84,
   "metadata": {
    "tags": []
   },
   "outputs": [
    {
     "name": "stdout",
     "output_type": "stream",
     "text": [
      "[[  1]\n",
      " [ 10]\n",
      " [100]]\n",
      "(3, 1)\n"
     ]
    }
   ],
   "source": [
    "c = np.array([1, 10, 100]).reshape(3, -1)\n",
    "print(c)\n",
    "print(c.shape)"
   ]
  },
  {
   "cell_type": "code",
   "execution_count": 85,
   "metadata": {
    "tags": []
   },
   "outputs": [
    {
     "name": "stdout",
     "output_type": "stream",
     "text": [
      "[[   0    1    2    3]\n",
      " [  40   50   60   70]\n",
      " [ 800  900 1000 1100]]\n"
     ]
    }
   ],
   "source": [
    "print(a * c)"
   ]
  },
  {
   "cell_type": "markdown",
   "metadata": {},
   "source": [
    "In order to understand broadcasting please read the introduction and the rules of broadcasting from: https://jakevdp.github.io/PythonDataScienceHandbook/02.05-computation-on-arrays-broadcasting.html"
   ]
  },
  {
   "cell_type": "markdown",
   "metadata": {},
   "source": [
    "However, broadcasting cannot be applied to any two different dimensions."
   ]
  },
  {
   "cell_type": "code",
   "execution_count": 86,
   "metadata": {
    "tags": [
     "raises-exception"
    ]
   },
   "outputs": [
    {
     "name": "stdout",
     "output_type": "stream",
     "text": [
      "[[ 1 10]]\n"
     ]
    },
    {
     "ename": "ValueError",
     "evalue": "operands could not be broadcast together with shapes (3,4) (1,2) ",
     "output_type": "error",
     "traceback": [
      "\u001b[0;31m---------------------------------------------------------------------------\u001b[0m",
      "\u001b[0;31mValueError\u001b[0m                                Traceback (most recent call last)",
      "\u001b[0;32m/var/folders/k8/zfp7dvcs1m326gz1brql1tv80000gn/T/ipykernel_74638/3938151735.py\u001b[0m in \u001b[0;36m<module>\u001b[0;34m\u001b[0m\n\u001b[1;32m      1\u001b[0m \u001b[0mc\u001b[0m \u001b[0;34m=\u001b[0m \u001b[0mnp\u001b[0m\u001b[0;34m.\u001b[0m\u001b[0marray\u001b[0m\u001b[0;34m(\u001b[0m\u001b[0;34m[\u001b[0m\u001b[0;36m1\u001b[0m\u001b[0;34m,\u001b[0m \u001b[0;36m10\u001b[0m\u001b[0;34m]\u001b[0m\u001b[0;34m)\u001b[0m\u001b[0;34m.\u001b[0m\u001b[0mreshape\u001b[0m\u001b[0;34m(\u001b[0m\u001b[0;36m1\u001b[0m\u001b[0;34m,\u001b[0m \u001b[0;34m-\u001b[0m\u001b[0;36m1\u001b[0m\u001b[0;34m)\u001b[0m\u001b[0;34m\u001b[0m\u001b[0;34m\u001b[0m\u001b[0m\n\u001b[1;32m      2\u001b[0m \u001b[0mprint\u001b[0m\u001b[0;34m(\u001b[0m\u001b[0mc\u001b[0m\u001b[0;34m)\u001b[0m\u001b[0;34m\u001b[0m\u001b[0;34m\u001b[0m\u001b[0m\n\u001b[0;32m----> 3\u001b[0;31m \u001b[0ma\u001b[0m \u001b[0;34m+\u001b[0m \u001b[0mc\u001b[0m\u001b[0;34m\u001b[0m\u001b[0;34m\u001b[0m\u001b[0m\n\u001b[0m",
      "\u001b[0;31mValueError\u001b[0m: operands could not be broadcast together with shapes (3,4) (1,2) "
     ]
    }
   ],
   "source": [
    "c = np.array([1, 10]).reshape(1, -1)\n",
    "print(c)\n",
    "a + c"
   ]
  },
  {
   "cell_type": "markdown",
   "metadata": {},
   "source": [
    "## Further reading\n",
    "\n",
    "* https://numpy.org/devdocs/user/absolute_beginners.html\n",
    "* https://numpy.org/devdocs/user/basics.html\n",
    "* https://jakevdp.github.io/PythonDataScienceHandbook/02.00-introduction-to-numpy.html\n",
    "* https://numpy.org/\n",
    "* Harris, C.R., Millman, K.J., van der Walt, S.J. et al. Array programming with NumPy. Nature 585, 357–362 (2020). https://doi.org/10.1038/s41586-020-2649-2"
   ]
  },
  {
   "cell_type": "markdown",
   "metadata": {},
   "source": [
    "# Pandas\n",
    "\n",
    "`pandas` is a flexible and powerful data analysis / manipulation library for Python, providing labeled data structures similar to R `data.frame` objects, statistical functions, and much more https://pandas.pydata.org\n",
    "\n",
    "Pandas data frames are:\n",
    "\n",
    "* a non-homogeneous tabular data structure (called data frames), contrary to 2D `numpy` arrays each column in a `data.frame` can have a different type.\n",
    "* built using NumPy arrays internaly, so also vectorized and (C) fast, but also lazy,\n",
    "* convenient to transform, summarize, and plot.\n"
   ]
  },
  {
   "cell_type": "code",
   "execution_count": 87,
   "metadata": {
    "tags": []
   },
   "outputs": [],
   "source": [
    "import pandas as pd  # Pandas import convention\n",
    "\n",
    "# Inline, sharp plots\n",
    "%matplotlib inline\n",
    "%config InlineBackend.figure_format = 'retina'"
   ]
  },
  {
   "cell_type": "markdown",
   "metadata": {},
   "source": [
    "## Read file"
   ]
  },
  {
   "cell_type": "code",
   "execution_count": 88,
   "metadata": {
    "tags": []
   },
   "outputs": [
    {
     "name": "stdout",
     "output_type": "stream",
     "text": [
      "\"\";\"Gender\";\"FSIQ\";\"VIQ\";\"PIQ\";\"Weight\";\"Height\";\"MRI_Count\"\n",
      "\"1\";\"Female\";133;132;124;\"118\";\"64.5\";816932\n",
      "\"2\";\"Male\";140;150;124;\".\";\"72.5\";1001121\n",
      "\"3\";\"Male\";139;123;150;\"143\";\"73.3\";1038437\n",
      "\"4\";\"Male\";133;129;128;\"172\";\"68.8\";965353\n",
      "\"5\";\"Female\";137;132;134;\"147\";\"65.0\";951545\n"
     ]
    }
   ],
   "source": [
    "# Brain size and weight and IQ data (Willerman et al. 1991)\n",
    "# Downloaded from Scipy Lecture Notes on 30. Jun 2019:\n",
    "# http://scipy-lectures.org/_downloads/brain_size.csv\n",
    "#\n",
    "\n",
    "# no need to undestand the following line, it will show the first 6 lines\n",
    "# of the file data/brain_size.csv\n",
    "!head -n 6 data/brain_size.csv"
   ]
  },
  {
   "cell_type": "markdown",
   "metadata": {},
   "source": [
    "Pandas provides the `read_csv()` function to read data from a CSV file into a pandas DataFrame. In addition to CSV, Pandas also support several file formats, e.g., Excel, SQL, JSON, Parquet, etc. Each reading functions has the prefix `read_*`."
   ]
  },
  {
   "cell_type": "code",
   "execution_count": 89,
   "metadata": {
    "tags": []
   },
   "outputs": [],
   "source": [
    "df = pd.read_csv(\"data/brain_size.csv\", sep=\";\", na_values=\".\", index_col=0)"
   ]
  },
  {
   "cell_type": "markdown",
   "metadata": {
    "execution": {
     "iopub.execute_input": "2020-10-26T13:53:53.826620Z",
     "iopub.status.busy": "2020-10-26T13:53:53.826331Z",
     "iopub.status.idle": "2020-10-26T13:53:53.831487Z",
     "shell.execute_reply": "2020-10-26T13:53:53.830153Z",
     "shell.execute_reply.started": "2020-10-26T13:53:53.826582Z"
    }
   },
   "source": [
    "To see the first 5 rows of a pandas DataFrame:"
   ]
  },
  {
   "cell_type": "code",
   "execution_count": 90,
   "metadata": {
    "tags": []
   },
   "outputs": [
    {
     "data": {
      "text/html": [
       "<div>\n",
       "<style scoped>\n",
       "    .dataframe tbody tr th:only-of-type {\n",
       "        vertical-align: middle;\n",
       "    }\n",
       "\n",
       "    .dataframe tbody tr th {\n",
       "        vertical-align: top;\n",
       "    }\n",
       "\n",
       "    .dataframe thead th {\n",
       "        text-align: right;\n",
       "    }\n",
       "</style>\n",
       "<table border=\"1\" class=\"dataframe\">\n",
       "  <thead>\n",
       "    <tr style=\"text-align: right;\">\n",
       "      <th></th>\n",
       "      <th>Gender</th>\n",
       "      <th>FSIQ</th>\n",
       "      <th>VIQ</th>\n",
       "      <th>PIQ</th>\n",
       "      <th>Weight</th>\n",
       "      <th>Height</th>\n",
       "      <th>MRI_Count</th>\n",
       "    </tr>\n",
       "  </thead>\n",
       "  <tbody>\n",
       "    <tr>\n",
       "      <th>1</th>\n",
       "      <td>Female</td>\n",
       "      <td>133</td>\n",
       "      <td>132</td>\n",
       "      <td>124</td>\n",
       "      <td>118.0</td>\n",
       "      <td>64.5</td>\n",
       "      <td>816932</td>\n",
       "    </tr>\n",
       "    <tr>\n",
       "      <th>2</th>\n",
       "      <td>Male</td>\n",
       "      <td>140</td>\n",
       "      <td>150</td>\n",
       "      <td>124</td>\n",
       "      <td>NaN</td>\n",
       "      <td>72.5</td>\n",
       "      <td>1001121</td>\n",
       "    </tr>\n",
       "    <tr>\n",
       "      <th>3</th>\n",
       "      <td>Male</td>\n",
       "      <td>139</td>\n",
       "      <td>123</td>\n",
       "      <td>150</td>\n",
       "      <td>143.0</td>\n",
       "      <td>73.3</td>\n",
       "      <td>1038437</td>\n",
       "    </tr>\n",
       "    <tr>\n",
       "      <th>4</th>\n",
       "      <td>Male</td>\n",
       "      <td>133</td>\n",
       "      <td>129</td>\n",
       "      <td>128</td>\n",
       "      <td>172.0</td>\n",
       "      <td>68.8</td>\n",
       "      <td>965353</td>\n",
       "    </tr>\n",
       "    <tr>\n",
       "      <th>5</th>\n",
       "      <td>Female</td>\n",
       "      <td>137</td>\n",
       "      <td>132</td>\n",
       "      <td>134</td>\n",
       "      <td>147.0</td>\n",
       "      <td>65.0</td>\n",
       "      <td>951545</td>\n",
       "    </tr>\n",
       "  </tbody>\n",
       "</table>\n",
       "</div>"
      ],
      "text/plain": [
       "   Gender  FSIQ  VIQ  PIQ  Weight  Height  MRI_Count\n",
       "1  Female   133  132  124   118.0    64.5     816932\n",
       "2    Male   140  150  124     NaN    72.5    1001121\n",
       "3    Male   139  123  150   143.0    73.3    1038437\n",
       "4    Male   133  129  128   172.0    68.8     965353\n",
       "5  Female   137  132  134   147.0    65.0     951545"
      ]
     },
     "execution_count": 90,
     "metadata": {},
     "output_type": "execute_result"
    }
   ],
   "source": [
    "df.head(5)"
   ]
  },
  {
   "cell_type": "markdown",
   "metadata": {},
   "source": [
    "and for the last 5 rows:"
   ]
  },
  {
   "cell_type": "code",
   "execution_count": 91,
   "metadata": {
    "tags": []
   },
   "outputs": [
    {
     "data": {
      "text/html": [
       "<div>\n",
       "<style scoped>\n",
       "    .dataframe tbody tr th:only-of-type {\n",
       "        vertical-align: middle;\n",
       "    }\n",
       "\n",
       "    .dataframe tbody tr th {\n",
       "        vertical-align: top;\n",
       "    }\n",
       "\n",
       "    .dataframe thead th {\n",
       "        text-align: right;\n",
       "    }\n",
       "</style>\n",
       "<table border=\"1\" class=\"dataframe\">\n",
       "  <thead>\n",
       "    <tr style=\"text-align: right;\">\n",
       "      <th></th>\n",
       "      <th>Gender</th>\n",
       "      <th>FSIQ</th>\n",
       "      <th>VIQ</th>\n",
       "      <th>PIQ</th>\n",
       "      <th>Weight</th>\n",
       "      <th>Height</th>\n",
       "      <th>MRI_Count</th>\n",
       "    </tr>\n",
       "  </thead>\n",
       "  <tbody>\n",
       "    <tr>\n",
       "      <th>36</th>\n",
       "      <td>Female</td>\n",
       "      <td>133</td>\n",
       "      <td>129</td>\n",
       "      <td>128</td>\n",
       "      <td>153.0</td>\n",
       "      <td>66.5</td>\n",
       "      <td>948066</td>\n",
       "    </tr>\n",
       "    <tr>\n",
       "      <th>37</th>\n",
       "      <td>Male</td>\n",
       "      <td>140</td>\n",
       "      <td>150</td>\n",
       "      <td>124</td>\n",
       "      <td>144.0</td>\n",
       "      <td>70.5</td>\n",
       "      <td>949395</td>\n",
       "    </tr>\n",
       "    <tr>\n",
       "      <th>38</th>\n",
       "      <td>Female</td>\n",
       "      <td>88</td>\n",
       "      <td>86</td>\n",
       "      <td>94</td>\n",
       "      <td>139.0</td>\n",
       "      <td>64.5</td>\n",
       "      <td>893983</td>\n",
       "    </tr>\n",
       "    <tr>\n",
       "      <th>39</th>\n",
       "      <td>Male</td>\n",
       "      <td>81</td>\n",
       "      <td>90</td>\n",
       "      <td>74</td>\n",
       "      <td>148.0</td>\n",
       "      <td>74.0</td>\n",
       "      <td>930016</td>\n",
       "    </tr>\n",
       "    <tr>\n",
       "      <th>40</th>\n",
       "      <td>Male</td>\n",
       "      <td>89</td>\n",
       "      <td>91</td>\n",
       "      <td>89</td>\n",
       "      <td>179.0</td>\n",
       "      <td>75.5</td>\n",
       "      <td>935863</td>\n",
       "    </tr>\n",
       "  </tbody>\n",
       "</table>\n",
       "</div>"
      ],
      "text/plain": [
       "    Gender  FSIQ  VIQ  PIQ  Weight  Height  MRI_Count\n",
       "36  Female   133  129  128   153.0    66.5     948066\n",
       "37    Male   140  150  124   144.0    70.5     949395\n",
       "38  Female    88   86   94   139.0    64.5     893983\n",
       "39    Male    81   90   74   148.0    74.0     930016\n",
       "40    Male    89   91   89   179.0    75.5     935863"
      ]
     },
     "execution_count": 91,
     "metadata": {},
     "output_type": "execute_result"
    }
   ],
   "source": [
    "df.tail(5)"
   ]
  },
  {
   "cell_type": "markdown",
   "metadata": {},
   "source": [
    "A data frame allows fast indexing along both the columns and rows denoted by the `columns` and `index` attributes, respectively. The columns and rows are labeled such that one can use the names. Each column in a data frame is a `pd.Series` and is very similar to a NumPy 1D array, with the difference that the positional index is also labeled."
   ]
  },
  {
   "cell_type": "code",
   "execution_count": 92,
   "metadata": {
    "tags": []
   },
   "outputs": [
    {
     "name": "stdout",
     "output_type": "stream",
     "text": [
      "shape: (40, 7)\n",
      "\n",
      "column labels:\n",
      "Index(['Gender', 'FSIQ', 'VIQ', 'PIQ', 'Weight', 'Height', 'MRI_Count'], dtype='object')\n",
      "\n",
      "column types:\n",
      "Gender        object\n",
      "FSIQ           int64\n",
      "VIQ            int64\n",
      "PIQ            int64\n",
      "Weight       float64\n",
      "Height       float64\n",
      "MRI_Count      int64\n",
      "dtype: object\n",
      "\n",
      "row labels:\n",
      "Int64Index([ 1,  2,  3,  4,  5,  6,  7,  8,  9, 10, 11, 12, 13, 14, 15, 16, 17,\n",
      "            18, 19, 20, 21, 22, 23, 24, 25, 26, 27, 28, 29, 30, 31, 32, 33, 34,\n",
      "            35, 36, 37, 38, 39, 40],\n",
      "           dtype='int64')\n"
     ]
    }
   ],
   "source": [
    "print(\"shape:\", df.shape)\n",
    "print()\n",
    "print(\"column labels:\")\n",
    "print(df.columns)\n",
    "print()\n",
    "print(\"column types:\")\n",
    "print(df.dtypes)\n",
    "print()\n",
    "print(\"row labels:\")\n",
    "print(df.index)"
   ]
  },
  {
   "cell_type": "markdown",
   "metadata": {},
   "source": [
    "**Side note**: Pandas has a great date-time support, including indexing using date-time ranges or groups. See, e.g., https://jakevdp.github.io/PythonDataScienceHandbook/03.11-working-with-time-series.html#Pandas-Time-Series:-Indexing-by-Time"
   ]
  },
  {
   "cell_type": "markdown",
   "metadata": {},
   "source": [
    "## Indexing and Slicing"
   ]
  },
  {
   "cell_type": "markdown",
   "metadata": {},
   "source": [
    "Pandas DataFrames support 3 types of multi-axis indexing:\n",
    "1. `.loc[]` for label based\n",
    "2. `.iloc[]` for integer position based (similar to Python)\n",
    "3. `[]` \n",
    "\n",
    "\n",
    "**Warning**: `[]` can introduce confusion so we will skip it."
   ]
  },
  {
   "cell_type": "code",
   "execution_count": 93,
   "metadata": {
    "tags": []
   },
   "outputs": [
    {
     "name": "stdout",
     "output_type": "stream",
     "text": [
      "first three rows, column with index 0:\n",
      "\n",
      "1    Female\n",
      "2      Male\n",
      "3      Male\n",
      "Name: Gender, dtype: object\n",
      "\n",
      "rows 1..3, column with name 'Gender':\n",
      "\n",
      "1    Female\n",
      "2      Male\n",
      "3      Male\n",
      "Name: Gender, dtype: object\n",
      "\n",
      "<class 'pandas.core.series.Series'>\n",
      "<class 'pandas.core.frame.DataFrame'>\n"
     ]
    }
   ],
   "source": [
    "print(\"first three rows, column with index 0:\")\n",
    "print()\n",
    "print(df.iloc[:3, 0].head())\n",
    "print()\n",
    "\n",
    "print(\"rows 1..3, column with name 'Gender':\")\n",
    "print()\n",
    "# end index/name IS INCLUSIVE!!!!!\n",
    "\n",
    "print(df.loc[1:3, \"Gender\"].head())\n",
    "print()\n",
    "\n",
    "print(type(df.loc[:, \"Gender\"]))  # a single column is a series\n",
    "print(type(df.loc[:, [\"Gender\"]]))  # a list of columns is a data frame"
   ]
  },
  {
   "cell_type": "code",
   "execution_count": 94,
   "metadata": {
    "tags": []
   },
   "outputs": [
    {
     "name": "stdout",
     "output_type": "stream",
     "text": [
      "1    Female\n",
      "2      Male\n",
      "3      Male\n",
      "Name: Gender, dtype: object\n",
      "\n",
      "   Gender  Weight\n",
      "1  Female   118.0\n",
      "2    Male     NaN\n",
      "3    Male   143.0\n",
      "\n"
     ]
    }
   ],
   "source": [
    "# access col as attribute as long has a valid name\n",
    "print(df.Gender.iloc[:3])\n",
    "print()\n",
    "# access multilple cols\n",
    "print(df.loc[:, [\"Gender\", \"Weight\"]].iloc[:3, :])\n",
    "print()"
   ]
  },
  {
   "cell_type": "markdown",
   "metadata": {},
   "source": [
    "To avoid confusion, for slicing and indexing using row (and columns) names or indices best use, respectively, loc or iloc properties:"
   ]
  },
  {
   "cell_type": "code",
   "execution_count": 95,
   "metadata": {
    "tags": []
   },
   "outputs": [
    {
     "name": "stdout",
     "output_type": "stream",
     "text": [
      "   Gender  FSIQ  VIQ  PIQ  Weight\n",
      "1  Female   133  132  124   118.0\n",
      "2    Male   140  150  124     NaN\n",
      "3    Male   139  123  150   143.0\n",
      "\n",
      "   Gender  FSIQ  VIQ  PIQ  Weight\n",
      "1  Female   133  132  124   118.0\n",
      "2    Male   140  150  124     NaN\n",
      "3    Male   139  123  150   143.0\n",
      "\n",
      "True\n"
     ]
    }
   ],
   "source": [
    "print(df.loc[:3, \"Gender\":\"Weight\"])  # use \"labels\", so :3 == [1, 2, 3]\n",
    "print()\n",
    "print(df.iloc[:3, :-2])  # use Python indexing, so :3 == [0, 1, 2]\n",
    "print()\n",
    "print(all(df.loc[1, :] == df.iloc[0, :]))"
   ]
  },
  {
   "cell_type": "markdown",
   "metadata": {},
   "source": [
    "## Fancy indexing\n",
    "\n",
    "Works as in NumPy:"
   ]
  },
  {
   "cell_type": "code",
   "execution_count": 96,
   "metadata": {
    "tags": []
   },
   "outputs": [
    {
     "name": "stdout",
     "output_type": "stream",
     "text": [
      "4       Male\n",
      "8     Female\n",
      "10      Male\n",
      "12      Male\n",
      "13      Male\n",
      "14    Female\n",
      "18      Male\n",
      "20      Male\n",
      "22      Male\n",
      "26      Male\n",
      "28      Male\n",
      "30    Female\n",
      "32      Male\n",
      "33      Male\n",
      "34      Male\n",
      "36    Female\n",
      "40      Male\n",
      "Name: Gender, dtype: object\n"
     ]
    }
   ],
   "source": [
    "print(df.loc[df.Weight > 150, \"Gender\"])"
   ]
  },
  {
   "cell_type": "markdown",
   "metadata": {},
   "source": [
    "Bool masks index by rows, same as in slicing:"
   ]
  },
  {
   "cell_type": "code",
   "execution_count": 97,
   "metadata": {
    "tags": []
   },
   "outputs": [
    {
     "data": {
      "text/plain": [
       "13"
      ]
     },
     "execution_count": 97,
     "metadata": {},
     "output_type": "execute_result"
    }
   ],
   "source": [
    "len(df.loc[(df.Weight > 150) & (df.Gender == \"Male\"), :])"
   ]
  },
  {
   "cell_type": "markdown",
   "metadata": {},
   "source": [
    "## More about Pandas \n",
    "\n",
    "Pandas offers data structures and operations for manipulating numerical tables and time series:\n",
    "\n",
    "* A fast and efficient DataFrame object for data manipulation with integrated indexing;\n",
    "* Tools for reading and writing data between in-memory data structures and different formats: CSV and text files, Microsoft Excel, SQL databases, and the fast HDF5 format;\n",
    "* Intelligent data alignment and integrated handling of missing data: gain automatic label-based alignment in computations and easily manipulate messy data into an orderly form;\n",
    "* Flexible reshaping and pivoting of data sets;\n",
    "* Intelligent label-based slicing, fancy indexing, and subsetting of large data sets;\n",
    "* Columns can be inserted and deleted from data structures for size mutability;\n",
    "* Aggregating or transforming data with a powerful group by engine allowing split-apply-combine operations on data sets;\n",
    "* High performance merging and joining of data sets;\n",
    "* Hierarchical axis indexing provides an intuitive way of working with high-dimensional data in a lower-dimensional data structure;\n",
    "* Time series-functionality: date range generation and frequency conversion, moving window statistics, date shifting and lagging. Even create domain-specific time offsets and join time series without losing data;\n",
    "* Highly optimized for performance, with critical code paths written in Cython or C.\n",
    "* Python with pandas is in use in a wide variety of academic and commercial domains, including Finance, Neuroscience, Economics, Statistics, Advertising, Web Analytics, and more."
   ]
  },
  {
   "cell_type": "markdown",
   "metadata": {},
   "source": [
    "## Further reading\n",
    "\n",
    "* https://pandas.pydata.org/pandas-docs/stable/user_guide/10min.html\n",
    "* https://pandas.pydata.org/pandas-docs/stable/user_guide/index.html\n",
    "* https://jakevdp.github.io/PythonDataScienceHandbook/03.00-introduction-to-pandas.html\n",
    "* https://pandas.pydata.org/\n",
    "* Wes McKinney, Python for Data Analysis: Data Wrangling with Pandas, NumPy, and IPython 2nd Edition (2018); ISBN13: 9781491957660, ISBN10: 1491957662"
   ]
  }
 ],
 "metadata": {
  "kernelspec": {
   "display_name": "Python 3 (ipykernel)",
   "language": "python",
   "name": "python3"
  },
  "language_info": {
   "codemirror_mode": {
    "name": "ipython",
    "version": 3
   },
   "file_extension": ".py",
   "mimetype": "text/x-python",
   "name": "python",
   "nbconvert_exporter": "python",
   "pygments_lexer": "ipython3",
   "version": "3.9.5"
  },
  "toc-autonumbering": true
 },
 "nbformat": 4,
 "nbformat_minor": 4
}
